{
 "cells": [
  {
   "cell_type": "markdown",
   "metadata": {},
   "source": [
    "![title](blackfriday.png)\n",
    "\n",
    "\n",
    "# Predicting The Amount Of Purchase On Black Friday\n",
    "##### Minh Truong, Yunhan Bai, David Hood \n",
    "### -----------------------------------------------------------------------------------------------------------------------------------------------------------------\n"
   ]
  },
  {
   "cell_type": "markdown",
   "metadata": {},
   "source": [
    "# Table Of Contents:\n",
    "<ul>\n",
    "    <li><a href=\"#intro\">Introduction</a></li>\n",
    "    <li><a href=\"#1\">Get Started With Data</a></li>\n",
    "    <li><a href=\"#2\">Tidying and Modifying Data</a></li>\n",
    "    <li><a href=\"#3\">Exploratory Data Analysis (EDA)</a>\n",
    "        <ul>\n",
    "            <li><a href=\"#4\">Gender</a></li>\n",
    "            <li><a href=\"#5\">Age</a></li>\n",
    "            <li><a href=\"#6\">Frequency Purchase</a></li>\n",
    "            <li><a href=\"#7\">Top 5 Selling</a></li>\n",
    "            <li><a href=\"#8\">Product Category</a></li>\n",
    "        </ul>\n",
    "    </li>\n",
    "    <li><a href=\"#hypothesis\">Hypothesis Testing</a></li>\n",
    "    <li><a href=\"#ANOVA\">Analysis of Variance</a></li>\n",
    "    <li><a href=\"#9\">Linear Regression</a></li>\n",
    "    <li><a href=\"#10\">Logistic Regression</a></li>\n",
    "    <li><a href=\"#conclusion\">Conclusion</a></li>\n",
    "</ul>\n"
   ]
  },
  {
   "cell_type": "markdown",
   "metadata": {},
   "source": [
    "# <section id=\"intro\">Introduction</section>\n",
    "<br>\n",
    "The <mark>first recorded use</mark> of the term “Black Friday” was applied not to holiday shopping but to <a href=\"https://www.history.com/news/whats-the-real-history-of-black-friday\">financial crisis</a>: specifically, the crash of the U.S. gold market on September 24, 1869. Two notoriously ruthless Wall Street financiers, Jay Gould and Jim Fisk, worked together to buy up as much as they could of the nation’s gold, hoping to drive the price sky-high and sell it for astonishing profits. On that Friday in September, the conspiracy finally unraveled, sending the stock market into free-fall and bankrupting everyone from Wall Street barons to farmers.\n",
    "<br><br>\n",
    "<mark>In recent years</mark>, another myth has surfaced that gives a particularly ugly twist to the tradition, claiming that back in the 1800s Southern plantation owners could buy slaves at a discount on the day after Thanksgiving. Though this version of Black Friday’s roots has understandably led some to call for a boycott of the retail holiday, it has no basis in fact.\n",
    "<br><br>\n",
    "The <strong>\"Black Friday\"</strong> we know today is a much happier occasion then the two above... <br>"
   ]
  },
  {
   "cell_type": "markdown",
   "metadata": {},
   "source": [
    "<img src='Crazybf2.png' width=600 height=300>"
   ]
  },
  {
   "cell_type": "markdown",
   "metadata": {},
   "source": [
    "<br>though, maybe just as violent. After the pumpkin pie, families all over America make there way to their local retailers to spend absurd amounts of money for the upcoming holiday season.\n",
    "<br><br>\n",
    "In this tutorial, our <mark>goal</mark> is to advertise the right products to the right people. Our strategy is to learn different behaviors of custumers on Black Friday to see what they really like and what they would like to buy on Black Friday. Also, we want to learn from the past purchases to recognize the pattern and likelihood in a certain group of people in order to increase the profit on Black Friday. Moreover, we would like to know which product categories are purchased the most and by which groups of people has bought the most for that particular product category."
   ]
  },
  {
   "cell_type": "markdown",
   "metadata": {},
   "source": [
    "# <section id=\"1\"> Getting Started with the Data</section>\n",
    "<br>We make use of Python 3 along with a few imported libraries: <a href=\"http://pandas.pydata.org/pandas-docs/stable/\">pandas</a>, <a href=\"http://www.numpy.org/\">numpy</a>, <a href=\"https://matplotlib.org/tutorials/index.html\">matplotlib</a>, <a href=\"https://scikit-learn.org/stable/\">scikit-learn</a>, <a href=\"https://seaborn.pydata.org/\">seaborn</a>, and more."
   ]
  },
  {
   "cell_type": "code",
   "execution_count": 65,
   "metadata": {},
   "outputs": [],
   "source": [
    "# Suppress FutureWarning\n",
    "import warnings\n",
    "warnings.simplefilter(action='ignore', category=FutureWarning)\n",
    "# Necessary libraries and imports to complete this tutorial\n",
    "import re\n",
    "import pandas as pd\n",
    "import numpy as np\n",
    "import matplotlib.pyplot as plt\n",
    "import seaborn as sns\n",
    "import statsmodels.api as sm\n",
    "from scipy import stats\n",
    "from scipy.stats import f\n",
    "from statsmodels.formula.api import ols\n",
    "from sklearn import linear_model, preprocessing, model_selection\n",
    "from sklearn.preprocessing import LabelEncoder\n",
    "from sklearn.cross_validation import train_test_split\n",
    "from sklearn.metrics import classification_report\n",
    "from mpl_toolkits.mplot3d import Axes3D"
   ]
  },
  {
   "cell_type": "markdown",
   "metadata": {},
   "source": [
    "# Reading the data"
   ]
  },
  {
   "cell_type": "code",
   "execution_count": 2,
   "metadata": {},
   "outputs": [
    {
     "data": {
      "text/html": [
       "<div>\n",
       "<style scoped>\n",
       "    .dataframe tbody tr th:only-of-type {\n",
       "        vertical-align: middle;\n",
       "    }\n",
       "\n",
       "    .dataframe tbody tr th {\n",
       "        vertical-align: top;\n",
       "    }\n",
       "\n",
       "    .dataframe thead th {\n",
       "        text-align: right;\n",
       "    }\n",
       "</style>\n",
       "<table border=\"1\" class=\"dataframe\">\n",
       "  <thead>\n",
       "    <tr style=\"text-align: right;\">\n",
       "      <th></th>\n",
       "      <th>User_ID</th>\n",
       "      <th>Product_ID</th>\n",
       "      <th>Gender</th>\n",
       "      <th>Age</th>\n",
       "      <th>Occupation</th>\n",
       "      <th>City_Category</th>\n",
       "      <th>Stay_In_Current_City_Years</th>\n",
       "      <th>Marital_Status</th>\n",
       "      <th>Product_Category_1</th>\n",
       "      <th>Product_Category_2</th>\n",
       "      <th>Product_Category_3</th>\n",
       "      <th>Purchase</th>\n",
       "      <th>Mean_age</th>\n",
       "    </tr>\n",
       "  </thead>\n",
       "  <tbody>\n",
       "    <tr>\n",
       "      <th>0</th>\n",
       "      <td>1000001</td>\n",
       "      <td>P00069042</td>\n",
       "      <td>F</td>\n",
       "      <td>0-17</td>\n",
       "      <td>10</td>\n",
       "      <td>A</td>\n",
       "      <td>2</td>\n",
       "      <td>0</td>\n",
       "      <td>3</td>\n",
       "      <td>NaN</td>\n",
       "      <td>NaN</td>\n",
       "      <td>8370</td>\n",
       "      <td>8.5</td>\n",
       "    </tr>\n",
       "    <tr>\n",
       "      <th>1</th>\n",
       "      <td>1000001</td>\n",
       "      <td>P00248942</td>\n",
       "      <td>F</td>\n",
       "      <td>0-17</td>\n",
       "      <td>10</td>\n",
       "      <td>A</td>\n",
       "      <td>2</td>\n",
       "      <td>0</td>\n",
       "      <td>1</td>\n",
       "      <td>6.0</td>\n",
       "      <td>14.0</td>\n",
       "      <td>15200</td>\n",
       "      <td>8.5</td>\n",
       "    </tr>\n",
       "    <tr>\n",
       "      <th>2</th>\n",
       "      <td>1000001</td>\n",
       "      <td>P00087842</td>\n",
       "      <td>F</td>\n",
       "      <td>0-17</td>\n",
       "      <td>10</td>\n",
       "      <td>A</td>\n",
       "      <td>2</td>\n",
       "      <td>0</td>\n",
       "      <td>12</td>\n",
       "      <td>NaN</td>\n",
       "      <td>NaN</td>\n",
       "      <td>1422</td>\n",
       "      <td>8.5</td>\n",
       "    </tr>\n",
       "    <tr>\n",
       "      <th>3</th>\n",
       "      <td>1000001</td>\n",
       "      <td>P00085442</td>\n",
       "      <td>F</td>\n",
       "      <td>0-17</td>\n",
       "      <td>10</td>\n",
       "      <td>A</td>\n",
       "      <td>2</td>\n",
       "      <td>0</td>\n",
       "      <td>12</td>\n",
       "      <td>14.0</td>\n",
       "      <td>NaN</td>\n",
       "      <td>1057</td>\n",
       "      <td>8.5</td>\n",
       "    </tr>\n",
       "    <tr>\n",
       "      <th>4</th>\n",
       "      <td>1000002</td>\n",
       "      <td>P00285442</td>\n",
       "      <td>M</td>\n",
       "      <td>55+</td>\n",
       "      <td>16</td>\n",
       "      <td>C</td>\n",
       "      <td>4</td>\n",
       "      <td>0</td>\n",
       "      <td>8</td>\n",
       "      <td>NaN</td>\n",
       "      <td>NaN</td>\n",
       "      <td>7969</td>\n",
       "      <td>67.5</td>\n",
       "    </tr>\n",
       "  </tbody>\n",
       "</table>\n",
       "</div>"
      ],
      "text/plain": [
       "   User_ID Product_ID Gender   Age  Occupation City_Category  \\\n",
       "0  1000001  P00069042      F  0-17          10             A   \n",
       "1  1000001  P00248942      F  0-17          10             A   \n",
       "2  1000001  P00087842      F  0-17          10             A   \n",
       "3  1000001  P00085442      F  0-17          10             A   \n",
       "4  1000002  P00285442      M   55+          16             C   \n",
       "\n",
       "   Stay_In_Current_City_Years  Marital_Status  Product_Category_1  \\\n",
       "0                           2               0                   3   \n",
       "1                           2               0                   1   \n",
       "2                           2               0                  12   \n",
       "3                           2               0                  12   \n",
       "4                           4               0                   8   \n",
       "\n",
       "   Product_Category_2  Product_Category_3  Purchase  Mean_age  \n",
       "0                 NaN                 NaN      8370       8.5  \n",
       "1                 6.0                14.0     15200       8.5  \n",
       "2                 NaN                 NaN      1422       8.5  \n",
       "3                14.0                 NaN      1057       8.5  \n",
       "4                 NaN                 NaN      7969      67.5  "
      ]
     },
     "execution_count": 2,
     "metadata": {},
     "output_type": "execute_result"
    }
   ],
   "source": [
    "blackfriday = pd.read_csv(\"blackfriday.csv\")\n",
    "#Making Mean_age so for graphing in later sections\n",
    "blackfriday['Mean_age'] = blackfriday['Age'].map({'0-17': 8.5, '18-25': 21.5,'26-35': 30.5, '36-45': 40.5,'46-50': 48, '51-55': 53, '55+': 67.5})\n",
    "#Modify the \"Stay_In_Current_City_Years\" column, so assume that anyone that live more than 4 years is just 4 years.\n",
    "blackfriday['Stay_In_Current_City_Years'] = blackfriday['Stay_In_Current_City_Years'].map({'0': 0, '1': 1, '2': 2, '3': 3,'4+': 4})\n",
    "blackfriday.head()"
   ]
  },
  {
   "cell_type": "markdown",
   "metadata": {},
   "source": [
    "In the above dataset, there are 12 columns in total. We have: <br>\n",
    "Column 1: User_ID <br>\n",
    "Column 2: Product_ID  <br>\n",
    "Column 3: Gender (Male and Female) <br>\n",
    "Column 4: Age (Age in bins) <br>\n",
    "Column 5: Occupation <br>\n",
    "Column 6: City_Category (A, B, C) <br>\n",
    "Column 7: Stay_In_Current_City_Years (Number of years stay in current city) <br>\n",
    "Column 8: Marital_Status (0 for single, 1 for married) <br>\n",
    "Column 9: Product_Category_1 <br>\n",
    "Column 10: Product_Category_2 <br>\n",
    "Column 11: Product_Category_3 <br>\n",
    "Column 12: Purchase (Purchase amount in Dollars) <br>\n",
    "Column 13: Mean_Age (mean of the age bins)<br>\n",
    "<br>\n",
    "A product can belong to many different categories.<br>"
   ]
  },
  {
   "cell_type": "markdown",
   "metadata": {},
   "source": [
    "# <section id=\"2\">Tidying and modifying the data</section>"
   ]
  },
  {
   "cell_type": "markdown",
   "metadata": {},
   "source": [
    "<b> In tidy data: </b>\n",
    "<br> 1. Each variable forms a column.\n",
    "<br> 2. Each observation forms a row.\n",
    "<br> 3. Each type of observational unit forms a table."
   ]
  },
  {
   "cell_type": "markdown",
   "metadata": {},
   "source": [
    "<b>Handling missing data</b> <br>\n",
    "In our dataset the three columns Product_Category_1,Product_Category_2, and Product_Category_3 represent all the  categories that the puchesed product belongs to. Most products belong to three categories, but some belong to two or less. These columns will have NaN as the value. This will make things difficult when we try to make a category table in the next step. Therefore, we are going to replace NaN with 0 to let to convey that product does not belong to any more categories. "
   ]
  },
  {
   "cell_type": "code",
   "execution_count": 3,
   "metadata": {},
   "outputs": [
    {
     "data": {
      "text/html": [
       "<div>\n",
       "<style scoped>\n",
       "    .dataframe tbody tr th:only-of-type {\n",
       "        vertical-align: middle;\n",
       "    }\n",
       "\n",
       "    .dataframe tbody tr th {\n",
       "        vertical-align: top;\n",
       "    }\n",
       "\n",
       "    .dataframe thead th {\n",
       "        text-align: right;\n",
       "    }\n",
       "</style>\n",
       "<table border=\"1\" class=\"dataframe\">\n",
       "  <thead>\n",
       "    <tr style=\"text-align: right;\">\n",
       "      <th></th>\n",
       "      <th>User_ID</th>\n",
       "      <th>Product_ID</th>\n",
       "      <th>Gender</th>\n",
       "      <th>Age</th>\n",
       "      <th>Occupation</th>\n",
       "      <th>City_Category</th>\n",
       "      <th>Stay_In_Current_City_Years</th>\n",
       "      <th>Marital_Status</th>\n",
       "      <th>Product_Category_1</th>\n",
       "      <th>Product_Category_2</th>\n",
       "      <th>Product_Category_3</th>\n",
       "      <th>Purchase</th>\n",
       "      <th>Mean_age</th>\n",
       "    </tr>\n",
       "  </thead>\n",
       "  <tbody>\n",
       "    <tr>\n",
       "      <th>0</th>\n",
       "      <td>1000001</td>\n",
       "      <td>P00069042</td>\n",
       "      <td>F</td>\n",
       "      <td>0-17</td>\n",
       "      <td>10</td>\n",
       "      <td>A</td>\n",
       "      <td>2</td>\n",
       "      <td>0</td>\n",
       "      <td>3</td>\n",
       "      <td>0.0</td>\n",
       "      <td>0.0</td>\n",
       "      <td>8370</td>\n",
       "      <td>8.5</td>\n",
       "    </tr>\n",
       "    <tr>\n",
       "      <th>1</th>\n",
       "      <td>1000001</td>\n",
       "      <td>P00248942</td>\n",
       "      <td>F</td>\n",
       "      <td>0-17</td>\n",
       "      <td>10</td>\n",
       "      <td>A</td>\n",
       "      <td>2</td>\n",
       "      <td>0</td>\n",
       "      <td>1</td>\n",
       "      <td>6.0</td>\n",
       "      <td>14.0</td>\n",
       "      <td>15200</td>\n",
       "      <td>8.5</td>\n",
       "    </tr>\n",
       "    <tr>\n",
       "      <th>2</th>\n",
       "      <td>1000001</td>\n",
       "      <td>P00087842</td>\n",
       "      <td>F</td>\n",
       "      <td>0-17</td>\n",
       "      <td>10</td>\n",
       "      <td>A</td>\n",
       "      <td>2</td>\n",
       "      <td>0</td>\n",
       "      <td>12</td>\n",
       "      <td>0.0</td>\n",
       "      <td>0.0</td>\n",
       "      <td>1422</td>\n",
       "      <td>8.5</td>\n",
       "    </tr>\n",
       "    <tr>\n",
       "      <th>3</th>\n",
       "      <td>1000001</td>\n",
       "      <td>P00085442</td>\n",
       "      <td>F</td>\n",
       "      <td>0-17</td>\n",
       "      <td>10</td>\n",
       "      <td>A</td>\n",
       "      <td>2</td>\n",
       "      <td>0</td>\n",
       "      <td>12</td>\n",
       "      <td>14.0</td>\n",
       "      <td>0.0</td>\n",
       "      <td>1057</td>\n",
       "      <td>8.5</td>\n",
       "    </tr>\n",
       "    <tr>\n",
       "      <th>4</th>\n",
       "      <td>1000002</td>\n",
       "      <td>P00285442</td>\n",
       "      <td>M</td>\n",
       "      <td>55+</td>\n",
       "      <td>16</td>\n",
       "      <td>C</td>\n",
       "      <td>4</td>\n",
       "      <td>0</td>\n",
       "      <td>8</td>\n",
       "      <td>0.0</td>\n",
       "      <td>0.0</td>\n",
       "      <td>7969</td>\n",
       "      <td>67.5</td>\n",
       "    </tr>\n",
       "  </tbody>\n",
       "</table>\n",
       "</div>"
      ],
      "text/plain": [
       "   User_ID Product_ID Gender   Age  Occupation City_Category  \\\n",
       "0  1000001  P00069042      F  0-17          10             A   \n",
       "1  1000001  P00248942      F  0-17          10             A   \n",
       "2  1000001  P00087842      F  0-17          10             A   \n",
       "3  1000001  P00085442      F  0-17          10             A   \n",
       "4  1000002  P00285442      M   55+          16             C   \n",
       "\n",
       "   Stay_In_Current_City_Years  Marital_Status  Product_Category_1  \\\n",
       "0                           2               0                   3   \n",
       "1                           2               0                   1   \n",
       "2                           2               0                  12   \n",
       "3                           2               0                  12   \n",
       "4                           4               0                   8   \n",
       "\n",
       "   Product_Category_2  Product_Category_3  Purchase  Mean_age  \n",
       "0                 0.0                 0.0      8370       8.5  \n",
       "1                 6.0                14.0     15200       8.5  \n",
       "2                 0.0                 0.0      1422       8.5  \n",
       "3                14.0                 0.0      1057       8.5  \n",
       "4                 0.0                 0.0      7969      67.5  "
      ]
     },
     "execution_count": 3,
     "metadata": {},
     "output_type": "execute_result"
    }
   ],
   "source": [
    "blackfriday = blackfriday.fillna(0)\n",
    "blackfriday.head()"
   ]
  },
  {
   "cell_type": "markdown",
   "metadata": {},
   "source": [
    "<b>Making Product Category Table</b> <br>\n",
    "Another step in tidying data is to remove variables from column names. <br>For our dataframe, Product_Category_1, Product_Category_2, and Product_Category_3 should be melted into one column.<br>To keep the original dataframe clear and have fewer repeated information, we will create a new dataframe to store Product_Category seperately. <br>The Category of a product can be looked up with its Product_ID in the new dataframe. <br> Several columns are retained for lookups in future analysis."
   ]
  },
  {
   "cell_type": "code",
   "execution_count": 4,
   "metadata": {},
   "outputs": [
    {
     "data": {
      "text/html": [
       "<div>\n",
       "<style scoped>\n",
       "    .dataframe tbody tr th:only-of-type {\n",
       "        vertical-align: middle;\n",
       "    }\n",
       "\n",
       "    .dataframe tbody tr th {\n",
       "        vertical-align: top;\n",
       "    }\n",
       "\n",
       "    .dataframe thead th {\n",
       "        text-align: right;\n",
       "    }\n",
       "</style>\n",
       "<table border=\"1\" class=\"dataframe\">\n",
       "  <thead>\n",
       "    <tr style=\"text-align: right;\">\n",
       "      <th></th>\n",
       "      <th>Product_ID</th>\n",
       "      <th>Age</th>\n",
       "      <th>Product_Category</th>\n",
       "    </tr>\n",
       "  </thead>\n",
       "  <tbody>\n",
       "    <tr>\n",
       "      <th>0</th>\n",
       "      <td>P00069042</td>\n",
       "      <td>0-17</td>\n",
       "      <td>3.0</td>\n",
       "    </tr>\n",
       "    <tr>\n",
       "      <th>1</th>\n",
       "      <td>P00248942</td>\n",
       "      <td>0-17</td>\n",
       "      <td>1.0</td>\n",
       "    </tr>\n",
       "    <tr>\n",
       "      <th>2</th>\n",
       "      <td>P00087842</td>\n",
       "      <td>0-17</td>\n",
       "      <td>12.0</td>\n",
       "    </tr>\n",
       "    <tr>\n",
       "      <th>3</th>\n",
       "      <td>P00085442</td>\n",
       "      <td>0-17</td>\n",
       "      <td>12.0</td>\n",
       "    </tr>\n",
       "    <tr>\n",
       "      <th>4</th>\n",
       "      <td>P00285442</td>\n",
       "      <td>55+</td>\n",
       "      <td>8.0</td>\n",
       "    </tr>\n",
       "  </tbody>\n",
       "</table>\n",
       "</div>"
      ],
      "text/plain": [
       "  Product_ID   Age  Product_Category\n",
       "0  P00069042  0-17               3.0\n",
       "1  P00248942  0-17               1.0\n",
       "2  P00087842  0-17              12.0\n",
       "3  P00085442  0-17              12.0\n",
       "4  P00285442   55+               8.0"
      ]
     },
     "execution_count": 4,
     "metadata": {},
     "output_type": "execute_result"
    }
   ],
   "source": [
    "# Create a seperate dataframe to store category infomation\n",
    "category_table = blackfriday[['Product_ID', 'Age', 'Product_Category_1', 'Product_Category_2', 'Product_Category_3']]\n",
    "# Drop Product_Category columns from the original dataframe for neatness\n",
    "blackfriday = blackfriday.drop(['Product_Category_1','Product_Category_2', 'Product_Category_3'], axis=1)\n",
    "\n",
    "# Melt Product_Category columns in to one\n",
    "category_table = pd.melt(category_table, id_vars=['Product_ID', 'Age'], value_vars=['Product_Category_1', 'Product_Category_2', 'Product_Category_3'])\n",
    "# Drop any row with value equals to 0 (no category)\n",
    "category_table = category_table[category_table.value != 0]   \n",
    "# Drop variable column\n",
    "category_table = category_table.drop(['variable'], axis=1)\n",
    "# Rename value column to Product_Category\n",
    "category_table = category_table.rename(index=str, columns={\"value\": \"Product_Category\"})\n",
    "category_table.head()"
   ]
  },
  {
   "cell_type": "markdown",
   "metadata": {},
   "source": [
    "# <section id=\"3\">Exploratory Data Analysis (EDA)</section>"
   ]
  },
  {
   "cell_type": "markdown",
   "metadata": {},
   "source": [
    "#### Four types of EDA\n",
    "- Univariate non-graphical\n",
    "- Multivariate non-graphical\n",
    "- Univariate graphical\n",
    "- Multivariate graphical"
   ]
  },
  {
   "cell_type": "markdown",
   "metadata": {},
   "source": [
    "#### Advantages of EDA:\n",
    "- Detection of mistakes\n",
    "- Checking of assumptions\n",
    "- Preliminary selection of appropriate models\n",
    "- Determining relationships among the explanatory variables\n",
    "- Assessing the direction and rough size of relationships between explanatory and outcome variables"
   ]
  },
  {
   "cell_type": "markdown",
   "metadata": {},
   "source": [
    "# <section id=\"4\">Gender</section>"
   ]
  },
  {
   "cell_type": "code",
   "execution_count": 5,
   "metadata": {},
   "outputs": [
    {
     "data": {
      "text/html": [
       "<div>\n",
       "<style scoped>\n",
       "    .dataframe tbody tr th:only-of-type {\n",
       "        vertical-align: middle;\n",
       "    }\n",
       "\n",
       "    .dataframe tbody tr th {\n",
       "        vertical-align: top;\n",
       "    }\n",
       "\n",
       "    .dataframe thead th {\n",
       "        text-align: right;\n",
       "    }\n",
       "</style>\n",
       "<table border=\"1\" class=\"dataframe\">\n",
       "  <thead>\n",
       "    <tr style=\"text-align: right;\">\n",
       "      <th></th>\n",
       "      <th>User_ID</th>\n",
       "      <th>Gender</th>\n",
       "      <th>Purchase</th>\n",
       "    </tr>\n",
       "  </thead>\n",
       "  <tbody>\n",
       "    <tr>\n",
       "      <th>0</th>\n",
       "      <td>1000001</td>\n",
       "      <td>F</td>\n",
       "      <td>333481</td>\n",
       "    </tr>\n",
       "    <tr>\n",
       "      <th>1</th>\n",
       "      <td>1000002</td>\n",
       "      <td>M</td>\n",
       "      <td>810353</td>\n",
       "    </tr>\n",
       "    <tr>\n",
       "      <th>2</th>\n",
       "      <td>1000003</td>\n",
       "      <td>M</td>\n",
       "      <td>341635</td>\n",
       "    </tr>\n",
       "    <tr>\n",
       "      <th>3</th>\n",
       "      <td>1000004</td>\n",
       "      <td>M</td>\n",
       "      <td>205987</td>\n",
       "    </tr>\n",
       "    <tr>\n",
       "      <th>4</th>\n",
       "      <td>1000005</td>\n",
       "      <td>M</td>\n",
       "      <td>821001</td>\n",
       "    </tr>\n",
       "  </tbody>\n",
       "</table>\n",
       "</div>"
      ],
      "text/plain": [
       "   User_ID Gender  Purchase\n",
       "0  1000001      F    333481\n",
       "1  1000002      M    810353\n",
       "2  1000003      M    341635\n",
       "3  1000004      M    205987\n",
       "4  1000005      M    821001"
      ]
     },
     "execution_count": 5,
     "metadata": {},
     "output_type": "execute_result"
    }
   ],
   "source": [
    "purchase_by_user = blackfriday.groupby(['User_ID', 'Gender']).agg({'Purchase': np.sum})\n",
    "purchase_by_user.reset_index(inplace=True)\n",
    "purchase_by_user.head()"
   ]
  },
  {
   "cell_type": "markdown",
   "metadata": {},
   "source": [
    "It is often believed that women spend more than men on Black Friday. To test this myth we made the graph below to observe the total spending of both genders. As the following graph shows, we can see a large difference between male and female spending. However the results are the opposite of what we were lead to expect. The graph indicates that women spend about a third of the amount men do on Black Friday. Myth busted!"
   ]
  },
  {
   "cell_type": "code",
   "execution_count": 6,
   "metadata": {},
   "outputs": [
    {
     "data": {
      "image/png": "[encoded data removed]",
      "text/plain": [
       "<Figure size 432x288 with 1 Axes>"
      ]
     },
     "metadata": {
      "needs_background": "light"
     },
     "output_type": "display_data"
    }
   ],
   "source": [
    "ax = sns.countplot(purchase_by_user['Gender'])"
   ]
  },
  {
   "cell_type": "markdown",
   "metadata": {},
   "source": [
    "This gender split is really helpful for retailers and advertising agencies. With this information, retailers could modify their store layout, and product selection to appeal to their larger male consumer base. Advertising agency might want to choose different strategies to advertise products and the whole Black Friday shopping experience based on the gender proportion of their shoppers. They could further appeal to men bye marketing the Black Friday experience in ways that solicit to them. For example, Walmart could hire Shaquille O'Neal to appear in an ad, boxing out other customers while he gets the products he wants.\n",
    "<br><br>\n",
    "However this is just the count of shoppers based on gender. For further investigation, we should look at the average amount, in dollars, spent by each gender."
   ]
  },
  {
   "cell_type": "code",
   "execution_count": 7,
   "metadata": {},
   "outputs": [
    {
     "name": "stdout",
     "output_type": "stream",
     "text": [
      "The average of spending money by male on Black Friday is 911963.1614201183\n",
      "The average of spending money by female on Black Friday is 699054.0342136854\n"
     ]
    }
   ],
   "source": [
    "male_spending = purchase_by_user[purchase_by_user.Gender=='M'].mean()\n",
    "\n",
    "female_spending = purchase_by_user[purchase_by_user.Gender=='F'].mean()\n",
    "\n",
    "print(\"The average of spending money by male on Black Friday is \" + str(male_spending.Purchase))\n",
    "\n",
    "print(\"The average of spending money by female on Black Friday is \" + str(female_spending.Purchase))\n"
   ]
  },
  {
   "cell_type": "markdown",
   "metadata": {},
   "source": [
    "Now, let's visualize the result:"
   ]
  },
  {
   "cell_type": "code",
   "execution_count": 8,
   "metadata": {},
   "outputs": [
    {
     "data": {
      "text/plain": [
       "Text(0,0.5,'The Amount of Purchase in U.S Dollar')"
      ]
     },
     "execution_count": 8,
     "metadata": {},
     "output_type": "execute_result"
    },
    {
     "data": {
      "image/png": "[encoded data removed]",
      "text/plain": [
       "<Figure size 1080x576 with 1 Axes>"
      ]
     },
     "metadata": {
      "needs_background": "light"
     },
     "output_type": "display_data"
    }
   ],
   "source": [
    "data = {'Gender':[\"Male\", \"Female\"], 'Purchase': [male_spending.Purchase, female_spending.Purchase]}\n",
    "avg_spend_by_gender = pd.DataFrame(data=data)\n",
    "ax = avg_spend_by_gender.plot.bar(x='Gender', y='Purchase', rot=0)\n",
    "ax.figure.set_size_inches(15, 8)\n",
    "plt.title(\"The Amount of Purchase By Different Gender\")\n",
    "plt.xlabel(\"Gender\")\n",
    "plt.ylabel(\"The Amount of Purchase in U.S Dollar\")"
   ]
  },
  {
   "cell_type": "markdown",
   "metadata": {},
   "source": [
    "This is a very interesting observation. It seems women are spending almost as much, on average, as male shoppers even though there are far less of them making purchases. From this observation, we note that the number of males and females play an important role here. Women are only spending about $250,000 less than men even though there a third less of them. From these two graphs we can conclude there are much more men buying on Black Friday than women. However on average women spend much more."
   ]
  },
  {
   "cell_type": "markdown",
   "metadata": {},
   "source": [
    "#  <section id=\"5\">Age</section>"
   ]
  },
  {
   "cell_type": "markdown",
   "metadata": {},
   "source": [
    "Advertising a product to a group of age is very important. We don't want a customer to see that type of products that they are not fit into. Also, if we advertise wrong products to a group, it will cause a lot of troubles. There might be a critic from people who are not supposed to see it and also from retailers because they don't want to spend money on the nonprofit group. Therefore, we only want to look at a certain group of age to put an ad. "
   ]
  },
  {
   "cell_type": "markdown",
   "metadata": {},
   "source": [
    "Now, let's view how a customer in different groups of age spend money on Black Friday. "
   ]
  },
  {
   "cell_type": "code",
   "execution_count": 9,
   "metadata": {},
   "outputs": [
    {
     "name": "stdout",
     "output_type": "stream",
     "text": [
      "group 0-17 total purchase\n"
     ]
    },
    {
     "data": {
      "text/html": [
       "<div>\n",
       "<style scoped>\n",
       "    .dataframe tbody tr th:only-of-type {\n",
       "        vertical-align: middle;\n",
       "    }\n",
       "\n",
       "    .dataframe tbody tr th {\n",
       "        vertical-align: top;\n",
       "    }\n",
       "\n",
       "    .dataframe thead th {\n",
       "        text-align: right;\n",
       "    }\n",
       "</style>\n",
       "<table border=\"1\" class=\"dataframe\">\n",
       "  <thead>\n",
       "    <tr style=\"text-align: right;\">\n",
       "      <th></th>\n",
       "      <th>User_ID</th>\n",
       "      <th>Age</th>\n",
       "      <th>Mean_age</th>\n",
       "      <th>Purchase</th>\n",
       "    </tr>\n",
       "  </thead>\n",
       "  <tbody>\n",
       "    <tr>\n",
       "      <th>0</th>\n",
       "      <td>1000001</td>\n",
       "      <td>0-17</td>\n",
       "      <td>8.5</td>\n",
       "      <td>333481</td>\n",
       "    </tr>\n",
       "    <tr>\n",
       "      <th>18</th>\n",
       "      <td>1000019</td>\n",
       "      <td>0-17</td>\n",
       "      <td>8.5</td>\n",
       "      <td>1457938</td>\n",
       "    </tr>\n",
       "    <tr>\n",
       "      <th>48</th>\n",
       "      <td>1000051</td>\n",
       "      <td>0-17</td>\n",
       "      <td>8.5</td>\n",
       "      <td>200772</td>\n",
       "    </tr>\n",
       "    <tr>\n",
       "      <th>72</th>\n",
       "      <td>1000075</td>\n",
       "      <td>0-17</td>\n",
       "      <td>8.5</td>\n",
       "      <td>1035228</td>\n",
       "    </tr>\n",
       "    <tr>\n",
       "      <th>83</th>\n",
       "      <td>1000086</td>\n",
       "      <td>0-17</td>\n",
       "      <td>8.5</td>\n",
       "      <td>294050</td>\n",
       "    </tr>\n",
       "  </tbody>\n",
       "</table>\n",
       "</div>"
      ],
      "text/plain": [
       "    User_ID   Age  Mean_age  Purchase\n",
       "0   1000001  0-17       8.5    333481\n",
       "18  1000019  0-17       8.5   1457938\n",
       "48  1000051  0-17       8.5    200772\n",
       "72  1000075  0-17       8.5   1035228\n",
       "83  1000086  0-17       8.5    294050"
      ]
     },
     "metadata": {},
     "output_type": "display_data"
    },
    {
     "name": "stdout",
     "output_type": "stream",
     "text": [
      "group 18-25 total purchase\n"
     ]
    },
    {
     "data": {
      "text/html": [
       "<div>\n",
       "<style scoped>\n",
       "    .dataframe tbody tr th:only-of-type {\n",
       "        vertical-align: middle;\n",
       "    }\n",
       "\n",
       "    .dataframe tbody tr th {\n",
       "        vertical-align: top;\n",
       "    }\n",
       "\n",
       "    .dataframe thead th {\n",
       "        text-align: right;\n",
       "    }\n",
       "</style>\n",
       "<table border=\"1\" class=\"dataframe\">\n",
       "  <thead>\n",
       "    <tr style=\"text-align: right;\">\n",
       "      <th></th>\n",
       "      <th>User_ID</th>\n",
       "      <th>Age</th>\n",
       "      <th>Mean_age</th>\n",
       "      <th>Purchase</th>\n",
       "    </tr>\n",
       "  </thead>\n",
       "  <tbody>\n",
       "    <tr>\n",
       "      <th>17</th>\n",
       "      <td>1000018</td>\n",
       "      <td>18-25</td>\n",
       "      <td>21.5</td>\n",
       "      <td>1978675</td>\n",
       "    </tr>\n",
       "    <tr>\n",
       "      <th>20</th>\n",
       "      <td>1000021</td>\n",
       "      <td>18-25</td>\n",
       "      <td>21.5</td>\n",
       "      <td>126744</td>\n",
       "    </tr>\n",
       "    <tr>\n",
       "      <th>21</th>\n",
       "      <td>1000022</td>\n",
       "      <td>18-25</td>\n",
       "      <td>21.5</td>\n",
       "      <td>1279678</td>\n",
       "    </tr>\n",
       "    <tr>\n",
       "      <th>24</th>\n",
       "      <td>1000025</td>\n",
       "      <td>18-25</td>\n",
       "      <td>21.5</td>\n",
       "      <td>534215</td>\n",
       "    </tr>\n",
       "    <tr>\n",
       "      <th>33</th>\n",
       "      <td>1000034</td>\n",
       "      <td>18-25</td>\n",
       "      <td>21.5</td>\n",
       "      <td>807747</td>\n",
       "    </tr>\n",
       "  </tbody>\n",
       "</table>\n",
       "</div>"
      ],
      "text/plain": [
       "    User_ID    Age  Mean_age  Purchase\n",
       "17  1000018  18-25      21.5   1978675\n",
       "20  1000021  18-25      21.5    126744\n",
       "21  1000022  18-25      21.5   1279678\n",
       "24  1000025  18-25      21.5    534215\n",
       "33  1000034  18-25      21.5    807747"
      ]
     },
     "metadata": {},
     "output_type": "display_data"
    },
    {
     "name": "stdout",
     "output_type": "stream",
     "text": [
      "group 26-35 total purchase\n"
     ]
    },
    {
     "data": {
      "text/html": [
       "<div>\n",
       "<style scoped>\n",
       "    .dataframe tbody tr th:only-of-type {\n",
       "        vertical-align: middle;\n",
       "    }\n",
       "\n",
       "    .dataframe tbody tr th {\n",
       "        vertical-align: top;\n",
       "    }\n",
       "\n",
       "    .dataframe thead th {\n",
       "        text-align: right;\n",
       "    }\n",
       "</style>\n",
       "<table border=\"1\" class=\"dataframe\">\n",
       "  <thead>\n",
       "    <tr style=\"text-align: right;\">\n",
       "      <th></th>\n",
       "      <th>User_ID</th>\n",
       "      <th>Age</th>\n",
       "      <th>Mean_age</th>\n",
       "      <th>Purchase</th>\n",
       "    </tr>\n",
       "  </thead>\n",
       "  <tbody>\n",
       "    <tr>\n",
       "      <th>2</th>\n",
       "      <td>1000003</td>\n",
       "      <td>26-35</td>\n",
       "      <td>30.5</td>\n",
       "      <td>341635</td>\n",
       "    </tr>\n",
       "    <tr>\n",
       "      <th>4</th>\n",
       "      <td>1000005</td>\n",
       "      <td>26-35</td>\n",
       "      <td>30.5</td>\n",
       "      <td>821001</td>\n",
       "    </tr>\n",
       "    <tr>\n",
       "      <th>7</th>\n",
       "      <td>1000008</td>\n",
       "      <td>26-35</td>\n",
       "      <td>30.5</td>\n",
       "      <td>796545</td>\n",
       "    </tr>\n",
       "    <tr>\n",
       "      <th>8</th>\n",
       "      <td>1000009</td>\n",
       "      <td>26-35</td>\n",
       "      <td>30.5</td>\n",
       "      <td>593960</td>\n",
       "    </tr>\n",
       "    <tr>\n",
       "      <th>10</th>\n",
       "      <td>1000011</td>\n",
       "      <td>26-35</td>\n",
       "      <td>30.5</td>\n",
       "      <td>556902</td>\n",
       "    </tr>\n",
       "  </tbody>\n",
       "</table>\n",
       "</div>"
      ],
      "text/plain": [
       "    User_ID    Age  Mean_age  Purchase\n",
       "2   1000003  26-35      30.5    341635\n",
       "4   1000005  26-35      30.5    821001\n",
       "7   1000008  26-35      30.5    796545\n",
       "8   1000009  26-35      30.5    593960\n",
       "10  1000011  26-35      30.5    556902"
      ]
     },
     "metadata": {},
     "output_type": "display_data"
    },
    {
     "name": "stdout",
     "output_type": "stream",
     "text": [
      "group 36-45 total purchase\n"
     ]
    },
    {
     "data": {
      "text/html": [
       "<div>\n",
       "<style scoped>\n",
       "    .dataframe tbody tr th:only-of-type {\n",
       "        vertical-align: middle;\n",
       "    }\n",
       "\n",
       "    .dataframe tbody tr th {\n",
       "        vertical-align: top;\n",
       "    }\n",
       "\n",
       "    .dataframe thead th {\n",
       "        text-align: right;\n",
       "    }\n",
       "</style>\n",
       "<table border=\"1\" class=\"dataframe\">\n",
       "  <thead>\n",
       "    <tr style=\"text-align: right;\">\n",
       "      <th></th>\n",
       "      <th>User_ID</th>\n",
       "      <th>Age</th>\n",
       "      <th>Mean_age</th>\n",
       "      <th>Purchase</th>\n",
       "    </tr>\n",
       "  </thead>\n",
       "  <tbody>\n",
       "    <tr>\n",
       "      <th>6</th>\n",
       "      <td>1000007</td>\n",
       "      <td>36-45</td>\n",
       "      <td>40.5</td>\n",
       "      <td>234427</td>\n",
       "    </tr>\n",
       "    <tr>\n",
       "      <th>9</th>\n",
       "      <td>1000010</td>\n",
       "      <td>36-45</td>\n",
       "      <td>40.5</td>\n",
       "      <td>2169486</td>\n",
       "    </tr>\n",
       "    <tr>\n",
       "      <th>13</th>\n",
       "      <td>1000014</td>\n",
       "      <td>36-45</td>\n",
       "      <td>40.5</td>\n",
       "      <td>127629</td>\n",
       "    </tr>\n",
       "    <tr>\n",
       "      <th>15</th>\n",
       "      <td>1000016</td>\n",
       "      <td>36-45</td>\n",
       "      <td>40.5</td>\n",
       "      <td>150428</td>\n",
       "    </tr>\n",
       "    <tr>\n",
       "      <th>22</th>\n",
       "      <td>1000023</td>\n",
       "      <td>36-45</td>\n",
       "      <td>40.5</td>\n",
       "      <td>1670998</td>\n",
       "    </tr>\n",
       "  </tbody>\n",
       "</table>\n",
       "</div>"
      ],
      "text/plain": [
       "    User_ID    Age  Mean_age  Purchase\n",
       "6   1000007  36-45      40.5    234427\n",
       "9   1000010  36-45      40.5   2169486\n",
       "13  1000014  36-45      40.5    127629\n",
       "15  1000016  36-45      40.5    150428\n",
       "22  1000023  36-45      40.5   1670998"
      ]
     },
     "metadata": {},
     "output_type": "display_data"
    },
    {
     "name": "stdout",
     "output_type": "stream",
     "text": [
      "group 46-50 total purchase\n"
     ]
    },
    {
     "data": {
      "text/html": [
       "<div>\n",
       "<style scoped>\n",
       "    .dataframe tbody tr th:only-of-type {\n",
       "        vertical-align: middle;\n",
       "    }\n",
       "\n",
       "    .dataframe tbody tr th {\n",
       "        vertical-align: top;\n",
       "    }\n",
       "\n",
       "    .dataframe thead th {\n",
       "        text-align: right;\n",
       "    }\n",
       "</style>\n",
       "<table border=\"1\" class=\"dataframe\">\n",
       "  <thead>\n",
       "    <tr style=\"text-align: right;\">\n",
       "      <th></th>\n",
       "      <th>User_ID</th>\n",
       "      <th>Age</th>\n",
       "      <th>Mean_age</th>\n",
       "      <th>Purchase</th>\n",
       "    </tr>\n",
       "  </thead>\n",
       "  <tbody>\n",
       "    <tr>\n",
       "      <th>3</th>\n",
       "      <td>1000004</td>\n",
       "      <td>46-50</td>\n",
       "      <td>48.0</td>\n",
       "      <td>205987</td>\n",
       "    </tr>\n",
       "    <tr>\n",
       "      <th>12</th>\n",
       "      <td>1000013</td>\n",
       "      <td>46-50</td>\n",
       "      <td>48.0</td>\n",
       "      <td>713927</td>\n",
       "    </tr>\n",
       "    <tr>\n",
       "      <th>32</th>\n",
       "      <td>1000033</td>\n",
       "      <td>46-50</td>\n",
       "      <td>48.0</td>\n",
       "      <td>1940043</td>\n",
       "    </tr>\n",
       "    <tr>\n",
       "      <th>34</th>\n",
       "      <td>1000035</td>\n",
       "      <td>46-50</td>\n",
       "      <td>48.0</td>\n",
       "      <td>821303</td>\n",
       "    </tr>\n",
       "    <tr>\n",
       "      <th>41</th>\n",
       "      <td>1000044</td>\n",
       "      <td>46-50</td>\n",
       "      <td>48.0</td>\n",
       "      <td>1180380</td>\n",
       "    </tr>\n",
       "  </tbody>\n",
       "</table>\n",
       "</div>"
      ],
      "text/plain": [
       "    User_ID    Age  Mean_age  Purchase\n",
       "3   1000004  46-50      48.0    205987\n",
       "12  1000013  46-50      48.0    713927\n",
       "32  1000033  46-50      48.0   1940043\n",
       "34  1000035  46-50      48.0    821303\n",
       "41  1000044  46-50      48.0   1180380"
      ]
     },
     "metadata": {},
     "output_type": "display_data"
    },
    {
     "name": "stdout",
     "output_type": "stream",
     "text": [
      "group 51-55 total purchase\n"
     ]
    },
    {
     "data": {
      "text/html": [
       "<div>\n",
       "<style scoped>\n",
       "    .dataframe tbody tr th:only-of-type {\n",
       "        vertical-align: middle;\n",
       "    }\n",
       "\n",
       "    .dataframe tbody tr th {\n",
       "        vertical-align: top;\n",
       "    }\n",
       "\n",
       "    .dataframe thead th {\n",
       "        text-align: right;\n",
       "    }\n",
       "</style>\n",
       "<table border=\"1\" class=\"dataframe\">\n",
       "  <thead>\n",
       "    <tr style=\"text-align: right;\">\n",
       "      <th></th>\n",
       "      <th>User_ID</th>\n",
       "      <th>Age</th>\n",
       "      <th>Mean_age</th>\n",
       "      <th>Purchase</th>\n",
       "    </tr>\n",
       "  </thead>\n",
       "  <tbody>\n",
       "    <tr>\n",
       "      <th>5</th>\n",
       "      <td>1000006</td>\n",
       "      <td>51-55</td>\n",
       "      <td>53.0</td>\n",
       "      <td>379450</td>\n",
       "    </tr>\n",
       "    <tr>\n",
       "      <th>16</th>\n",
       "      <td>1000017</td>\n",
       "      <td>51-55</td>\n",
       "      <td>53.0</td>\n",
       "      <td>1425501</td>\n",
       "    </tr>\n",
       "    <tr>\n",
       "      <th>51</th>\n",
       "      <td>1000054</td>\n",
       "      <td>51-55</td>\n",
       "      <td>53.0</td>\n",
       "      <td>187201</td>\n",
       "    </tr>\n",
       "    <tr>\n",
       "      <th>56</th>\n",
       "      <td>1000059</td>\n",
       "      <td>51-55</td>\n",
       "      <td>53.0</td>\n",
       "      <td>980068</td>\n",
       "    </tr>\n",
       "    <tr>\n",
       "      <th>57</th>\n",
       "      <td>1000060</td>\n",
       "      <td>51-55</td>\n",
       "      <td>53.0</td>\n",
       "      <td>279980</td>\n",
       "    </tr>\n",
       "  </tbody>\n",
       "</table>\n",
       "</div>"
      ],
      "text/plain": [
       "    User_ID    Age  Mean_age  Purchase\n",
       "5   1000006  51-55      53.0    379450\n",
       "16  1000017  51-55      53.0   1425501\n",
       "51  1000054  51-55      53.0    187201\n",
       "56  1000059  51-55      53.0    980068\n",
       "57  1000060  51-55      53.0    279980"
      ]
     },
     "metadata": {},
     "output_type": "display_data"
    },
    {
     "name": "stdout",
     "output_type": "stream",
     "text": [
      "group 55+ total purchase\n"
     ]
    },
    {
     "data": {
      "text/html": [
       "<div>\n",
       "<style scoped>\n",
       "    .dataframe tbody tr th:only-of-type {\n",
       "        vertical-align: middle;\n",
       "    }\n",
       "\n",
       "    .dataframe tbody tr th {\n",
       "        vertical-align: top;\n",
       "    }\n",
       "\n",
       "    .dataframe thead th {\n",
       "        text-align: right;\n",
       "    }\n",
       "</style>\n",
       "<table border=\"1\" class=\"dataframe\">\n",
       "  <thead>\n",
       "    <tr style=\"text-align: right;\">\n",
       "      <th></th>\n",
       "      <th>User_ID</th>\n",
       "      <th>Age</th>\n",
       "      <th>Mean_age</th>\n",
       "      <th>Purchase</th>\n",
       "    </tr>\n",
       "  </thead>\n",
       "  <tbody>\n",
       "    <tr>\n",
       "      <th>1</th>\n",
       "      <td>1000002</td>\n",
       "      <td>55+</td>\n",
       "      <td>67.5</td>\n",
       "      <td>810353</td>\n",
       "    </tr>\n",
       "    <tr>\n",
       "      <th>30</th>\n",
       "      <td>1000031</td>\n",
       "      <td>55+</td>\n",
       "      <td>67.5</td>\n",
       "      <td>496154</td>\n",
       "    </tr>\n",
       "    <tr>\n",
       "      <th>77</th>\n",
       "      <td>1000080</td>\n",
       "      <td>55+</td>\n",
       "      <td>67.5</td>\n",
       "      <td>339119</td>\n",
       "    </tr>\n",
       "    <tr>\n",
       "      <th>86</th>\n",
       "      <td>1000089</td>\n",
       "      <td>55+</td>\n",
       "      <td>67.5</td>\n",
       "      <td>112226</td>\n",
       "    </tr>\n",
       "    <tr>\n",
       "      <th>87</th>\n",
       "      <td>1000090</td>\n",
       "      <td>55+</td>\n",
       "      <td>67.5</td>\n",
       "      <td>1310621</td>\n",
       "    </tr>\n",
       "  </tbody>\n",
       "</table>\n",
       "</div>"
      ],
      "text/plain": [
       "    User_ID  Age  Mean_age  Purchase\n",
       "1   1000002  55+      67.5    810353\n",
       "30  1000031  55+      67.5    496154\n",
       "77  1000080  55+      67.5    339119\n",
       "86  1000089  55+      67.5    112226\n",
       "87  1000090  55+      67.5   1310621"
      ]
     },
     "metadata": {},
     "output_type": "display_data"
    }
   ],
   "source": [
    "groups = blackfriday.groupby(['User_ID', 'Age', 'Mean_age']).agg({'Purchase': np.sum}).reset_index()\n",
    "#0-17\n",
    "print('group 0-17 total purchase')\n",
    "display(groups[groups.Mean_age == 8.5].head())\n",
    "#18-25\n",
    "print('group 18-25 total purchase')\n",
    "display(groups[groups.Mean_age == 21.5].head())\n",
    "#26-35\n",
    "print('group 26-35 total purchase')\n",
    "display(groups[groups.Mean_age == 30.5].head())\n",
    "#36-45\n",
    "print('group 36-45 total purchase')\n",
    "display(groups[groups.Mean_age == 40.5].head())\n",
    "#46-50\n",
    "print('group 46-50 total purchase')\n",
    "display(groups[groups.Mean_age == 48].head())\n",
    "#51-55\n",
    "print('group 51-55 total purchase')\n",
    "display(groups[groups.Mean_age == 53].head())\n",
    "#55+\n",
    "print('group 55+ total purchase')\n",
    "display(groups[groups.Mean_age == 67.5].head())"
   ]
  },
  {
   "cell_type": "markdown",
   "metadata": {},
   "source": [
    "### Graphing the amount of purchase by different groups of age"
   ]
  },
  {
   "cell_type": "code",
   "execution_count": 10,
   "metadata": {
    "scrolled": false
   },
   "outputs": [
    {
     "data": {
      "text/plain": [
       "Text(0,0.5,'The Amount of Purchase in U.S Dollar')"
      ]
     },
     "execution_count": 10,
     "metadata": {},
     "output_type": "execute_result"
    },
    {
     "data": {
      "image/png": "[encoded data removed]",
      "text/plain": [
       "<Figure size 1080x576 with 1 Axes>"
      ]
     },
     "metadata": {
      "needs_background": "light"
     },
     "output_type": "display_data"
    }
   ],
   "source": [
    "groups = blackfriday.groupby(['Age']).agg({'Purchase': np.sum}).reset_index()\n",
    "ax = groups.plot.bar(x='Age', y='Purchase', rot=0)\n",
    "ax.figure.set_size_inches(15, 8)\n",
    "plt.title(\"The Amount of Purchase By Different Groups of Age\")\n",
    "plt.xlabel(\"Groups of Age\")\n",
    "plt.ylabel(\"The Amount of Purchase in U.S Dollar\")"
   ]
  },
  {
   "cell_type": "markdown",
   "metadata": {},
   "source": [
    "As we see above, customers in group of age 26-35 in general spending the most money on Black Friday. This is useful information if we want to target this group to advertise new products. This is because they are highly likely to spend more money than the other groups to buy new products. And people from group of age 0-17 or 55+ spend less money than other. We should limit the ads over these groups because it will cost money if this group is not active shoppers."
   ]
  },
  {
   "cell_type": "markdown",
   "metadata": {},
   "source": [
    "# <section id=\"6\"> Frequency Purchase </section>"
   ]
  },
  {
   "cell_type": "markdown",
   "metadata": {},
   "source": [
    "Compute the sum of a purchase for a product"
   ]
  },
  {
   "cell_type": "code",
   "execution_count": 11,
   "metadata": {},
   "outputs": [
    {
     "data": {
      "text/html": [
       "<div>\n",
       "<style scoped>\n",
       "    .dataframe tbody tr th:only-of-type {\n",
       "        vertical-align: middle;\n",
       "    }\n",
       "\n",
       "    .dataframe tbody tr th {\n",
       "        vertical-align: top;\n",
       "    }\n",
       "\n",
       "    .dataframe thead th {\n",
       "        text-align: right;\n",
       "    }\n",
       "</style>\n",
       "<table border=\"1\" class=\"dataframe\">\n",
       "  <thead>\n",
       "    <tr style=\"text-align: right;\">\n",
       "      <th></th>\n",
       "      <th>Product_ID</th>\n",
       "      <th>Purchase</th>\n",
       "    </tr>\n",
       "  </thead>\n",
       "  <tbody>\n",
       "    <tr>\n",
       "      <th>0</th>\n",
       "      <td>P00000142</td>\n",
       "      <td>12592163</td>\n",
       "    </tr>\n",
       "    <tr>\n",
       "      <th>1</th>\n",
       "      <td>P00000242</td>\n",
       "      <td>3914901</td>\n",
       "    </tr>\n",
       "    <tr>\n",
       "      <th>2</th>\n",
       "      <td>P00000342</td>\n",
       "      <td>1261383</td>\n",
       "    </tr>\n",
       "    <tr>\n",
       "      <th>3</th>\n",
       "      <td>P00000442</td>\n",
       "      <td>441173</td>\n",
       "    </tr>\n",
       "    <tr>\n",
       "      <th>4</th>\n",
       "      <td>P00000542</td>\n",
       "      <td>791219</td>\n",
       "    </tr>\n",
       "  </tbody>\n",
       "</table>\n",
       "</div>"
      ],
      "text/plain": [
       "  Product_ID  Purchase\n",
       "0  P00000142  12592163\n",
       "1  P00000242   3914901\n",
       "2  P00000342   1261383\n",
       "3  P00000442    441173\n",
       "4  P00000542    791219"
      ]
     },
     "execution_count": 11,
     "metadata": {},
     "output_type": "execute_result"
    }
   ],
   "source": [
    "total_purchase_of_a_product = blackfriday.groupby('Product_ID').agg({'Purchase': np.sum})\n",
    "total_purchase_of_a_product.reset_index(inplace=True)\n",
    "total_purchase_of_a_product.head()"
   ]
  },
  {
   "cell_type": "markdown",
   "metadata": {},
   "source": [
    "Compute the frequency of a product that is purchased within a group"
   ]
  },
  {
   "cell_type": "code",
   "execution_count": 12,
   "metadata": {},
   "outputs": [
    {
     "data": {
      "text/html": [
       "<div>\n",
       "<style scoped>\n",
       "    .dataframe tbody tr th:only-of-type {\n",
       "        vertical-align: middle;\n",
       "    }\n",
       "\n",
       "    .dataframe tbody tr th {\n",
       "        vertical-align: top;\n",
       "    }\n",
       "\n",
       "    .dataframe thead th {\n",
       "        text-align: right;\n",
       "    }\n",
       "</style>\n",
       "<table border=\"1\" class=\"dataframe\">\n",
       "  <thead>\n",
       "    <tr style=\"text-align: right;\">\n",
       "      <th></th>\n",
       "      <th>Product_ID</th>\n",
       "      <th>Freq</th>\n",
       "    </tr>\n",
       "  </thead>\n",
       "  <tbody>\n",
       "    <tr>\n",
       "      <th>0</th>\n",
       "      <td>P00000142</td>\n",
       "      <td>1130</td>\n",
       "    </tr>\n",
       "    <tr>\n",
       "      <th>1</th>\n",
       "      <td>P00000242</td>\n",
       "      <td>371</td>\n",
       "    </tr>\n",
       "    <tr>\n",
       "      <th>2</th>\n",
       "      <td>P00000342</td>\n",
       "      <td>238</td>\n",
       "    </tr>\n",
       "    <tr>\n",
       "      <th>3</th>\n",
       "      <td>P00000442</td>\n",
       "      <td>92</td>\n",
       "    </tr>\n",
       "    <tr>\n",
       "      <th>4</th>\n",
       "      <td>P00000542</td>\n",
       "      <td>146</td>\n",
       "    </tr>\n",
       "  </tbody>\n",
       "</table>\n",
       "</div>"
      ],
      "text/plain": [
       "  Product_ID  Freq\n",
       "0  P00000142  1130\n",
       "1  P00000242   371\n",
       "2  P00000342   238\n",
       "3  P00000442    92\n",
       "4  P00000542   146"
      ]
     },
     "execution_count": 12,
     "metadata": {},
     "output_type": "execute_result"
    }
   ],
   "source": [
    "freq_purchase =  blackfriday.groupby(['Product_ID']).Product_ID.count().to_frame() # counting the frequency for each product\n",
    "freq_purchase['Freq'] = freq_purchase.Product_ID #create a new column named \"Freq\"\n",
    "freq_purchase = freq_purchase.drop(columns=['Product_ID'], axis=1) \n",
    "freq_purchase.reset_index(level=0, inplace=True)\n",
    "freq_purchase.head()"
   ]
  },
  {
   "cell_type": "markdown",
   "metadata": {},
   "source": [
    "Merge the two tables: freq_purchase and total_purchase_of_a_product"
   ]
  },
  {
   "cell_type": "code",
   "execution_count": 13,
   "metadata": {},
   "outputs": [
    {
     "data": {
      "text/html": [
       "<div>\n",
       "<style scoped>\n",
       "    .dataframe tbody tr th:only-of-type {\n",
       "        vertical-align: middle;\n",
       "    }\n",
       "\n",
       "    .dataframe tbody tr th {\n",
       "        vertical-align: top;\n",
       "    }\n",
       "\n",
       "    .dataframe thead th {\n",
       "        text-align: right;\n",
       "    }\n",
       "</style>\n",
       "<table border=\"1\" class=\"dataframe\">\n",
       "  <thead>\n",
       "    <tr style=\"text-align: right;\">\n",
       "      <th></th>\n",
       "      <th>Product_ID</th>\n",
       "      <th>Freq</th>\n",
       "      <th>Purchase</th>\n",
       "    </tr>\n",
       "  </thead>\n",
       "  <tbody>\n",
       "    <tr>\n",
       "      <th>0</th>\n",
       "      <td>P00000142</td>\n",
       "      <td>1130</td>\n",
       "      <td>12592163</td>\n",
       "    </tr>\n",
       "    <tr>\n",
       "      <th>1</th>\n",
       "      <td>P00000242</td>\n",
       "      <td>371</td>\n",
       "      <td>3914901</td>\n",
       "    </tr>\n",
       "    <tr>\n",
       "      <th>2</th>\n",
       "      <td>P00000342</td>\n",
       "      <td>238</td>\n",
       "      <td>1261383</td>\n",
       "    </tr>\n",
       "    <tr>\n",
       "      <th>3</th>\n",
       "      <td>P00000442</td>\n",
       "      <td>92</td>\n",
       "      <td>441173</td>\n",
       "    </tr>\n",
       "    <tr>\n",
       "      <th>4</th>\n",
       "      <td>P00000542</td>\n",
       "      <td>146</td>\n",
       "      <td>791219</td>\n",
       "    </tr>\n",
       "  </tbody>\n",
       "</table>\n",
       "</div>"
      ],
      "text/plain": [
       "  Product_ID  Freq  Purchase\n",
       "0  P00000142  1130  12592163\n",
       "1  P00000242   371   3914901\n",
       "2  P00000342   238   1261383\n",
       "3  P00000442    92    441173\n",
       "4  P00000542   146    791219"
      ]
     },
     "execution_count": 13,
     "metadata": {},
     "output_type": "execute_result"
    }
   ],
   "source": [
    "#Using outer join to merge the two tables together.\n",
    "freq_purchase = freq_purchase.merge(total_purchase_of_a_product, left_on='Product_ID', right_on='Product_ID', how='outer')\n",
    "freq_purchase.head()"
   ]
  },
  {
   "cell_type": "markdown",
   "metadata": {},
   "source": [
    "There are several ways to measure purchase frequency on its own. However, we need to measure whether purchase frequency has increased as a result of the community. For this, we can reuse much of the same process to measure changes in spending.\n",
    "\n",
    "Frequency of purchase is the number of orders placed by a customer over a defined period of time (typically one month or one year). Greater purchase frequently typically implies higher profitability. An online community might encourage people to use the product more and thus purchase more frequently, or use the product more often and have to replace it most often."
   ]
  },
  {
   "cell_type": "markdown",
   "metadata": {},
   "source": [
    "### Graphing Frequency Distribution of Purchased Product"
   ]
  },
  {
   "cell_type": "code",
   "execution_count": 14,
   "metadata": {},
   "outputs": [
    {
     "data": {
      "image/png": "[encoded data removed]",
      "text/plain": [
       "<Figure size 1440x1080 with 1 Axes>"
      ]
     },
     "metadata": {
      "needs_background": "light"
     },
     "output_type": "display_data"
    }
   ],
   "source": [
    "#Using bar plot to describe the frequency of a product is purchased.\n",
    "ax = freq_purchase.plot.bar(x='Product_ID', y='Freq', figsize=(20, 15))\n",
    "ax.set_xlabel(\"Product ID\") #Label the x-axis\n",
    "ax.set_ylabel(\"Frequency Purchased\") #label the y-axis\n",
    "ax.set_xticks([])\n",
    "ax.get_legend().remove()"
   ]
  },
  {
   "cell_type": "markdown",
   "metadata": {},
   "source": [
    "### Graphing the amount of purchase from different city category"
   ]
  },
  {
   "cell_type": "code",
   "execution_count": 15,
   "metadata": {},
   "outputs": [
    {
     "data": {
      "text/plain": [
       "Text(0,0.5,'The Amount of Purchase in U.S Dollar')"
      ]
     },
     "execution_count": 15,
     "metadata": {},
     "output_type": "execute_result"
    },
    {
     "data": {
      "image/png": "[encoded data removed]",
      "text/plain": [
       "<Figure size 1080x576 with 1 Axes>"
      ]
     },
     "metadata": {
      "needs_background": "light"
     },
     "output_type": "display_data"
    }
   ],
   "source": [
    "groups = blackfriday.groupby(['City_Category']).agg({'Purchase': np.sum}).reset_index()\n",
    "ax = groups.plot.bar(x='City_Category', y='Purchase', rot=0)\n",
    "ax.figure.set_size_inches(15, 8)\n",
    "plt.title(\"The Amount of Purchase From A City Category\")\n",
    "plt.xlabel(\"City Category\")\n",
    "plt.ylabel(\"The Amount of Purchase in U.S Dollar\")"
   ]
  },
  {
   "cell_type": "markdown",
   "metadata": {},
   "source": [
    "### Graphing Frequency Distribution of Product Categories"
   ]
  },
  {
   "cell_type": "code",
   "execution_count": 16,
   "metadata": {},
   "outputs": [
    {
     "data": {
      "text/plain": [
       "Text(0,0.5,'Counts')"
      ]
     },
     "execution_count": 16,
     "metadata": {},
     "output_type": "execute_result"
    },
    {
     "data": {
      "image/png": "[encoded data removed]",
      "text/plain": [
       "<Figure size 720x432 with 1 Axes>"
      ]
     },
     "metadata": {
      "needs_background": "light"
     },
     "output_type": "display_data"
    }
   ],
   "source": [
    "# Create a frequency table of Product_Category from category_table\n",
    "freq_category = category_table.groupby('Product_Category').count()\n",
    "freq_category = freq_category.drop(['Age'], axis=1)\n",
    "# Plotting the distribution with bar chart\n",
    "ax=freq_category.plot(kind='bar', legend=False, figsize=(10,6))\n",
    "ax.set_xticklabels(range(1,19))\n",
    "ax.set_title(\"Frequency Distribution of Product Categories\")\n",
    "ax.set_xlabel(\"Categories\")\n",
    "ax.set_ylabel(\"Counts\")"
   ]
  },
  {
   "cell_type": "markdown",
   "metadata": {},
   "source": [
    "# <section id=\"7\">Top 5 selling products</section>"
   ]
  },
  {
   "cell_type": "markdown",
   "metadata": {},
   "source": [
    "### Find The Target audiance for top 5 best selling products"
   ]
  },
  {
   "cell_type": "code",
   "execution_count": 17,
   "metadata": {},
   "outputs": [
    {
     "data": {
      "text/html": [
       "<div>\n",
       "<style scoped>\n",
       "    .dataframe tbody tr th:only-of-type {\n",
       "        vertical-align: middle;\n",
       "    }\n",
       "\n",
       "    .dataframe tbody tr th {\n",
       "        vertical-align: top;\n",
       "    }\n",
       "\n",
       "    .dataframe thead th {\n",
       "        text-align: right;\n",
       "    }\n",
       "</style>\n",
       "<table border=\"1\" class=\"dataframe\">\n",
       "  <thead>\n",
       "    <tr style=\"text-align: right;\">\n",
       "      <th></th>\n",
       "      <th>Product_ID</th>\n",
       "      <th>Freq</th>\n",
       "    </tr>\n",
       "  </thead>\n",
       "  <tbody>\n",
       "    <tr>\n",
       "      <th>2534</th>\n",
       "      <td>P00265242</td>\n",
       "      <td>1858</td>\n",
       "    </tr>\n",
       "    <tr>\n",
       "      <th>1014</th>\n",
       "      <td>P00110742</td>\n",
       "      <td>1591</td>\n",
       "    </tr>\n",
       "    <tr>\n",
       "      <th>249</th>\n",
       "      <td>P00025442</td>\n",
       "      <td>1586</td>\n",
       "    </tr>\n",
       "    <tr>\n",
       "      <th>1028</th>\n",
       "      <td>P00112142</td>\n",
       "      <td>1539</td>\n",
       "    </tr>\n",
       "    <tr>\n",
       "      <th>565</th>\n",
       "      <td>P00057642</td>\n",
       "      <td>1430</td>\n",
       "    </tr>\n",
       "  </tbody>\n",
       "</table>\n",
       "</div>"
      ],
      "text/plain": [
       "     Product_ID  Freq\n",
       "2534  P00265242  1858\n",
       "1014  P00110742  1591\n",
       "249   P00025442  1586\n",
       "1028  P00112142  1539\n",
       "565   P00057642  1430"
      ]
     },
     "execution_count": 17,
     "metadata": {},
     "output_type": "execute_result"
    }
   ],
   "source": [
    "freq_purchase =  blackfriday.groupby(['Product_ID']).Product_ID.count().to_frame() # counting the frequency for each product\n",
    "freq_purchase['Freq'] = freq_purchase.Product_ID #create a new column named \"Freq\"\n",
    "freq_purchase = freq_purchase.drop(columns=['Product_ID'], axis=1) \n",
    "freq_purchase.reset_index(level=0, inplace=True)\n",
    "top_5 = freq_purchase.sort_values(by=['Freq'], ascending=False).head()\n",
    "top_5"
   ]
  },
  {
   "cell_type": "markdown",
   "metadata": {},
   "source": [
    "It looks like our best 5 selling products are:\n",
    "<ul>\n",
    "    <li>P00265242 = 1858</li>\n",
    "    <li>P00110742 = 1591</li>\n",
    "    <li>P00025442 = 1586</li>\n",
    "    <li>P00112142 = 1539</li>\n",
    "    <li>P00057642 = 1430</li>\n",
    "</ul>"
   ]
  },
  {
   "cell_type": "markdown",
   "metadata": {},
   "source": [
    "Having found the top selling products, one thing we could be interested in is finding the target occupation to advertise/appeal to when considering these five products."
   ]
  },
  {
   "cell_type": "code",
   "execution_count": 18,
   "metadata": {},
   "outputs": [
    {
     "data": {
      "text/plain": [
       "Text(0,0.5,'The Amount of Purchase in U.S Dollar')"
      ]
     },
     "execution_count": 18,
     "metadata": {},
     "output_type": "execute_result"
    },
    {
     "data": {
      "image/png": "[encoded data removed]",
      "text/plain": [
       "<Figure size 1080x576 with 1 Axes>"
      ]
     },
     "metadata": {
      "needs_background": "light"
     },
     "output_type": "display_data"
    }
   ],
   "source": [
    "#Most sold product\n",
    "top_5 = blackfriday.loc[blackfriday['Product_ID'].isin(['P00265242','P00110742','P00025442','P00112142','P00057642'])]\n",
    "groups = blackfriday.groupby(['Occupation']).agg({'Purchase': np.sum}).reset_index()\n",
    "ax = groups.plot.bar(x='Occupation', y='Purchase', rot=0)\n",
    "ax.figure.set_size_inches(15, 8)\n",
    "plt.title(\"The Amount of Purchase By Different Occupations\")\n",
    "plt.xlabel(\"Occupation\")\n",
    "plt.ylabel(\"The Amount of Purchase in U.S Dollar\")"
   ]
  },
  {
   "cell_type": "markdown",
   "metadata": {},
   "source": [
    "It would seem that Occupation 4 and 0 are the top buyers of our products. Say that these two occupations are business related. We could use this information to put an ad over these products with a person in a business suit enjoying the product."
   ]
  },
  {
   "cell_type": "markdown",
   "metadata": {},
   "source": [
    "We can see from our previous graphs that the top selling \n",
    "product is P00265242. The top consumer city is city B. Now lets try to advertise the best selling product in the \n",
    "largest consumer city.\n",
    "Our goal is to make an ad that appeals to the largest consumer group of product P00265242 in city B.\n",
    "When making the ad we need to take into account the target age group, the taget gender, and the target marital status "
   ]
  },
  {
   "cell_type": "code",
   "execution_count": 19,
   "metadata": {},
   "outputs": [
    {
     "data": {
      "text/plain": [
       "Text(0,0.5,'Amount of Product P00265242 Purchased')"
      ]
     },
     "execution_count": 19,
     "metadata": {},
     "output_type": "execute_result"
    },
    {
     "data": {
      "image/png": "[encoded data removed]",
      "text/plain": [
       "<Figure size 1080x576 with 1 Axes>"
      ]
     },
     "metadata": {
      "needs_background": "light"
     },
     "output_type": "display_data"
    }
   ],
   "source": [
    "#Highest spending city\n",
    "city_B = blackfriday.loc[blackfriday[\"City_Category\"] == \"B\"]\n",
    "#Most sold product\n",
    "city_B_best_seller = city_B.loc[city_B['Product_ID']=='P00265242']\n",
    "#city_b_cat_5 = pd.merge(city_A,catagory_5, on='Product_ID', how='inner')\n",
    "freq_purchase =  city_B_best_seller.groupby(['Age']).Product_ID.count().to_frame()\n",
    "freq_purchase['Freq'] = freq_purchase.Product_ID #create a new column named \"Freq\"\n",
    "freq_purchase = freq_purchase.drop(columns=['Product_ID'], axis=1) \n",
    "freq_purchase.reset_index(level=0, inplace=True)\n",
    "ax = freq_purchase.plot.bar(x='Age', y='Freq', rot=0)\n",
    "ax.figure.set_size_inches(15, 8)\n",
    "plt.xlabel(\"Age Groups that live in city B\")\n",
    "plt.ylabel(\"Amount of Product P00265242 Purchased\")"
   ]
  },
  {
   "cell_type": "markdown",
   "metadata": {},
   "source": [
    "Unsuprisingly, based on graphs above, we can see that the target age group should be ages from 26 to 35. Now lets see how many of our taget\n",
    "age are male or female."
   ]
  },
  {
   "cell_type": "code",
   "execution_count": 20,
   "metadata": {},
   "outputs": [
    {
     "data": {
      "text/plain": [
       "Text(0,0.5,'Amount of Product P00265242 Purchased')"
      ]
     },
     "execution_count": 20,
     "metadata": {},
     "output_type": "execute_result"
    },
    {
     "data": {
      "image/png": "[encoded data removed]",
      "text/plain": [
       "<Figure size 1080x576 with 1 Axes>"
      ]
     },
     "metadata": {
      "needs_background": "light"
     },
     "output_type": "display_data"
    }
   ],
   "source": [
    "target = city_B_best_seller.loc[city_B_best_seller['Age']=='26-35']\n",
    "freq_purchase =  target.groupby(['Gender']).Product_ID.count().to_frame()\n",
    "freq_purchase['Freq'] = freq_purchase.Product_ID #create a new column named \"Freq\"\n",
    "freq_purchase = freq_purchase.drop(columns=['Product_ID'], axis=1) \n",
    "freq_purchase.reset_index(level=0, inplace=True)\n",
    "ax = freq_purchase.plot.bar(x='Gender', y='Freq', rot=0)\n",
    "ax.figure.set_size_inches(15, 8)\n",
    "plt.xlabel(\"Gender Groups that live in city B\")\n",
    "plt.ylabel(\"Amount of Product P00265242 Purchased\")"
   ]
  },
  {
   "cell_type": "markdown",
   "metadata": {},
   "source": [
    "We can now narrow our target group to 26-35 year old men. Lets see if the taget group is single or not"
   ]
  },
  {
   "cell_type": "code",
   "execution_count": 21,
   "metadata": {},
   "outputs": [
    {
     "data": {
      "text/plain": [
       "Text(0,0.5,'Amount of Product P00265242 Purchased')"
      ]
     },
     "execution_count": 21,
     "metadata": {},
     "output_type": "execute_result"
    },
    {
     "data": {
      "image/png": "[encoded data removed]",
      "text/plain": [
       "<Figure size 1080x576 with 1 Axes>"
      ]
     },
     "metadata": {
      "needs_background": "light"
     },
     "output_type": "display_data"
    }
   ],
   "source": [
    "target = target.loc[target['Gender']=='M']\n",
    "freq_purchase =  target.groupby(['Marital_Status']).Product_ID.count().to_frame()\n",
    "freq_purchase['Freq'] = freq_purchase.Product_ID #create a new column named \"Freq\"\n",
    "freq_purchase = freq_purchase.drop(columns=['Product_ID'], axis=1) \n",
    "freq_purchase.reset_index(level=0, inplace=True)\n",
    "ax = freq_purchase.plot.bar(x='Marital_Status', y='Freq', rot=0)\n",
    "ax.figure.set_size_inches(15, 8)\n",
    "plt.xlabel(\"Marital_Status\")\n",
    "plt.ylabel(\"Amount of Product P00265242 Purchased\")"
   ]
  },
  {
   "cell_type": "markdown",
   "metadata": {},
   "source": [
    "As an advertising company we should focus on creating an ad that will appeal to single men around the age of 25-36 who live in city B."
   ]
  },
  {
   "cell_type": "markdown",
   "metadata": {},
   "source": [
    "Let's continue with the previous scenario. Suppose this time we want to find a target age group for each product category.  "
   ]
  },
  {
   "cell_type": "markdown",
   "metadata": {},
   "source": [
    "# <section id=\"8\"> Product Category </section>"
   ]
  },
  {
   "cell_type": "markdown",
   "metadata": {},
   "source": [
    "### Graphing percentage of purchase from each age group by category "
   ]
  },
  {
   "cell_type": "markdown",
   "metadata": {},
   "source": [
    "#### Find the target audiance for each product category"
   ]
  },
  {
   "cell_type": "code",
   "execution_count": 22,
   "metadata": {},
   "outputs": [],
   "source": [
    "# Obtain a list of age groups\n",
    "age_column = blackfriday.Age.unique()\n",
    "age_column.sort()\n",
    "# Create a new dataframe for counting\n",
    "age_count = pd.DataFrame(index=range(1,19), columns=age_column)\n",
    "\n",
    "# Obtain total purchases made by each age group for every category\n",
    "for cate_num, cate_group in category_table.groupby('Product_Category'):\n",
    "    count = cate_group.groupby('Age').count()\n",
    "    for age_group, row in count.iterrows():\n",
    "        age_count.loc[cate_num, age_group] = count.loc[age_group, 'Product_Category']"
   ]
  },
  {
   "cell_type": "code",
   "execution_count": 23,
   "metadata": {},
   "outputs": [
    {
     "data": {
      "image/png": "[encoded data removed]",
      "text/plain": [
       "<Figure size 1152x576 with 1 Axes>"
      ]
     },
     "metadata": {
      "needs_background": "light"
     },
     "output_type": "display_data"
    }
   ],
   "source": [
    "# From raw value to percentage\n",
    "totals = age_count.sum(axis=1).values\n",
    "age_17 = [i / j * 100 for i,j in zip(age_count['0-17'], totals)]\n",
    "age18_25 = [i / j * 100 for i,j in zip(age_count['18-25'], totals)]\n",
    "age26_35 = [i / j * 100 for i,j in zip(age_count['26-35'], totals)]\n",
    "age36_45 = [i / j * 100 for i,j in zip(age_count['36-45'], totals)]\n",
    "age46_50 = [i / j * 100 for i,j in zip(age_count['46-50'], totals)]\n",
    "age51_55 = [i / j * 100 for i,j in zip(age_count['51-55'], totals)]\n",
    "age55_ = [i / j * 100 for i,j in zip(age_count['55+'], totals)]\n",
    "\n",
    "# plot\n",
    "barWidth = 0.85\n",
    "names = list(range(1,19))\n",
    "r = list(range(0,18))\n",
    "\n",
    "# Set size\n",
    "fig = plt.figure()\n",
    "fig.set_size_inches(16, 8)\n",
    "\n",
    "# Create bars\n",
    "plt.bar(r, age_17, color='#d699ff', edgecolor='white', width=barWidth)\n",
    "plt.bar(r, age18_25, bottom=age_17, color='#99b3ff', edgecolor='white', width=barWidth)\n",
    "plt.bar(r, age26_35, bottom=[i+j for i,j in zip(age_17,age18_25)], color='#80ffe5', edgecolor='white', width=barWidth)\n",
    "plt.bar(r, age36_45, bottom=[i+j+k for i,j,k in zip(age_17,age18_25,age26_35)], color='#80ff80', edgecolor='white', width=barWidth)\n",
    "plt.bar(r, age46_50, bottom=[i+j+k+l for i,j,k,l in zip(age_17,age18_25,age26_35,age36_45)], color='#ffff66', edgecolor='white', width=barWidth)\n",
    "plt.bar(r, age51_55, bottom=[i+j+k+l+m for i,j,k,l,m in zip(age_17,age18_25,age26_35,age36_45,age46_50)], color='#ffcc99', edgecolor='white', width=barWidth)\n",
    "plt.bar(r, age55_, bottom=[i+j+k+l+m+n for i,j,k,l,m,n in zip(age_17,age18_25,age26_35,age36_45,age46_50,age51_55)], color='#ff9999', edgecolor='white', width=barWidth)\n",
    "\n",
    "# Add title and labels\n",
    "plt.xticks(r, names)\n",
    "plt.xlabel(\"Product Categories\")\n",
    "plt.ylabel(\"Percentage\")\n",
    "plt.title(\"Percentage of Purchases Made by Age Groups for Each Category\")\n",
    "plt.legend(age_column,loc=0, bbox_to_anchor=(1.0, 1.0))\n",
    "# Show graphic\n",
    "plt.show()"
   ]
  },
  {
   "cell_type": "markdown",
   "metadata": {},
   "source": [
    "What an interesting find! As we have observed in previous graphs, the 26 to 35 age group was the overall biggest spender. However, as you can observe, they are not only the top spenders overall, they are the top spenders for every category. <br>\n",
    "In the role of a retailer or advertising agency this information is invaluable. Not only does it tell us the age groups that spend the most across the board, 18 to 45, it shows us how little groups like 0 to 17 and 55+ spend. "
   ]
  },
  {
   "cell_type": "markdown",
   "metadata": {},
   "source": [
    "# <section id=\"hypothesis\">Hypothesis testing for the mean of different groups of age</section>"
   ]
  },
  {
   "cell_type": "markdown",
   "metadata": {},
   "source": [
    "Next, we are going to perform hypothesis testing on the mean purchase of male and female at significant level α = 0.05. <br>\n",
    "Base on the previous observation, <br>\n",
    "the <b>null hypothesis</b> is that mean purchase made by males and females are equal, and <br>\n",
    "our <b>alternative hypothesis</b> is mean purchase made by males and females are different.\n",
    "\n",
    "$\n",
    "H_0 : μ_{male} = μ_{female} \\\\\n",
    "H_1 : μ_{male} ≠ μ_{female} \\\\\n",
    "α = 0.05\n",
    "$"
   ]
  },
  {
   "cell_type": "code",
   "execution_count": 24,
   "metadata": {},
   "outputs": [
    {
     "name": "stdout",
     "output_type": "stream",
     "text": [
      "2 sample test (assuming equal variance)\n",
      "F-statistic =  44.13462293864972\n",
      "P-value =  0.0\n"
     ]
    }
   ],
   "source": [
    "female_Purchase= blackfriday[blackfriday['Gender'] == 'F']['Purchase']\n",
    "male_Purchase = blackfriday[blackfriday['Gender'] == 'M']['Purchase']\n",
    "# Perform a standard independent 2 sample test that assumes equal population variances for male and female\n",
    "print(\"2 sample test (assuming equal variance)\")\n",
    "f_val, p_val = stats.ttest_ind(male_Purchase, female_Purchase) \n",
    "print(\"F-statistic = \", f_val)\n",
    "print(\"P-value = \", p_val)"
   ]
  },
  {
   "cell_type": "markdown",
   "metadata": {},
   "source": [
    "Because the p-value = 0.0 < α = 0.05, there is enough evidence to prove that mean purchase made by males is significantly different female."
   ]
  },
  {
   "cell_type": "code",
   "execution_count": 25,
   "metadata": {},
   "outputs": [
    {
     "name": "stdout",
     "output_type": "stream",
     "text": [
      "Welch’s t-test\n",
      "F-statistic =  45.67264701908008\n",
      "P-value =  0.0\n"
     ]
    }
   ],
   "source": [
    "# perform Welch’s t-test, which does not assume equal population variance \n",
    "print(\"Welch’s t-test\")\n",
    "f_val, p_val = stats.ttest_ind(male_Purchase, female_Purchase, equal_var=False) \n",
    "print(\"F-statistic = \", f_val)\n",
    "print(\"P-value = \", p_val)"
   ]
  },
  {
   "cell_type": "markdown",
   "metadata": {},
   "source": [
    "Because the means are significantly different, we should expect the variance of these two population also differ. <br>For different population variance, Welch's t-test will have a higher accuracy. <br>Result of Welch's t-test also indicates the population means are different since the p-value = 0.0 < α = 0.05."
   ]
  },
  {
   "cell_type": "markdown",
   "metadata": {},
   "source": [
    "# <section id=\"ANOVA\">Analysis of Variance </section>"
   ]
  },
  {
   "cell_type": "markdown",
   "metadata": {},
   "source": [
    "For three or more population means, performing three or more hypothesis testing separately with <b>null hypothesis</b> $H_0: μ_1 = μ_2 = ... = μ_n$ would increase the probability of <b>Type I Error</b> (rejection of a true null hypothesis) so that it could be much higher than the level of significant α. <br><br>\n",
    "In stead of a 2 sample t-test,\n",
    "<b>Analysis of Variance (ANOVA)</b> is an inferential method used to test the equality of three or more population means."
   ]
  },
  {
   "cell_type": "markdown",
   "metadata": {},
   "source": [
    "Now let's perform an ANOVA on the mean purchase of each age group. As the previous graphs show, different age groups have different purchase power. We are going to test if the mean purchases of different age group is statistically significantly different."
   ]
  },
  {
   "cell_type": "markdown",
   "metadata": {},
   "source": [
    "Using scipy.stats to perform 1-way ANOVA that tests the null hypothesis that two or more groups have the same population mean. "
   ]
  },
  {
   "cell_type": "code",
   "execution_count": 26,
   "metadata": {},
   "outputs": [
    {
     "name": "stdout",
     "output_type": "stream",
     "text": [
      "One-way ANOVA\n",
      "F-statistic =  43.48718107271441\n",
      "P-value =  1.9552104879020313e-53\n"
     ]
    }
   ],
   "source": [
    "age_17= blackfriday[blackfriday['Age'] == '0-17']['Purchase']\n",
    "age18_25= blackfriday[blackfriday['Age'] == '18-25']['Purchase']\n",
    "age26_35= blackfriday[blackfriday['Age'] == '26-35']['Purchase']\n",
    "age36_45= blackfriday[blackfriday['Age'] == '36-45']['Purchase']\n",
    "age46_50= blackfriday[blackfriday['Age'] == '46-50']['Purchase']\n",
    "age51_55= blackfriday[blackfriday['Age'] == '51-55']['Purchase']\n",
    "age55_= blackfriday[blackfriday['Age'] == '55+']['Purchase']\n",
    "\n",
    "f_val, p_val = stats.f_oneway(age_17, age18_25, age26_35, age36_45, age46_50, age51_55, age55_) \n",
    "print(\"One-way ANOVA\")\n",
    "print(\"F-statistic = \", f_val)\n",
    "print(\"P-value = \", p_val)"
   ]
  },
  {
   "cell_type": "markdown",
   "metadata": {},
   "source": [
    "Using Statsmodels to produce ANOVA table"
   ]
  },
  {
   "cell_type": "code",
   "execution_count": 27,
   "metadata": {},
   "outputs": [
    {
     "name": "stdout",
     "output_type": "stream",
     "text": [
      "                sum_sq        df          F        PR(>F)\n",
      "Age       6.470585e+09       6.0  43.487181  1.955210e-53\n",
      "Residual  1.333110e+13  537570.0        NaN           NaN\n"
     ]
    }
   ],
   "source": [
    "model = ols('Purchase ~ Age', data=blackfriday).fit()\n",
    "anova_table = sm.stats.anova_lm(model, typ=2)\n",
    "print (anova_table)"
   ]
  },
  {
   "cell_type": "markdown",
   "metadata": {},
   "source": [
    "Sure enough, since the p-value is significantly small, we have enough statistical evidence to prove that the mean purchase of different age group is significantly different. "
   ]
  },
  {
   "cell_type": "markdown",
   "metadata": {},
   "source": [
    "# <section id=\"9\">Linear Regression </section>\n",
    "Fit a multiple linear regression model for Purchase using Occupation and Age"
   ]
  },
  {
   "cell_type": "markdown",
   "metadata": {},
   "source": [
    "Since most of the variables in the dataset are categorical, it is necessary to convert these qualitative (characteristic) values to quantitative (numerical) values."
   ]
  },
  {
   "cell_type": "markdown",
   "metadata": {},
   "source": [
    "Occupations in the dataset are already represented as numbers so we just need to assign each age group a numeric value. From the \n",
    "Exploratory Data Analysis, we know the rank of the purchase power of each group, which is a numeric representation of each age group and can be used for the linear regression model."
   ]
  },
  {
   "cell_type": "code",
   "execution_count": 53,
   "metadata": {},
   "outputs": [],
   "source": [
    "numeric = blackfriday[['Age', 'Occupation', 'Purchase', 'Stay_In_Current_City_Years', 'Marital_Status']]\n",
    "numeric = numeric.copy()"
   ]
  },
  {
   "cell_type": "code",
   "execution_count": 54,
   "metadata": {},
   "outputs": [
    {
     "data": {
      "text/html": [
       "<div>\n",
       "<style scoped>\n",
       "    .dataframe tbody tr th:only-of-type {\n",
       "        vertical-align: middle;\n",
       "    }\n",
       "\n",
       "    .dataframe tbody tr th {\n",
       "        vertical-align: top;\n",
       "    }\n",
       "\n",
       "    .dataframe thead th {\n",
       "        text-align: right;\n",
       "    }\n",
       "</style>\n",
       "<table border=\"1\" class=\"dataframe\">\n",
       "  <thead>\n",
       "    <tr style=\"text-align: right;\">\n",
       "      <th></th>\n",
       "      <th>Age</th>\n",
       "      <th>Occupation</th>\n",
       "      <th>Purchase</th>\n",
       "      <th>Stay_In_Current_City_Years</th>\n",
       "      <th>Marital_Status</th>\n",
       "      <th>rank</th>\n",
       "    </tr>\n",
       "  </thead>\n",
       "  <tbody>\n",
       "    <tr>\n",
       "      <th>0</th>\n",
       "      <td>0-17</td>\n",
       "      <td>10</td>\n",
       "      <td>8370</td>\n",
       "      <td>2</td>\n",
       "      <td>0</td>\n",
       "      <td>7.0</td>\n",
       "    </tr>\n",
       "    <tr>\n",
       "      <th>1</th>\n",
       "      <td>0-17</td>\n",
       "      <td>10</td>\n",
       "      <td>15200</td>\n",
       "      <td>2</td>\n",
       "      <td>0</td>\n",
       "      <td>7.0</td>\n",
       "    </tr>\n",
       "    <tr>\n",
       "      <th>2</th>\n",
       "      <td>0-17</td>\n",
       "      <td>10</td>\n",
       "      <td>1422</td>\n",
       "      <td>2</td>\n",
       "      <td>0</td>\n",
       "      <td>7.0</td>\n",
       "    </tr>\n",
       "    <tr>\n",
       "      <th>3</th>\n",
       "      <td>0-17</td>\n",
       "      <td>10</td>\n",
       "      <td>1057</td>\n",
       "      <td>2</td>\n",
       "      <td>0</td>\n",
       "      <td>7.0</td>\n",
       "    </tr>\n",
       "    <tr>\n",
       "      <th>4</th>\n",
       "      <td>55+</td>\n",
       "      <td>16</td>\n",
       "      <td>7969</td>\n",
       "      <td>4</td>\n",
       "      <td>0</td>\n",
       "      <td>6.0</td>\n",
       "    </tr>\n",
       "  </tbody>\n",
       "</table>\n",
       "</div>"
      ],
      "text/plain": [
       "    Age  Occupation  Purchase  Stay_In_Current_City_Years  Marital_Status  \\\n",
       "0  0-17          10      8370                           2               0   \n",
       "1  0-17          10     15200                           2               0   \n",
       "2  0-17          10      1422                           2               0   \n",
       "3  0-17          10      1057                           2               0   \n",
       "4   55+          16      7969                           4               0   \n",
       "\n",
       "   rank  \n",
       "0   7.0  \n",
       "1   7.0  \n",
       "2   7.0  \n",
       "3   7.0  \n",
       "4   6.0  "
      ]
     },
     "execution_count": 54,
     "metadata": {},
     "output_type": "execute_result"
    }
   ],
   "source": [
    "# Assign each age group a numeric value based on the rank of the amount of purchase\n",
    "#     1 is assigned to Age group 26-35\n",
    "#     2 is assigned to Age group 36-45\n",
    "#     3 is assigned to Age group 18-25\n",
    "#     4 is assigned to Age group 46-50\n",
    "#     5 is assigned to Age group 51-55\n",
    "#     6 is assigned to Age group 55+\n",
    "#     7 is assigned to Age group 0-17 \n",
    "\n",
    "for index, row in numeric.iterrows():\n",
    "    if row['Age'] == '26-35':\n",
    "        numeric.at[index, 'rank'] = 1\n",
    "    elif row['Age'] == '36-45':\n",
    "        numeric.at[index, 'rank'] = 2\n",
    "    elif row['Age'] == '18-25':\n",
    "        numeric.at[index, 'rank'] = 3\n",
    "    elif row['Age'] == '46-50':\n",
    "        numeric.at[index, 'rank'] = 4\n",
    "    elif row['Age'] == '51-55':\n",
    "        numeric.at[index, 'rank'] = 5\n",
    "    elif row['Age'] == '55+':\n",
    "        numeric.at[index, 'rank'] = 6\n",
    "    elif row['Age'] == '0-17':\n",
    "        numeric.at[index, 'rank'] = 7\n",
    "numeric.head()"
   ]
  },
  {
   "cell_type": "code",
   "execution_count": 107,
   "metadata": {},
   "outputs": [
    {
     "data": {
      "text/html": [
       "<div>\n",
       "<style scoped>\n",
       "    .dataframe tbody tr th:only-of-type {\n",
       "        vertical-align: middle;\n",
       "    }\n",
       "\n",
       "    .dataframe tbody tr th {\n",
       "        vertical-align: top;\n",
       "    }\n",
       "\n",
       "    .dataframe thead th {\n",
       "        text-align: right;\n",
       "    }\n",
       "</style>\n",
       "<table border=\"1\" class=\"dataframe\">\n",
       "  <thead>\n",
       "    <tr style=\"text-align: right;\">\n",
       "      <th></th>\n",
       "      <th>Occupation</th>\n",
       "      <th>rank</th>\n",
       "    </tr>\n",
       "  </thead>\n",
       "  <tbody>\n",
       "    <tr>\n",
       "      <th>0</th>\n",
       "      <td>10</td>\n",
       "      <td>7.0</td>\n",
       "    </tr>\n",
       "    <tr>\n",
       "      <th>1</th>\n",
       "      <td>10</td>\n",
       "      <td>7.0</td>\n",
       "    </tr>\n",
       "    <tr>\n",
       "      <th>2</th>\n",
       "      <td>10</td>\n",
       "      <td>7.0</td>\n",
       "    </tr>\n",
       "    <tr>\n",
       "      <th>3</th>\n",
       "      <td>10</td>\n",
       "      <td>7.0</td>\n",
       "    </tr>\n",
       "    <tr>\n",
       "      <th>4</th>\n",
       "      <td>16</td>\n",
       "      <td>6.0</td>\n",
       "    </tr>\n",
       "  </tbody>\n",
       "</table>\n",
       "</div>"
      ],
      "text/plain": [
       "   Occupation  rank\n",
       "0          10   7.0\n",
       "1          10   7.0\n",
       "2          10   7.0\n",
       "3          10   7.0\n",
       "4          16   6.0"
      ]
     },
     "execution_count": 107,
     "metadata": {},
     "output_type": "execute_result"
    }
   ],
   "source": [
    "X = numeric[['Occupation', 'rank']]\n",
    "y = numeric.Purchase\n",
    "reg = linear_model.LinearRegression().fit(X, y)\n",
    "X.head()"
   ]
  },
  {
   "cell_type": "code",
   "execution_count": 108,
   "metadata": {},
   "outputs": [
    {
     "name": "stdout",
     "output_type": "stream",
     "text": [
      "f-score of the linear regression model is \n",
      " 432953.05686537083\n",
      "with corresponding p-value \n",
      " 0.0\n",
      "R-square of the linear regression model \n",
      " 0.6169702643372129\n"
     ]
    }
   ],
   "source": [
    "est1 = sm.OLS(y, X).fit()\n",
    "print(\"f-score of the linear regression model is \\n\", est1.fvalue)\n",
    "print(\"with corresponding p-value \\n\", est1.f_pvalue)\n",
    "print(\"R-square of the linear regression model \\n\", est1.rsquared)"
   ]
  },
  {
   "cell_type": "markdown",
   "metadata": {},
   "source": [
    "The R-square indicates less than 0.0005 percent of the variance is explained by the linear regression model, which means the model is extremely inaccurate. The reason is very likely to be the lack of variables, especially numerical variables. Since the dataset naturally does not have sufficient numerical data, the only thing we can do to improve the model is to use more variables to construct the model."
   ]
  },
  {
   "cell_type": "markdown",
   "metadata": {},
   "source": [
    "Previous example demonstrated how to construct a multiple linear regression model with sklearn. We are going to use statsmodels to build another model with more variables to see if the accuracy could be improved."
   ]
  },
  {
   "cell_type": "code",
   "execution_count": 109,
   "metadata": {},
   "outputs": [
    {
     "name": "stdout",
     "output_type": "stream",
     "text": [
      "f-score of the linear regression model is \n",
      " 63.35785214084883\n",
      "with corresponding p-value \n",
      " 1.2220192407734705e-53\n",
      "R-square of the linear regression model \n",
      " 0.00047121499609947826\n"
     ]
    }
   ],
   "source": [
    "model = smf.ols(formula='Purchase ~ Occupation + rank + Stay_In_Current_City_Years + Marital_Status', data=numeric)\n",
    "est2 = model.fit()\n",
    "print(\"f-score of the linear regression model is \\n\", est2.fvalue)\n",
    "print(\"with corresponding p-value \\n\", est2.f_pvalue)\n",
    "print(\"R-square of the linear regression model \\n\", est2.rsquared)"
   ]
  },
  {
   "cell_type": "markdown",
   "metadata": {},
   "source": [
    "Even though the model is still horrible, we do see the R-square is slightly improved. <br>Wrapping up in a sentence, building na accurate linear regression model requires sufficient numerical data."
   ]
  },
  {
   "cell_type": "markdown",
   "metadata": {},
   "source": [
    "# <section id=\"10\">Logistic Regression </section>"
   ]
  },
  {
   "cell_type": "markdown",
   "metadata": {},
   "source": [
    "Male vs Female "
   ]
  },
  {
   "cell_type": "code",
   "execution_count": 31,
   "metadata": {},
   "outputs": [],
   "source": [
    "X = blackfriday[['Occupation', 'Purchase']].values.reshape(-1,2)\n",
    "y = (blackfriday['Gender'] == 'M').astype(np.int) #1 as Male, 0 as Female"
   ]
  },
  {
   "cell_type": "code",
   "execution_count": 32,
   "metadata": {},
   "outputs": [
    {
     "name": "stdout",
     "output_type": "stream",
     "text": [
      "Accuracy of logistic regression classifier on test set: 0.75\n"
     ]
    }
   ],
   "source": [
    "X_train, X_test, y_train, y_test = train_test_split(X, y, test_size=0.3, random_state=0)\n",
    "log_reg = linear_model.LogisticRegression()\n",
    "log_reg.fit(X_train,y_train)\n",
    "y_pred = log_reg.predict(X_test)\n",
    "print('Accuracy of logistic regression classifier on test set: {:.2f}'.format(log_reg.score(X_test, y_test)))"
   ]
  },
  {
   "cell_type": "markdown",
   "metadata": {},
   "source": [
    "### Compute precision, recall, F-measure and support"
   ]
  },
  {
   "cell_type": "code",
   "execution_count": 33,
   "metadata": {},
   "outputs": [
    {
     "name": "stdout",
     "output_type": "stream",
     "text": [
      "             precision    recall  f1-score   support\n",
      "\n",
      "          0       0.00      0.00      0.00     39780\n",
      "          1       0.75      1.00      0.86    121494\n",
      "\n",
      "avg / total       0.57      0.75      0.65    161274\n",
      "\n"
     ]
    },
    {
     "name": "stderr",
     "output_type": "stream",
     "text": [
      "C:\\Users\\bai_y\\Anaconda3\\lib\\site-packages\\sklearn\\metrics\\classification.py:1135: UndefinedMetricWarning: Precision and F-score are ill-defined and being set to 0.0 in labels with no predicted samples.\n",
      "  'precision', 'predicted', average, warn_for)\n"
     ]
    }
   ],
   "source": [
    "print(classification_report(y_test, y_pred))"
   ]
  },
  {
   "cell_type": "markdown",
   "metadata": {},
   "source": [
    "Single vs Married"
   ]
  },
  {
   "cell_type": "code",
   "execution_count": 34,
   "metadata": {},
   "outputs": [],
   "source": [
    "X = blackfriday[['Mean_age', 'Purchase']].values.reshape(-1,2)\n",
    "y = blackfriday['Marital_Status']"
   ]
  },
  {
   "cell_type": "code",
   "execution_count": 35,
   "metadata": {},
   "outputs": [
    {
     "name": "stdout",
     "output_type": "stream",
     "text": [
      "Accuracy of logistic regression classifier on test set: 0.67\n"
     ]
    }
   ],
   "source": [
    "X_train, X_test, y_train, y_test = train_test_split(X, y, test_size=0.3, random_state=0)\n",
    "log_reg = linear_model.LogisticRegression()\n",
    "log_reg.fit(X_train,y_train)\n",
    "y_pred = log_reg.predict(X_test)\n",
    "print('Accuracy of logistic regression classifier on test set: {:.2f}'.format(log_reg.score(X_test, y_test)))"
   ]
  },
  {
   "cell_type": "markdown",
   "metadata": {},
   "source": [
    "### Compute precision, recall, F-measure and support"
   ]
  },
  {
   "cell_type": "code",
   "execution_count": 36,
   "metadata": {},
   "outputs": [
    {
     "name": "stdout",
     "output_type": "stream",
     "text": [
      "             precision    recall  f1-score   support\n",
      "\n",
      "          0       0.66      0.91      0.76     95191\n",
      "          1       0.71      0.33      0.45     66083\n",
      "\n",
      "avg / total       0.68      0.67      0.64    161274\n",
      "\n"
     ]
    }
   ],
   "source": [
    "print(classification_report(y_test, y_pred))"
   ]
  },
  {
   "cell_type": "markdown",
   "metadata": {},
   "source": [
    "# <section id=\"conclusion\">Conclusion</section>"
   ]
  },
  {
   "cell_type": "code",
   "execution_count": null,
   "metadata": {},
   "outputs": [],
   "source": []
  }
 ],
 "metadata": {
  "kernelspec": {
   "display_name": "Python 3",
   "language": "python",
   "name": "python3"
  },
  "language_info": {
   "codemirror_mode": {
    "name": "ipython",
    "version": 3
   },
   "file_extension": ".py",
   "mimetype": "text/x-python",
   "name": "python",
   "nbconvert_exporter": "python",
   "pygments_lexer": "ipython3",
   "version": "3.7.0"
  }
 },
 "nbformat": 4,
 "nbformat_minor": 2
}
