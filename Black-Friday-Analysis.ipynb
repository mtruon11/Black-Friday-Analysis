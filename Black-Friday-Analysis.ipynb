{
 "cells": [
  {
   "cell_type": "markdown",
   "metadata": {},
   "source": [
    "![title](blackfriday.png)\n",
    "\n",
    "\n",
    "# Advertisements On Black Friday\n",
    "##### Minh Truong, Yunhan Bai, David Hood \n",
    "### -----------------------------------------------------------------------------------------------------------------------------------------------------------------\n"
   ]
  },
  {
   "cell_type": "markdown",
   "metadata": {},
   "source": [
    "# Table Of Contents:\n",
    "<ul>\n",
    "    <li><a href=\"#intro\">Introduction</a></li>\n",
    "    <li><a href=\"#1\">Get Started With Data</a>\n",
    "        <ul>\n",
    "            <li> <a href=\"#library\">Libraries</a></li>\n",
    "            <li><a href=\"#source\">Data Source</a></li>\n",
    "            <li><a href=\"#reading\">Reading Data</a></li>\n",
    "        </ul>\n",
    "    </li>\n",
    "    <li><a href=\"#2\">Tidying and Modifying Data</a>\n",
    "        <ul>\n",
    "            <li> <a href=\"#missingdata\">Handle Missing Data</a></li>\n",
    "            <li><a href=\"#melting\">Melting Data</a></li>\n",
    "        </ul>\n",
    "    </li>\n",
    "    <li><a href=\"#3\">Exploratory Data Analysis (EDA)</a>\n",
    "        <ul>\n",
    "            <li><a href=\"#4\">Gender</a></li>\n",
    "            <li><a href=\"#5\">Age</a></li>\n",
    "            <li><a href=\"#sum\">Sum Purchases</a></li>\n",
    "            <li><a href=\"#6\">Frequency Purchase</a></li>\n",
    "            <li><a href=\"#7\">Top 5 Selling</a></li>\n",
    "            <li><a href=\"#8\">Product Category</a></li>\n",
    "        </ul>\n",
    "    </li>\n",
    "    <li><a href=\"#hypothesis\">Hypothesis Testing</a></li>\n",
    "    <li><a href=\"#ANOVA\">Analysis of Variance</a></li>\n",
    "    <li><a href=\"#9\">Linear Regression</a></li>\n",
    "    <li><a href=\"#10\">Logistic Regression</a></li>\n",
    "    <li><a href=\"#conclusion\">Conclusion</a></li>\n",
    "</ul>\n"
   ]
  },
  {
   "cell_type": "markdown",
   "metadata": {},
   "source": [
    "# <section id=\"intro\">Introduction</section>\n",
    "<br>\n",
    "The <mark>first recorded use</mark> of the term “Black Friday” was applied not to holiday shopping but to <a href=\"https://www.history.com/news/whats-the-real-history-of-black-friday\">financial crisis</a>: specifically, the crash of the U.S. gold market on September 24, 1869. Two notoriously ruthless Wall Street financiers, Jay Gould and Jim Fisk, worked together to buy up as much as they could of the nation’s gold, hoping to drive the price sky-high and sell it for astonishing profits. On that Friday in September, the conspiracy finally unraveled, sending the stock market into free-fall and bankrupting everyone from Wall Street barons to farmers.\n",
    "<br><br>\n",
    "<mark>In recent years</mark>, another myth has surfaced that gives a particularly ugly twist to the tradition, claiming that back in the 1800s Southern plantation owners could buy slaves at a discount on the day after Thanksgiving. Though this version of Black Friday’s roots has understandably led some to call for a boycott of the retail holiday, it has no basis in fact.\n",
    "<br><br>\n",
    "The <strong>\"Black Friday\"</strong> we know today is a much happier occasion then the two above... <br>"
   ]
  },
  {
   "cell_type": "markdown",
   "metadata": {},
   "source": [
    "<img src=\"Crazybf2.png\" width=\"600\" height=\"300\"/>"
   ]
  },
  {
   "cell_type": "markdown",
   "metadata": {},
   "source": [
    "<br>though, maybe just as violent. After the pumpkin pie, families all over America make there way to their local retailers to spend absurd amounts of money for the upcoming holiday season.\n",
    "<br><br>\n",
    "In this tutorial, our <mark>goal</mark> is to advertise the right products to the right people. As an advertising agency, our strategy is to learn different behaviors of customers on Black Friday to see what they really like and what they would like to buy on Black Friday. Also, we want to learn from the past purchases to recognize the pattern and likelihood in a certain group of people in order to increase the profit on Black Friday. Moreover, we would like to know which product categories are purchased the most and by which groups of people has bought the most for that particular product category. "
   ]
  },
  {
   "cell_type": "markdown",
   "metadata": {},
   "source": [
    "# <section id=\"1\"> Getting Started with the Data</section>"
   ]
  },
  {
   "cell_type": "markdown",
   "metadata": {},
   "source": [
    "# <section id=\"library\">Importing Libraries</section> \n",
    "We make use of Python 3 along with a few imported libraries: <a href=\"http://pandas.pydata.org/pandas-docs/stable/\">pandas</a>, <a href=\"http://www.numpy.org/\">numpy</a>, <a href=\"https://matplotlib.org/tutorials/index.html\">matplotlib</a>, <a href=\"https://scikit-learn.org/stable/\">scikit-learn</a>, <a href=\"https://seaborn.pydata.org/\">seaborn</a>, and more."
   ]
  },
  {
   "cell_type": "code",
   "execution_count": 1,
   "metadata": {},
   "outputs": [
    {
     "name": "stderr",
     "output_type": "stream",
     "text": [
      "C:\\Users\\truon\\Anaconda3\\lib\\site-packages\\sklearn\\cross_validation.py:41: DeprecationWarning: This module was deprecated in version 0.18 in favor of the model_selection module into which all the refactored classes and functions are moved. Also note that the interface of the new CV iterators are different from that of this module. This module will be removed in 0.20.\n",
      "  \"This module will be removed in 0.20.\", DeprecationWarning)\n"
     ]
    }
   ],
   "source": [
    "# Suppress FutureWarning\n",
    "import warnings\n",
    "warnings.simplefilter(action='ignore', category=FutureWarning)\n",
    "# Necessary libraries and imports to complete this tutorial\n",
    "import re\n",
    "import pandas as pd\n",
    "import numpy as np\n",
    "import matplotlib.pyplot as plt\n",
    "import seaborn as sns\n",
    "import statsmodels.api as sm\n",
    "from scipy import stats\n",
    "from scipy.stats import f\n",
    "from statsmodels.formula.api import ols\n",
    "from sklearn import linear_model, preprocessing, model_selection\n",
    "from sklearn.cross_validation import train_test_split\n",
    "from sklearn.metrics import classification_report, accuracy_score, mean_squared_error, r2_score\n",
    "from sklearn.model_selection import KFold\n",
    "from mpl_toolkits.mplot3d import Axes3D"
   ]
  },
  {
   "cell_type": "markdown",
   "metadata": {},
   "source": [
    "# <section id=\"source\">Data Source</section>\n",
    "Dataset of 550 000 observations about the black Friday in a retail store, it contains different kinds of variables either numerical or categorical. It contains missing values.\n",
    "<br><br> Kaggle dataset <a href=\"https://www.kaggle.com/mehdidag/black-friday\">here</a>"
   ]
  },
  {
   "cell_type": "markdown",
   "metadata": {},
   "source": [
    "# <section id=\"reading\">Reading the data</section>"
   ]
  },
  {
   "cell_type": "code",
   "execution_count": 2,
   "metadata": {},
   "outputs": [
    {
     "data": {
      "text/html": [
       "<div>\n",
       "<style scoped>\n",
       "    .dataframe tbody tr th:only-of-type {\n",
       "        vertical-align: middle;\n",
       "    }\n",
       "\n",
       "    .dataframe tbody tr th {\n",
       "        vertical-align: top;\n",
       "    }\n",
       "\n",
       "    .dataframe thead th {\n",
       "        text-align: right;\n",
       "    }\n",
       "</style>\n",
       "<table border=\"1\" class=\"dataframe\">\n",
       "  <thead>\n",
       "    <tr style=\"text-align: right;\">\n",
       "      <th></th>\n",
       "      <th>User_ID</th>\n",
       "      <th>Product_ID</th>\n",
       "      <th>Gender</th>\n",
       "      <th>Age</th>\n",
       "      <th>Occupation</th>\n",
       "      <th>City_Category</th>\n",
       "      <th>Stay_In_Current_City_Years</th>\n",
       "      <th>Marital_Status</th>\n",
       "      <th>Product_Category_1</th>\n",
       "      <th>Product_Category_2</th>\n",
       "      <th>Product_Category_3</th>\n",
       "      <th>Purchase</th>\n",
       "      <th>Mean_age</th>\n",
       "    </tr>\n",
       "  </thead>\n",
       "  <tbody>\n",
       "    <tr>\n",
       "      <th>0</th>\n",
       "      <td>1000001</td>\n",
       "      <td>P00069042</td>\n",
       "      <td>F</td>\n",
       "      <td>0-17</td>\n",
       "      <td>10</td>\n",
       "      <td>A</td>\n",
       "      <td>2</td>\n",
       "      <td>0</td>\n",
       "      <td>3</td>\n",
       "      <td>NaN</td>\n",
       "      <td>NaN</td>\n",
       "      <td>8370</td>\n",
       "      <td>8.5</td>\n",
       "    </tr>\n",
       "    <tr>\n",
       "      <th>1</th>\n",
       "      <td>1000001</td>\n",
       "      <td>P00248942</td>\n",
       "      <td>F</td>\n",
       "      <td>0-17</td>\n",
       "      <td>10</td>\n",
       "      <td>A</td>\n",
       "      <td>2</td>\n",
       "      <td>0</td>\n",
       "      <td>1</td>\n",
       "      <td>6.0</td>\n",
       "      <td>14.0</td>\n",
       "      <td>15200</td>\n",
       "      <td>8.5</td>\n",
       "    </tr>\n",
       "    <tr>\n",
       "      <th>2</th>\n",
       "      <td>1000001</td>\n",
       "      <td>P00087842</td>\n",
       "      <td>F</td>\n",
       "      <td>0-17</td>\n",
       "      <td>10</td>\n",
       "      <td>A</td>\n",
       "      <td>2</td>\n",
       "      <td>0</td>\n",
       "      <td>12</td>\n",
       "      <td>NaN</td>\n",
       "      <td>NaN</td>\n",
       "      <td>1422</td>\n",
       "      <td>8.5</td>\n",
       "    </tr>\n",
       "    <tr>\n",
       "      <th>3</th>\n",
       "      <td>1000001</td>\n",
       "      <td>P00085442</td>\n",
       "      <td>F</td>\n",
       "      <td>0-17</td>\n",
       "      <td>10</td>\n",
       "      <td>A</td>\n",
       "      <td>2</td>\n",
       "      <td>0</td>\n",
       "      <td>12</td>\n",
       "      <td>14.0</td>\n",
       "      <td>NaN</td>\n",
       "      <td>1057</td>\n",
       "      <td>8.5</td>\n",
       "    </tr>\n",
       "    <tr>\n",
       "      <th>4</th>\n",
       "      <td>1000002</td>\n",
       "      <td>P00285442</td>\n",
       "      <td>M</td>\n",
       "      <td>55+</td>\n",
       "      <td>16</td>\n",
       "      <td>C</td>\n",
       "      <td>4</td>\n",
       "      <td>0</td>\n",
       "      <td>8</td>\n",
       "      <td>NaN</td>\n",
       "      <td>NaN</td>\n",
       "      <td>7969</td>\n",
       "      <td>67.5</td>\n",
       "    </tr>\n",
       "  </tbody>\n",
       "</table>\n",
       "</div>"
      ],
      "text/plain": [
       "   User_ID Product_ID Gender   Age  Occupation City_Category  \\\n",
       "0  1000001  P00069042      F  0-17          10             A   \n",
       "1  1000001  P00248942      F  0-17          10             A   \n",
       "2  1000001  P00087842      F  0-17          10             A   \n",
       "3  1000001  P00085442      F  0-17          10             A   \n",
       "4  1000002  P00285442      M   55+          16             C   \n",
       "\n",
       "   Stay_In_Current_City_Years  Marital_Status  Product_Category_1  \\\n",
       "0                           2               0                   3   \n",
       "1                           2               0                   1   \n",
       "2                           2               0                  12   \n",
       "3                           2               0                  12   \n",
       "4                           4               0                   8   \n",
       "\n",
       "   Product_Category_2  Product_Category_3  Purchase  Mean_age  \n",
       "0                 NaN                 NaN      8370       8.5  \n",
       "1                 6.0                14.0     15200       8.5  \n",
       "2                 NaN                 NaN      1422       8.5  \n",
       "3                14.0                 NaN      1057       8.5  \n",
       "4                 NaN                 NaN      7969      67.5  "
      ]
     },
     "execution_count": 2,
     "metadata": {},
     "output_type": "execute_result"
    }
   ],
   "source": [
    "blackfriday = pd.read_csv(\"blackfriday.csv\")\n",
    "#Making Mean_age so for graphing in later sections\n",
    "blackfriday['Mean_age'] = blackfriday['Age'].map({'0-17': 8.5, '18-25': 21.5,'26-35': 30.5, '36-45': 40.5,'46-50': 48, '51-55': 53, '55+': 67.5})\n",
    "#Modify the \"Stay_In_Current_City_Years\" column, so assume that anyone that live more than 4 years is just 4 years.\n",
    "blackfriday['Stay_In_Current_City_Years'] = blackfriday['Stay_In_Current_City_Years'].map({'0': 0, '1': 1, '2': 2, '3': 3,'4+': 4})\n",
    "blackfriday.head()"
   ]
  },
  {
   "cell_type": "markdown",
   "metadata": {},
   "source": [
    "In the above dataset, there are 12 columns in total. We have: <br>\n",
    "Column 1: User_ID <br>\n",
    "Column 2: Product_ID  <br>\n",
    "Column 3: Gender (Male and Female) <br>\n",
    "Column 4: Age (Age in bins) <br>\n",
    "Column 5: Occupation <br>\n",
    "Column 6: City_Category (A, B, C) <br>\n",
    "Column 7: Stay_In_Current_City_Years (Number of years stay in current city) <br>\n",
    "Column 8: Marital_Status (0 for single, 1 for married) <br>\n",
    "Column 9: Product_Category_1 <br>\n",
    "Column 10: Product_Category_2 <br>\n",
    "Column 11: Product_Category_3 <br>\n",
    "Column 12: Purchase (Purchase amount in Dollars) <br>\n",
    "Column 13: Mean_Age (mean of the age bins)<br>\n",
    "<br>\n",
    "A product can belong to many different categories.<br>"
   ]
  },
  {
   "cell_type": "markdown",
   "metadata": {},
   "source": [
    "Display some basic statistic about the dataset. Since summary statistics are used in the pandas describe() method, only the columns with quantitative data are displayed. There are 537577 purchases made in the dataset."
   ]
  },
  {
   "cell_type": "code",
   "execution_count": 3,
   "metadata": {},
   "outputs": [
    {
     "data": {
      "text/html": [
       "<div>\n",
       "<style scoped>\n",
       "    .dataframe tbody tr th:only-of-type {\n",
       "        vertical-align: middle;\n",
       "    }\n",
       "\n",
       "    .dataframe tbody tr th {\n",
       "        vertical-align: top;\n",
       "    }\n",
       "\n",
       "    .dataframe thead th {\n",
       "        text-align: right;\n",
       "    }\n",
       "</style>\n",
       "<table border=\"1\" class=\"dataframe\">\n",
       "  <thead>\n",
       "    <tr style=\"text-align: right;\">\n",
       "      <th></th>\n",
       "      <th>User_ID</th>\n",
       "      <th>Occupation</th>\n",
       "      <th>Stay_In_Current_City_Years</th>\n",
       "      <th>Marital_Status</th>\n",
       "      <th>Product_Category_1</th>\n",
       "      <th>Product_Category_2</th>\n",
       "      <th>Product_Category_3</th>\n",
       "      <th>Purchase</th>\n",
       "      <th>Mean_age</th>\n",
       "    </tr>\n",
       "  </thead>\n",
       "  <tbody>\n",
       "    <tr>\n",
       "      <th>count</th>\n",
       "      <td>5.375770e+05</td>\n",
       "      <td>537577.00000</td>\n",
       "      <td>537577.000000</td>\n",
       "      <td>537577.000000</td>\n",
       "      <td>537577.000000</td>\n",
       "      <td>370591.000000</td>\n",
       "      <td>164278.000000</td>\n",
       "      <td>537577.000000</td>\n",
       "      <td>537577.000000</td>\n",
       "    </tr>\n",
       "    <tr>\n",
       "      <th>mean</th>\n",
       "      <td>1.002992e+06</td>\n",
       "      <td>8.08271</td>\n",
       "      <td>1.859458</td>\n",
       "      <td>0.408797</td>\n",
       "      <td>5.295546</td>\n",
       "      <td>9.842144</td>\n",
       "      <td>12.669840</td>\n",
       "      <td>9333.859853</td>\n",
       "      <td>34.725908</td>\n",
       "    </tr>\n",
       "    <tr>\n",
       "      <th>std</th>\n",
       "      <td>1.714393e+03</td>\n",
       "      <td>6.52412</td>\n",
       "      <td>1.289828</td>\n",
       "      <td>0.491612</td>\n",
       "      <td>3.750701</td>\n",
       "      <td>5.087259</td>\n",
       "      <td>4.124341</td>\n",
       "      <td>4981.022133</td>\n",
       "      <td>12.004781</td>\n",
       "    </tr>\n",
       "    <tr>\n",
       "      <th>min</th>\n",
       "      <td>1.000001e+06</td>\n",
       "      <td>0.00000</td>\n",
       "      <td>0.000000</td>\n",
       "      <td>0.000000</td>\n",
       "      <td>1.000000</td>\n",
       "      <td>2.000000</td>\n",
       "      <td>3.000000</td>\n",
       "      <td>185.000000</td>\n",
       "      <td>8.500000</td>\n",
       "    </tr>\n",
       "    <tr>\n",
       "      <th>25%</th>\n",
       "      <td>1.001495e+06</td>\n",
       "      <td>2.00000</td>\n",
       "      <td>1.000000</td>\n",
       "      <td>0.000000</td>\n",
       "      <td>1.000000</td>\n",
       "      <td>5.000000</td>\n",
       "      <td>9.000000</td>\n",
       "      <td>5866.000000</td>\n",
       "      <td>30.500000</td>\n",
       "    </tr>\n",
       "    <tr>\n",
       "      <th>50%</th>\n",
       "      <td>1.003031e+06</td>\n",
       "      <td>7.00000</td>\n",
       "      <td>2.000000</td>\n",
       "      <td>0.000000</td>\n",
       "      <td>5.000000</td>\n",
       "      <td>9.000000</td>\n",
       "      <td>14.000000</td>\n",
       "      <td>8062.000000</td>\n",
       "      <td>30.500000</td>\n",
       "    </tr>\n",
       "    <tr>\n",
       "      <th>75%</th>\n",
       "      <td>1.004417e+06</td>\n",
       "      <td>14.00000</td>\n",
       "      <td>3.000000</td>\n",
       "      <td>1.000000</td>\n",
       "      <td>8.000000</td>\n",
       "      <td>15.000000</td>\n",
       "      <td>16.000000</td>\n",
       "      <td>12073.000000</td>\n",
       "      <td>40.500000</td>\n",
       "    </tr>\n",
       "    <tr>\n",
       "      <th>max</th>\n",
       "      <td>1.006040e+06</td>\n",
       "      <td>20.00000</td>\n",
       "      <td>4.000000</td>\n",
       "      <td>1.000000</td>\n",
       "      <td>18.000000</td>\n",
       "      <td>18.000000</td>\n",
       "      <td>18.000000</td>\n",
       "      <td>23961.000000</td>\n",
       "      <td>67.500000</td>\n",
       "    </tr>\n",
       "  </tbody>\n",
       "</table>\n",
       "</div>"
      ],
      "text/plain": [
       "            User_ID    Occupation  Stay_In_Current_City_Years  Marital_Status  \\\n",
       "count  5.375770e+05  537577.00000               537577.000000   537577.000000   \n",
       "mean   1.002992e+06       8.08271                    1.859458        0.408797   \n",
       "std    1.714393e+03       6.52412                    1.289828        0.491612   \n",
       "min    1.000001e+06       0.00000                    0.000000        0.000000   \n",
       "25%    1.001495e+06       2.00000                    1.000000        0.000000   \n",
       "50%    1.003031e+06       7.00000                    2.000000        0.000000   \n",
       "75%    1.004417e+06      14.00000                    3.000000        1.000000   \n",
       "max    1.006040e+06      20.00000                    4.000000        1.000000   \n",
       "\n",
       "       Product_Category_1  Product_Category_2  Product_Category_3  \\\n",
       "count       537577.000000       370591.000000       164278.000000   \n",
       "mean             5.295546            9.842144           12.669840   \n",
       "std              3.750701            5.087259            4.124341   \n",
       "min              1.000000            2.000000            3.000000   \n",
       "25%              1.000000            5.000000            9.000000   \n",
       "50%              5.000000            9.000000           14.000000   \n",
       "75%              8.000000           15.000000           16.000000   \n",
       "max             18.000000           18.000000           18.000000   \n",
       "\n",
       "            Purchase       Mean_age  \n",
       "count  537577.000000  537577.000000  \n",
       "mean     9333.859853      34.725908  \n",
       "std      4981.022133      12.004781  \n",
       "min       185.000000       8.500000  \n",
       "25%      5866.000000      30.500000  \n",
       "50%      8062.000000      30.500000  \n",
       "75%     12073.000000      40.500000  \n",
       "max     23961.000000      67.500000  "
      ]
     },
     "execution_count": 3,
     "metadata": {},
     "output_type": "execute_result"
    }
   ],
   "source": [
    "blackfriday.describe()"
   ]
  },
  {
   "cell_type": "markdown",
   "metadata": {},
   "source": [
    "# <section id=\"2\">Tidying and modifying the data</section>"
   ]
  },
  {
   "cell_type": "markdown",
   "metadata": {},
   "source": [
    "<b> In tidy data: </b>\n",
    "<br> 1. Each variable forms a column.\n",
    "<br> 2. Each observation forms a row.\n",
    "<br> 3. Each type of observational unit forms a table."
   ]
  },
  {
   "cell_type": "markdown",
   "metadata": {},
   "source": [
    "### <section id=\"missingdata\">Handling missing data</section>\n",
    "In our dataset the three columns Product_Category_1,Product_Category_2, and Product_Category_3 represent all the  categories that the puchesed product belongs to. Most products belong to three categories, but some belong to two or less. These columns will have NaN as the value. This will make things difficult when we try to make a category table in the next step. Therefore, we are going to replace NaN with 0 to let to convey that product does not belong to any more categories. "
   ]
  },
  {
   "cell_type": "code",
   "execution_count": 4,
   "metadata": {},
   "outputs": [
    {
     "data": {
      "text/html": [
       "<div>\n",
       "<style scoped>\n",
       "    .dataframe tbody tr th:only-of-type {\n",
       "        vertical-align: middle;\n",
       "    }\n",
       "\n",
       "    .dataframe tbody tr th {\n",
       "        vertical-align: top;\n",
       "    }\n",
       "\n",
       "    .dataframe thead th {\n",
       "        text-align: right;\n",
       "    }\n",
       "</style>\n",
       "<table border=\"1\" class=\"dataframe\">\n",
       "  <thead>\n",
       "    <tr style=\"text-align: right;\">\n",
       "      <th></th>\n",
       "      <th>User_ID</th>\n",
       "      <th>Product_ID</th>\n",
       "      <th>Gender</th>\n",
       "      <th>Age</th>\n",
       "      <th>Occupation</th>\n",
       "      <th>City_Category</th>\n",
       "      <th>Stay_In_Current_City_Years</th>\n",
       "      <th>Marital_Status</th>\n",
       "      <th>Product_Category_1</th>\n",
       "      <th>Product_Category_2</th>\n",
       "      <th>Product_Category_3</th>\n",
       "      <th>Purchase</th>\n",
       "      <th>Mean_age</th>\n",
       "    </tr>\n",
       "  </thead>\n",
       "  <tbody>\n",
       "    <tr>\n",
       "      <th>0</th>\n",
       "      <td>1000001</td>\n",
       "      <td>P00069042</td>\n",
       "      <td>F</td>\n",
       "      <td>0-17</td>\n",
       "      <td>10</td>\n",
       "      <td>A</td>\n",
       "      <td>2</td>\n",
       "      <td>0</td>\n",
       "      <td>3</td>\n",
       "      <td>0.0</td>\n",
       "      <td>0.0</td>\n",
       "      <td>8370</td>\n",
       "      <td>8.5</td>\n",
       "    </tr>\n",
       "    <tr>\n",
       "      <th>1</th>\n",
       "      <td>1000001</td>\n",
       "      <td>P00248942</td>\n",
       "      <td>F</td>\n",
       "      <td>0-17</td>\n",
       "      <td>10</td>\n",
       "      <td>A</td>\n",
       "      <td>2</td>\n",
       "      <td>0</td>\n",
       "      <td>1</td>\n",
       "      <td>6.0</td>\n",
       "      <td>14.0</td>\n",
       "      <td>15200</td>\n",
       "      <td>8.5</td>\n",
       "    </tr>\n",
       "    <tr>\n",
       "      <th>2</th>\n",
       "      <td>1000001</td>\n",
       "      <td>P00087842</td>\n",
       "      <td>F</td>\n",
       "      <td>0-17</td>\n",
       "      <td>10</td>\n",
       "      <td>A</td>\n",
       "      <td>2</td>\n",
       "      <td>0</td>\n",
       "      <td>12</td>\n",
       "      <td>0.0</td>\n",
       "      <td>0.0</td>\n",
       "      <td>1422</td>\n",
       "      <td>8.5</td>\n",
       "    </tr>\n",
       "    <tr>\n",
       "      <th>3</th>\n",
       "      <td>1000001</td>\n",
       "      <td>P00085442</td>\n",
       "      <td>F</td>\n",
       "      <td>0-17</td>\n",
       "      <td>10</td>\n",
       "      <td>A</td>\n",
       "      <td>2</td>\n",
       "      <td>0</td>\n",
       "      <td>12</td>\n",
       "      <td>14.0</td>\n",
       "      <td>0.0</td>\n",
       "      <td>1057</td>\n",
       "      <td>8.5</td>\n",
       "    </tr>\n",
       "    <tr>\n",
       "      <th>4</th>\n",
       "      <td>1000002</td>\n",
       "      <td>P00285442</td>\n",
       "      <td>M</td>\n",
       "      <td>55+</td>\n",
       "      <td>16</td>\n",
       "      <td>C</td>\n",
       "      <td>4</td>\n",
       "      <td>0</td>\n",
       "      <td>8</td>\n",
       "      <td>0.0</td>\n",
       "      <td>0.0</td>\n",
       "      <td>7969</td>\n",
       "      <td>67.5</td>\n",
       "    </tr>\n",
       "  </tbody>\n",
       "</table>\n",
       "</div>"
      ],
      "text/plain": [
       "   User_ID Product_ID Gender   Age  Occupation City_Category  \\\n",
       "0  1000001  P00069042      F  0-17          10             A   \n",
       "1  1000001  P00248942      F  0-17          10             A   \n",
       "2  1000001  P00087842      F  0-17          10             A   \n",
       "3  1000001  P00085442      F  0-17          10             A   \n",
       "4  1000002  P00285442      M   55+          16             C   \n",
       "\n",
       "   Stay_In_Current_City_Years  Marital_Status  Product_Category_1  \\\n",
       "0                           2               0                   3   \n",
       "1                           2               0                   1   \n",
       "2                           2               0                  12   \n",
       "3                           2               0                  12   \n",
       "4                           4               0                   8   \n",
       "\n",
       "   Product_Category_2  Product_Category_3  Purchase  Mean_age  \n",
       "0                 0.0                 0.0      8370       8.5  \n",
       "1                 6.0                14.0     15200       8.5  \n",
       "2                 0.0                 0.0      1422       8.5  \n",
       "3                14.0                 0.0      1057       8.5  \n",
       "4                 0.0                 0.0      7969      67.5  "
      ]
     },
     "execution_count": 4,
     "metadata": {},
     "output_type": "execute_result"
    }
   ],
   "source": [
    "blackfriday = blackfriday.fillna(0)\n",
    "blackfriday.head()"
   ]
  },
  {
   "cell_type": "markdown",
   "metadata": {},
   "source": [
    "### <section id=\"melting\">Melting Product Category Table</section>\n",
    "Another step in tidying data is to remove variables from column names. <br>For our dataframe, Product_Category_1, Product_Category_2, and Product_Category_3 should be melted into one column.<br>To keep the original dataframe clear and have fewer repeated information, we will create a new dataframe to store Product_Category seperately. <br>The Category of a product can be looked up with its Product_ID in the new dataframe. <br> Several columns are retained for lookups in future analysis."
   ]
  },
  {
   "cell_type": "code",
   "execution_count": 5,
   "metadata": {},
   "outputs": [
    {
     "data": {
      "text/html": [
       "<div>\n",
       "<style scoped>\n",
       "    .dataframe tbody tr th:only-of-type {\n",
       "        vertical-align: middle;\n",
       "    }\n",
       "\n",
       "    .dataframe tbody tr th {\n",
       "        vertical-align: top;\n",
       "    }\n",
       "\n",
       "    .dataframe thead th {\n",
       "        text-align: right;\n",
       "    }\n",
       "</style>\n",
       "<table border=\"1\" class=\"dataframe\">\n",
       "  <thead>\n",
       "    <tr style=\"text-align: right;\">\n",
       "      <th></th>\n",
       "      <th>Product_ID</th>\n",
       "      <th>Age</th>\n",
       "      <th>Product_Category</th>\n",
       "    </tr>\n",
       "  </thead>\n",
       "  <tbody>\n",
       "    <tr>\n",
       "      <th>0</th>\n",
       "      <td>P00069042</td>\n",
       "      <td>0-17</td>\n",
       "      <td>3.0</td>\n",
       "    </tr>\n",
       "    <tr>\n",
       "      <th>1</th>\n",
       "      <td>P00248942</td>\n",
       "      <td>0-17</td>\n",
       "      <td>1.0</td>\n",
       "    </tr>\n",
       "    <tr>\n",
       "      <th>2</th>\n",
       "      <td>P00087842</td>\n",
       "      <td>0-17</td>\n",
       "      <td>12.0</td>\n",
       "    </tr>\n",
       "    <tr>\n",
       "      <th>3</th>\n",
       "      <td>P00085442</td>\n",
       "      <td>0-17</td>\n",
       "      <td>12.0</td>\n",
       "    </tr>\n",
       "    <tr>\n",
       "      <th>4</th>\n",
       "      <td>P00285442</td>\n",
       "      <td>55+</td>\n",
       "      <td>8.0</td>\n",
       "    </tr>\n",
       "  </tbody>\n",
       "</table>\n",
       "</div>"
      ],
      "text/plain": [
       "  Product_ID   Age  Product_Category\n",
       "0  P00069042  0-17               3.0\n",
       "1  P00248942  0-17               1.0\n",
       "2  P00087842  0-17              12.0\n",
       "3  P00085442  0-17              12.0\n",
       "4  P00285442   55+               8.0"
      ]
     },
     "execution_count": 5,
     "metadata": {},
     "output_type": "execute_result"
    }
   ],
   "source": [
    "# Create a seperate dataframe to store category infomation\n",
    "category_table = blackfriday[['Product_ID', 'Age', 'Product_Category_1', 'Product_Category_2', 'Product_Category_3']]\n",
    "# Drop Product_Category columns from the original dataframe for neatness\n",
    "blackfriday = blackfriday.drop(['Product_Category_1','Product_Category_2', 'Product_Category_3'], axis=1)\n",
    "\n",
    "# Melt Product_Category columns in to one\n",
    "category_table = pd.melt(category_table, id_vars=['Product_ID', 'Age'], value_vars=['Product_Category_1', 'Product_Category_2', 'Product_Category_3'])\n",
    "# Drop any row with value equals to 0 (no category)\n",
    "category_table = category_table[category_table.value != 0]   \n",
    "# Drop variable column\n",
    "category_table = category_table.drop(['variable'], axis=1)\n",
    "# Rename value column to Product_Category\n",
    "category_table = category_table.rename(index=str, columns={\"value\": \"Product_Category\"})\n",
    "category_table.head()"
   ]
  },
  {
   "cell_type": "markdown",
   "metadata": {},
   "source": [
    "For More information about tidying data, you can click this <a href=\"http://vita.had.co.nz/papers/tidy-data.html\">link</a>"
   ]
  },
  {
   "cell_type": "markdown",
   "metadata": {},
   "source": [
    "# <section id=\"3\">Exploratory Data Analysis (EDA)</section>\n",
    "#### Four types of EDA\n",
    "- Univariate non-graphical\n",
    "- Multivariate non-graphical\n",
    "- Univariate graphical\n",
    "- Multivariate graphical"
   ]
  },
  {
   "cell_type": "markdown",
   "metadata": {},
   "source": [
    "#### Advantages of EDA:\n",
    "- Detection of mistakes\n",
    "- Checking of assumptions\n",
    "- Preliminary selection of appropriate models\n",
    "- Determining relationships among the explanatory variables\n",
    "- Assessing the direction and rough size of relationships between explanatory and outcome variables"
   ]
  },
  {
   "cell_type": "markdown",
   "metadata": {},
   "source": [
    "# <section id=\"4\">Gender</section>"
   ]
  },
  {
   "cell_type": "code",
   "execution_count": 6,
   "metadata": {},
   "outputs": [
    {
     "data": {
      "text/html": [
       "<div>\n",
       "<style scoped>\n",
       "    .dataframe tbody tr th:only-of-type {\n",
       "        vertical-align: middle;\n",
       "    }\n",
       "\n",
       "    .dataframe tbody tr th {\n",
       "        vertical-align: top;\n",
       "    }\n",
       "\n",
       "    .dataframe thead th {\n",
       "        text-align: right;\n",
       "    }\n",
       "</style>\n",
       "<table border=\"1\" class=\"dataframe\">\n",
       "  <thead>\n",
       "    <tr style=\"text-align: right;\">\n",
       "      <th></th>\n",
       "      <th>User_ID</th>\n",
       "      <th>Gender</th>\n",
       "      <th>Purchase</th>\n",
       "    </tr>\n",
       "  </thead>\n",
       "  <tbody>\n",
       "    <tr>\n",
       "      <th>0</th>\n",
       "      <td>1000001</td>\n",
       "      <td>F</td>\n",
       "      <td>333481</td>\n",
       "    </tr>\n",
       "    <tr>\n",
       "      <th>1</th>\n",
       "      <td>1000002</td>\n",
       "      <td>M</td>\n",
       "      <td>810353</td>\n",
       "    </tr>\n",
       "    <tr>\n",
       "      <th>2</th>\n",
       "      <td>1000003</td>\n",
       "      <td>M</td>\n",
       "      <td>341635</td>\n",
       "    </tr>\n",
       "    <tr>\n",
       "      <th>3</th>\n",
       "      <td>1000004</td>\n",
       "      <td>M</td>\n",
       "      <td>205987</td>\n",
       "    </tr>\n",
       "    <tr>\n",
       "      <th>4</th>\n",
       "      <td>1000005</td>\n",
       "      <td>M</td>\n",
       "      <td>821001</td>\n",
       "    </tr>\n",
       "  </tbody>\n",
       "</table>\n",
       "</div>"
      ],
      "text/plain": [
       "   User_ID Gender  Purchase\n",
       "0  1000001      F    333481\n",
       "1  1000002      M    810353\n",
       "2  1000003      M    341635\n",
       "3  1000004      M    205987\n",
       "4  1000005      M    821001"
      ]
     },
     "execution_count": 6,
     "metadata": {},
     "output_type": "execute_result"
    }
   ],
   "source": [
    "purchase_by_user = blackfriday.groupby(['User_ID', 'Gender']).agg({'Purchase': np.sum})\n",
    "purchase_by_user.reset_index(inplace=True)\n",
    "purchase_by_user.head()"
   ]
  },
  {
   "cell_type": "markdown",
   "metadata": {},
   "source": [
    "It is often believed that women spend more than men on Black Friday. To test this myth we made the graph below to observe the total spending of both genders. As the following graph shows, we can see a large difference between male and female spending. However the results are the opposite of what we were lead to expect. The graph below shows that women spend about a third of the amount men do on Black Friday. Myth busted!"
   ]
  },
  {
   "cell_type": "code",
   "execution_count": 7,
   "metadata": {},
   "outputs": [
    {
     "data": {
      "image/png": "[encoded data removed]",
      "text/plain": [
       "<matplotlib.figure.Figure at 0x1cd2d407a90>"
      ]
     },
     "metadata": {},
     "output_type": "display_data"
    }
   ],
   "source": [
    "ax = sns.countplot(purchase_by_user['Gender'])"
   ]
  },
  {
   "cell_type": "markdown",
   "metadata": {},
   "source": [
    "This gender split is really helpful for retailers and advertising agencies. With this information, retailers could modify their store layout, and product selection to appeal to their larger male consumer base. Advertising agency might want to choose different strategies to advertise products and the whole Black Friday shopping experience based on the gender proportion of their shoppers. They could further appeal to men bye marketing the Black Friday experience in ways that solicit to them. For example, Walmart could hire <a href=\"https://en.wikipedia.org/wiki/Shaquille_O%27Neal\"> Shaquille O'Neal</a> to appear in an ad, boxing out other customers while he gets the products he wants.\n",
    "<br><br>\n",
    "However this is just the count of shoppers based on gender. For further investigation, we should look at the average amount, in dollars, spent by each gender."
   ]
  },
  {
   "cell_type": "code",
   "execution_count": 8,
   "metadata": {},
   "outputs": [
    {
     "name": "stdout",
     "output_type": "stream",
     "text": [
      "The average of spending money by male on Black Friday is $911963.1614201183\n",
      "The average of spending money by female on Black Friday is $699054.0342136854\n"
     ]
    }
   ],
   "source": [
    "male_spending = purchase_by_user[purchase_by_user.Gender=='M'].mean()\n",
    "\n",
    "female_spending = purchase_by_user[purchase_by_user.Gender=='F'].mean()\n",
    "\n",
    "print(\"The average of spending money by male on Black Friday is $\" + str(male_spending.Purchase))\n",
    "\n",
    "print(\"The average of spending money by female on Black Friday is $\" + str(female_spending.Purchase))\n"
   ]
  },
  {
   "cell_type": "markdown",
   "metadata": {},
   "source": [
    "Now, let's visualize the result:"
   ]
  },
  {
   "cell_type": "code",
   "execution_count": 9,
   "metadata": {},
   "outputs": [
    {
     "data": {
      "image/png": "[encoded data removed]",
      "text/plain": [
       "<matplotlib.figure.Figure at 0x1cd420b3828>"
      ]
     },
     "metadata": {},
     "output_type": "display_data"
    }
   ],
   "source": [
    "data = {'Gender':[\"Male\", \"Female\"], 'Purchase': [male_spending.Purchase, female_spending.Purchase]}\n",
    "avg_spend_by_gender = pd.DataFrame(data=data)\n",
    "ax = avg_spend_by_gender.plot.bar(x='Gender', y='Purchase', rot=0)\n",
    "ax.figure.set_size_inches(15, 8)\n",
    "plt.title(\"The Amount of Purchase By Different Gender\")\n",
    "plt.xlabel(\"Gender\")\n",
    "plt.ylabel(\"The Amount of Purchase in U.S Dollar\")\n",
    "plt.show()"
   ]
  },
  {
   "cell_type": "markdown",
   "metadata": {},
   "source": [
    "This is a very interesting observation. It seems women are spending almost as much, on average, as male shoppers even though there are far less of them making purchases. From this observation, we note that the number of males and females play an important role here. Women are only spending about $250,000 less than men even though there are far less of them shopping. From these two graphs we can conclude there are much more men buying on Black Friday than women. However on average women spend much more."
   ]
  },
  {
   "cell_type": "markdown",
   "metadata": {},
   "source": [
    "#  <section id=\"5\">Age</section>"
   ]
  },
  {
   "cell_type": "markdown",
   "metadata": {},
   "source": [
    "Creating an ad to appeal to a certain age group is very important. One reason is that different age groups consume different media. If I had a product that sold well to people over 55 but not well at all to younger ages, it would be a very bad idea to create ads on <a href=\"https://help.instagram.com/424737657584573Instagram\">Instagram</a> for it. We don't want customers to see ads for a product that they are not interested in. If we advertise the wrong products to a group, it could also be other problems. There might be a critic from people who are not supposed to see it. Retailers could also be upset that they spent money on a non profitable group. In conclusion, it is very important that we analyze the data by age group."
   ]
  },
  {
   "cell_type": "markdown",
   "metadata": {},
   "source": [
    "Now, let's view how a customer in different groups of age spend money on Black Friday. "
   ]
  },
  {
   "cell_type": "code",
   "execution_count": 10,
   "metadata": {},
   "outputs": [
    {
     "name": "stdout",
     "output_type": "stream",
     "text": [
      "group 0-17 total purchase\n"
     ]
    },
    {
     "data": {
      "text/html": [
       "<div>\n",
       "<style scoped>\n",
       "    .dataframe tbody tr th:only-of-type {\n",
       "        vertical-align: middle;\n",
       "    }\n",
       "\n",
       "    .dataframe tbody tr th {\n",
       "        vertical-align: top;\n",
       "    }\n",
       "\n",
       "    .dataframe thead th {\n",
       "        text-align: right;\n",
       "    }\n",
       "</style>\n",
       "<table border=\"1\" class=\"dataframe\">\n",
       "  <thead>\n",
       "    <tr style=\"text-align: right;\">\n",
       "      <th></th>\n",
       "      <th>User_ID</th>\n",
       "      <th>Age</th>\n",
       "      <th>Mean_age</th>\n",
       "      <th>Purchase</th>\n",
       "    </tr>\n",
       "  </thead>\n",
       "  <tbody>\n",
       "    <tr>\n",
       "      <th>0</th>\n",
       "      <td>1000001</td>\n",
       "      <td>0-17</td>\n",
       "      <td>8.5</td>\n",
       "      <td>333481</td>\n",
       "    </tr>\n",
       "    <tr>\n",
       "      <th>18</th>\n",
       "      <td>1000019</td>\n",
       "      <td>0-17</td>\n",
       "      <td>8.5</td>\n",
       "      <td>1457938</td>\n",
       "    </tr>\n",
       "    <tr>\n",
       "      <th>48</th>\n",
       "      <td>1000051</td>\n",
       "      <td>0-17</td>\n",
       "      <td>8.5</td>\n",
       "      <td>200772</td>\n",
       "    </tr>\n",
       "    <tr>\n",
       "      <th>72</th>\n",
       "      <td>1000075</td>\n",
       "      <td>0-17</td>\n",
       "      <td>8.5</td>\n",
       "      <td>1035228</td>\n",
       "    </tr>\n",
       "    <tr>\n",
       "      <th>83</th>\n",
       "      <td>1000086</td>\n",
       "      <td>0-17</td>\n",
       "      <td>8.5</td>\n",
       "      <td>294050</td>\n",
       "    </tr>\n",
       "  </tbody>\n",
       "</table>\n",
       "</div>"
      ],
      "text/plain": [
       "    User_ID   Age  Mean_age  Purchase\n",
       "0   1000001  0-17       8.5    333481\n",
       "18  1000019  0-17       8.5   1457938\n",
       "48  1000051  0-17       8.5    200772\n",
       "72  1000075  0-17       8.5   1035228\n",
       "83  1000086  0-17       8.5    294050"
      ]
     },
     "metadata": {},
     "output_type": "display_data"
    },
    {
     "name": "stdout",
     "output_type": "stream",
     "text": [
      "group 18-25 total purchase\n"
     ]
    },
    {
     "data": {
      "text/html": [
       "<div>\n",
       "<style scoped>\n",
       "    .dataframe tbody tr th:only-of-type {\n",
       "        vertical-align: middle;\n",
       "    }\n",
       "\n",
       "    .dataframe tbody tr th {\n",
       "        vertical-align: top;\n",
       "    }\n",
       "\n",
       "    .dataframe thead th {\n",
       "        text-align: right;\n",
       "    }\n",
       "</style>\n",
       "<table border=\"1\" class=\"dataframe\">\n",
       "  <thead>\n",
       "    <tr style=\"text-align: right;\">\n",
       "      <th></th>\n",
       "      <th>User_ID</th>\n",
       "      <th>Age</th>\n",
       "      <th>Mean_age</th>\n",
       "      <th>Purchase</th>\n",
       "    </tr>\n",
       "  </thead>\n",
       "  <tbody>\n",
       "    <tr>\n",
       "      <th>17</th>\n",
       "      <td>1000018</td>\n",
       "      <td>18-25</td>\n",
       "      <td>21.5</td>\n",
       "      <td>1978675</td>\n",
       "    </tr>\n",
       "    <tr>\n",
       "      <th>20</th>\n",
       "      <td>1000021</td>\n",
       "      <td>18-25</td>\n",
       "      <td>21.5</td>\n",
       "      <td>126744</td>\n",
       "    </tr>\n",
       "    <tr>\n",
       "      <th>21</th>\n",
       "      <td>1000022</td>\n",
       "      <td>18-25</td>\n",
       "      <td>21.5</td>\n",
       "      <td>1279678</td>\n",
       "    </tr>\n",
       "    <tr>\n",
       "      <th>24</th>\n",
       "      <td>1000025</td>\n",
       "      <td>18-25</td>\n",
       "      <td>21.5</td>\n",
       "      <td>534215</td>\n",
       "    </tr>\n",
       "    <tr>\n",
       "      <th>33</th>\n",
       "      <td>1000034</td>\n",
       "      <td>18-25</td>\n",
       "      <td>21.5</td>\n",
       "      <td>807747</td>\n",
       "    </tr>\n",
       "  </tbody>\n",
       "</table>\n",
       "</div>"
      ],
      "text/plain": [
       "    User_ID    Age  Mean_age  Purchase\n",
       "17  1000018  18-25      21.5   1978675\n",
       "20  1000021  18-25      21.5    126744\n",
       "21  1000022  18-25      21.5   1279678\n",
       "24  1000025  18-25      21.5    534215\n",
       "33  1000034  18-25      21.5    807747"
      ]
     },
     "metadata": {},
     "output_type": "display_data"
    },
    {
     "name": "stdout",
     "output_type": "stream",
     "text": [
      "group 26-35 total purchase\n"
     ]
    },
    {
     "data": {
      "text/html": [
       "<div>\n",
       "<style scoped>\n",
       "    .dataframe tbody tr th:only-of-type {\n",
       "        vertical-align: middle;\n",
       "    }\n",
       "\n",
       "    .dataframe tbody tr th {\n",
       "        vertical-align: top;\n",
       "    }\n",
       "\n",
       "    .dataframe thead th {\n",
       "        text-align: right;\n",
       "    }\n",
       "</style>\n",
       "<table border=\"1\" class=\"dataframe\">\n",
       "  <thead>\n",
       "    <tr style=\"text-align: right;\">\n",
       "      <th></th>\n",
       "      <th>User_ID</th>\n",
       "      <th>Age</th>\n",
       "      <th>Mean_age</th>\n",
       "      <th>Purchase</th>\n",
       "    </tr>\n",
       "  </thead>\n",
       "  <tbody>\n",
       "    <tr>\n",
       "      <th>2</th>\n",
       "      <td>1000003</td>\n",
       "      <td>26-35</td>\n",
       "      <td>30.5</td>\n",
       "      <td>341635</td>\n",
       "    </tr>\n",
       "    <tr>\n",
       "      <th>4</th>\n",
       "      <td>1000005</td>\n",
       "      <td>26-35</td>\n",
       "      <td>30.5</td>\n",
       "      <td>821001</td>\n",
       "    </tr>\n",
       "    <tr>\n",
       "      <th>7</th>\n",
       "      <td>1000008</td>\n",
       "      <td>26-35</td>\n",
       "      <td>30.5</td>\n",
       "      <td>796545</td>\n",
       "    </tr>\n",
       "    <tr>\n",
       "      <th>8</th>\n",
       "      <td>1000009</td>\n",
       "      <td>26-35</td>\n",
       "      <td>30.5</td>\n",
       "      <td>593960</td>\n",
       "    </tr>\n",
       "    <tr>\n",
       "      <th>10</th>\n",
       "      <td>1000011</td>\n",
       "      <td>26-35</td>\n",
       "      <td>30.5</td>\n",
       "      <td>556902</td>\n",
       "    </tr>\n",
       "  </tbody>\n",
       "</table>\n",
       "</div>"
      ],
      "text/plain": [
       "    User_ID    Age  Mean_age  Purchase\n",
       "2   1000003  26-35      30.5    341635\n",
       "4   1000005  26-35      30.5    821001\n",
       "7   1000008  26-35      30.5    796545\n",
       "8   1000009  26-35      30.5    593960\n",
       "10  1000011  26-35      30.5    556902"
      ]
     },
     "metadata": {},
     "output_type": "display_data"
    },
    {
     "name": "stdout",
     "output_type": "stream",
     "text": [
      "group 36-45 total purchase\n"
     ]
    },
    {
     "data": {
      "text/html": [
       "<div>\n",
       "<style scoped>\n",
       "    .dataframe tbody tr th:only-of-type {\n",
       "        vertical-align: middle;\n",
       "    }\n",
       "\n",
       "    .dataframe tbody tr th {\n",
       "        vertical-align: top;\n",
       "    }\n",
       "\n",
       "    .dataframe thead th {\n",
       "        text-align: right;\n",
       "    }\n",
       "</style>\n",
       "<table border=\"1\" class=\"dataframe\">\n",
       "  <thead>\n",
       "    <tr style=\"text-align: right;\">\n",
       "      <th></th>\n",
       "      <th>User_ID</th>\n",
       "      <th>Age</th>\n",
       "      <th>Mean_age</th>\n",
       "      <th>Purchase</th>\n",
       "    </tr>\n",
       "  </thead>\n",
       "  <tbody>\n",
       "    <tr>\n",
       "      <th>6</th>\n",
       "      <td>1000007</td>\n",
       "      <td>36-45</td>\n",
       "      <td>40.5</td>\n",
       "      <td>234427</td>\n",
       "    </tr>\n",
       "    <tr>\n",
       "      <th>9</th>\n",
       "      <td>1000010</td>\n",
       "      <td>36-45</td>\n",
       "      <td>40.5</td>\n",
       "      <td>2169486</td>\n",
       "    </tr>\n",
       "    <tr>\n",
       "      <th>13</th>\n",
       "      <td>1000014</td>\n",
       "      <td>36-45</td>\n",
       "      <td>40.5</td>\n",
       "      <td>127629</td>\n",
       "    </tr>\n",
       "    <tr>\n",
       "      <th>15</th>\n",
       "      <td>1000016</td>\n",
       "      <td>36-45</td>\n",
       "      <td>40.5</td>\n",
       "      <td>150428</td>\n",
       "    </tr>\n",
       "    <tr>\n",
       "      <th>22</th>\n",
       "      <td>1000023</td>\n",
       "      <td>36-45</td>\n",
       "      <td>40.5</td>\n",
       "      <td>1670998</td>\n",
       "    </tr>\n",
       "  </tbody>\n",
       "</table>\n",
       "</div>"
      ],
      "text/plain": [
       "    User_ID    Age  Mean_age  Purchase\n",
       "6   1000007  36-45      40.5    234427\n",
       "9   1000010  36-45      40.5   2169486\n",
       "13  1000014  36-45      40.5    127629\n",
       "15  1000016  36-45      40.5    150428\n",
       "22  1000023  36-45      40.5   1670998"
      ]
     },
     "metadata": {},
     "output_type": "display_data"
    },
    {
     "name": "stdout",
     "output_type": "stream",
     "text": [
      "group 46-50 total purchase\n"
     ]
    },
    {
     "data": {
      "text/html": [
       "<div>\n",
       "<style scoped>\n",
       "    .dataframe tbody tr th:only-of-type {\n",
       "        vertical-align: middle;\n",
       "    }\n",
       "\n",
       "    .dataframe tbody tr th {\n",
       "        vertical-align: top;\n",
       "    }\n",
       "\n",
       "    .dataframe thead th {\n",
       "        text-align: right;\n",
       "    }\n",
       "</style>\n",
       "<table border=\"1\" class=\"dataframe\">\n",
       "  <thead>\n",
       "    <tr style=\"text-align: right;\">\n",
       "      <th></th>\n",
       "      <th>User_ID</th>\n",
       "      <th>Age</th>\n",
       "      <th>Mean_age</th>\n",
       "      <th>Purchase</th>\n",
       "    </tr>\n",
       "  </thead>\n",
       "  <tbody>\n",
       "    <tr>\n",
       "      <th>3</th>\n",
       "      <td>1000004</td>\n",
       "      <td>46-50</td>\n",
       "      <td>48.0</td>\n",
       "      <td>205987</td>\n",
       "    </tr>\n",
       "    <tr>\n",
       "      <th>12</th>\n",
       "      <td>1000013</td>\n",
       "      <td>46-50</td>\n",
       "      <td>48.0</td>\n",
       "      <td>713927</td>\n",
       "    </tr>\n",
       "    <tr>\n",
       "      <th>32</th>\n",
       "      <td>1000033</td>\n",
       "      <td>46-50</td>\n",
       "      <td>48.0</td>\n",
       "      <td>1940043</td>\n",
       "    </tr>\n",
       "    <tr>\n",
       "      <th>34</th>\n",
       "      <td>1000035</td>\n",
       "      <td>46-50</td>\n",
       "      <td>48.0</td>\n",
       "      <td>821303</td>\n",
       "    </tr>\n",
       "    <tr>\n",
       "      <th>41</th>\n",
       "      <td>1000044</td>\n",
       "      <td>46-50</td>\n",
       "      <td>48.0</td>\n",
       "      <td>1180380</td>\n",
       "    </tr>\n",
       "  </tbody>\n",
       "</table>\n",
       "</div>"
      ],
      "text/plain": [
       "    User_ID    Age  Mean_age  Purchase\n",
       "3   1000004  46-50      48.0    205987\n",
       "12  1000013  46-50      48.0    713927\n",
       "32  1000033  46-50      48.0   1940043\n",
       "34  1000035  46-50      48.0    821303\n",
       "41  1000044  46-50      48.0   1180380"
      ]
     },
     "metadata": {},
     "output_type": "display_data"
    },
    {
     "name": "stdout",
     "output_type": "stream",
     "text": [
      "group 51-55 total purchase\n"
     ]
    },
    {
     "data": {
      "text/html": [
       "<div>\n",
       "<style scoped>\n",
       "    .dataframe tbody tr th:only-of-type {\n",
       "        vertical-align: middle;\n",
       "    }\n",
       "\n",
       "    .dataframe tbody tr th {\n",
       "        vertical-align: top;\n",
       "    }\n",
       "\n",
       "    .dataframe thead th {\n",
       "        text-align: right;\n",
       "    }\n",
       "</style>\n",
       "<table border=\"1\" class=\"dataframe\">\n",
       "  <thead>\n",
       "    <tr style=\"text-align: right;\">\n",
       "      <th></th>\n",
       "      <th>User_ID</th>\n",
       "      <th>Age</th>\n",
       "      <th>Mean_age</th>\n",
       "      <th>Purchase</th>\n",
       "    </tr>\n",
       "  </thead>\n",
       "  <tbody>\n",
       "    <tr>\n",
       "      <th>5</th>\n",
       "      <td>1000006</td>\n",
       "      <td>51-55</td>\n",
       "      <td>53.0</td>\n",
       "      <td>379450</td>\n",
       "    </tr>\n",
       "    <tr>\n",
       "      <th>16</th>\n",
       "      <td>1000017</td>\n",
       "      <td>51-55</td>\n",
       "      <td>53.0</td>\n",
       "      <td>1425501</td>\n",
       "    </tr>\n",
       "    <tr>\n",
       "      <th>51</th>\n",
       "      <td>1000054</td>\n",
       "      <td>51-55</td>\n",
       "      <td>53.0</td>\n",
       "      <td>187201</td>\n",
       "    </tr>\n",
       "    <tr>\n",
       "      <th>56</th>\n",
       "      <td>1000059</td>\n",
       "      <td>51-55</td>\n",
       "      <td>53.0</td>\n",
       "      <td>980068</td>\n",
       "    </tr>\n",
       "    <tr>\n",
       "      <th>57</th>\n",
       "      <td>1000060</td>\n",
       "      <td>51-55</td>\n",
       "      <td>53.0</td>\n",
       "      <td>279980</td>\n",
       "    </tr>\n",
       "  </tbody>\n",
       "</table>\n",
       "</div>"
      ],
      "text/plain": [
       "    User_ID    Age  Mean_age  Purchase\n",
       "5   1000006  51-55      53.0    379450\n",
       "16  1000017  51-55      53.0   1425501\n",
       "51  1000054  51-55      53.0    187201\n",
       "56  1000059  51-55      53.0    980068\n",
       "57  1000060  51-55      53.0    279980"
      ]
     },
     "metadata": {},
     "output_type": "display_data"
    },
    {
     "name": "stdout",
     "output_type": "stream",
     "text": [
      "group 55+ total purchase\n"
     ]
    },
    {
     "data": {
      "text/html": [
       "<div>\n",
       "<style scoped>\n",
       "    .dataframe tbody tr th:only-of-type {\n",
       "        vertical-align: middle;\n",
       "    }\n",
       "\n",
       "    .dataframe tbody tr th {\n",
       "        vertical-align: top;\n",
       "    }\n",
       "\n",
       "    .dataframe thead th {\n",
       "        text-align: right;\n",
       "    }\n",
       "</style>\n",
       "<table border=\"1\" class=\"dataframe\">\n",
       "  <thead>\n",
       "    <tr style=\"text-align: right;\">\n",
       "      <th></th>\n",
       "      <th>User_ID</th>\n",
       "      <th>Age</th>\n",
       "      <th>Mean_age</th>\n",
       "      <th>Purchase</th>\n",
       "    </tr>\n",
       "  </thead>\n",
       "  <tbody>\n",
       "    <tr>\n",
       "      <th>1</th>\n",
       "      <td>1000002</td>\n",
       "      <td>55+</td>\n",
       "      <td>67.5</td>\n",
       "      <td>810353</td>\n",
       "    </tr>\n",
       "    <tr>\n",
       "      <th>30</th>\n",
       "      <td>1000031</td>\n",
       "      <td>55+</td>\n",
       "      <td>67.5</td>\n",
       "      <td>496154</td>\n",
       "    </tr>\n",
       "    <tr>\n",
       "      <th>77</th>\n",
       "      <td>1000080</td>\n",
       "      <td>55+</td>\n",
       "      <td>67.5</td>\n",
       "      <td>339119</td>\n",
       "    </tr>\n",
       "    <tr>\n",
       "      <th>86</th>\n",
       "      <td>1000089</td>\n",
       "      <td>55+</td>\n",
       "      <td>67.5</td>\n",
       "      <td>112226</td>\n",
       "    </tr>\n",
       "    <tr>\n",
       "      <th>87</th>\n",
       "      <td>1000090</td>\n",
       "      <td>55+</td>\n",
       "      <td>67.5</td>\n",
       "      <td>1310621</td>\n",
       "    </tr>\n",
       "  </tbody>\n",
       "</table>\n",
       "</div>"
      ],
      "text/plain": [
       "    User_ID  Age  Mean_age  Purchase\n",
       "1   1000002  55+      67.5    810353\n",
       "30  1000031  55+      67.5    496154\n",
       "77  1000080  55+      67.5    339119\n",
       "86  1000089  55+      67.5    112226\n",
       "87  1000090  55+      67.5   1310621"
      ]
     },
     "metadata": {},
     "output_type": "display_data"
    }
   ],
   "source": [
    "groups = blackfriday.groupby(['User_ID', 'Age', 'Mean_age']).agg({'Purchase': np.sum}).reset_index()\n",
    "#0-17\n",
    "print('group 0-17 total purchase')\n",
    "display(groups[groups.Mean_age == 8.5].head())\n",
    "#18-25\n",
    "print('group 18-25 total purchase')\n",
    "display(groups[groups.Mean_age == 21.5].head())\n",
    "#26-35\n",
    "print('group 26-35 total purchase')\n",
    "display(groups[groups.Mean_age == 30.5].head())\n",
    "#36-45\n",
    "print('group 36-45 total purchase')\n",
    "display(groups[groups.Mean_age == 40.5].head())\n",
    "#46-50\n",
    "print('group 46-50 total purchase')\n",
    "display(groups[groups.Mean_age == 48].head())\n",
    "#51-55\n",
    "print('group 51-55 total purchase')\n",
    "display(groups[groups.Mean_age == 53].head())\n",
    "#55+\n",
    "print('group 55+ total purchase')\n",
    "display(groups[groups.Mean_age == 67.5].head())"
   ]
  },
  {
   "cell_type": "markdown",
   "metadata": {},
   "source": [
    "### Graphing the amount of purchase by different groups of age"
   ]
  },
  {
   "cell_type": "code",
   "execution_count": 11,
   "metadata": {
    "scrolled": false
   },
   "outputs": [
    {
     "data": {
      "text/plain": [
       "Text(0,0.5,'The Amount of Purchase in U.S Dollar')"
      ]
     },
     "execution_count": 11,
     "metadata": {},
     "output_type": "execute_result"
    },
    {
     "data": {
      "image/png": "[encoded data removed]",
      "text/plain": [
       "<matplotlib.figure.Figure at 0x1cd2d405898>"
      ]
     },
     "metadata": {},
     "output_type": "display_data"
    }
   ],
   "source": [
    "groups = blackfriday.groupby(['Age']).agg({'Purchase': np.sum}).reset_index()\n",
    "ax = groups.plot.bar(x='Age', y='Purchase', rot=0)\n",
    "ax.figure.set_size_inches(15, 8)\n",
    "plt.title(\"The Amount of Purchase By Different Groups of Age\")\n",
    "plt.xlabel(\"Groups of Age\")\n",
    "plt.ylabel(\"The Amount of Purchase in U.S Dollar\")"
   ]
  },
  {
   "cell_type": "markdown",
   "metadata": {},
   "source": [
    "As we see above, customers with age between 26 and 35 spend the most on Black Friday. This is useful information if we want to target this group to advertise new products, and blast them with ads reminding them when Black Friday is approaching. It's also apparent that we should not focus on the elderly. Putting commercials television stations frequently viewed by the elderly would not be a good idea. This is because they are highly likely to spend more money than the other groups to buy new products. And people from group of age 0-17 or 55+ spend less money than other. We should limit the ads over these groups because it will cost money if this group is not active shoppers.<br><br>For a more in depth read about age groups and how to maket to them please click the following <a href=\"https://martech.zone/what-is-generational-marketing/to\">link</a> to an artical on generational marketing"
   ]
  },
  {
   "cell_type": "markdown",
   "metadata": {},
   "source": [
    "# <section id=\"sum\">Sum of purchases for each product</section>"
   ]
  },
  {
   "cell_type": "markdown",
   "metadata": {},
   "source": [
    "At the end of the day, a retailer would like to know which product has been purchased the most and which product has been purchased the least. It would help a retailer know which items to stock up on, and which items to have less of when Black Friday rolls around. Since we have so many products in our table, we won't be able to graph them all. So we will graph the top 100 purchased products and the bottom 100 purchased product. Then, we can visualize the sum of purchase for the top and bottom 100 products."
   ]
  },
  {
   "cell_type": "markdown",
   "metadata": {},
   "source": [
    "First, let's compute the sum of a purchase for a product"
   ]
  },
  {
   "cell_type": "code",
   "execution_count": 12,
   "metadata": {},
   "outputs": [
    {
     "data": {
      "text/html": [
       "<div>\n",
       "<style scoped>\n",
       "    .dataframe tbody tr th:only-of-type {\n",
       "        vertical-align: middle;\n",
       "    }\n",
       "\n",
       "    .dataframe tbody tr th {\n",
       "        vertical-align: top;\n",
       "    }\n",
       "\n",
       "    .dataframe thead th {\n",
       "        text-align: right;\n",
       "    }\n",
       "</style>\n",
       "<table border=\"1\" class=\"dataframe\">\n",
       "  <thead>\n",
       "    <tr style=\"text-align: right;\">\n",
       "      <th></th>\n",
       "      <th>Product_ID</th>\n",
       "      <th>Purchase</th>\n",
       "    </tr>\n",
       "  </thead>\n",
       "  <tbody>\n",
       "    <tr>\n",
       "      <th>249</th>\n",
       "      <td>25442</td>\n",
       "      <td>27532426</td>\n",
       "    </tr>\n",
       "    <tr>\n",
       "      <th>1014</th>\n",
       "      <td>110742</td>\n",
       "      <td>26382569</td>\n",
       "    </tr>\n",
       "    <tr>\n",
       "      <th>2441</th>\n",
       "      <td>255842</td>\n",
       "      <td>24652442</td>\n",
       "    </tr>\n",
       "    <tr>\n",
       "      <th>1743</th>\n",
       "      <td>184942</td>\n",
       "      <td>24060871</td>\n",
       "    </tr>\n",
       "    <tr>\n",
       "      <th>581</th>\n",
       "      <td>59442</td>\n",
       "      <td>23948299</td>\n",
       "    </tr>\n",
       "  </tbody>\n",
       "</table>\n",
       "</div>"
      ],
      "text/plain": [
       "      Product_ID  Purchase\n",
       "249        25442  27532426\n",
       "1014      110742  26382569\n",
       "2441      255842  24652442\n",
       "1743      184942  24060871\n",
       "581        59442  23948299"
      ]
     },
     "execution_count": 12,
     "metadata": {},
     "output_type": "execute_result"
    }
   ],
   "source": [
    "total_purchase_of_a_product = blackfriday.groupby('Product_ID').agg({'Purchase': np.sum})\n",
    "total_purchase_of_a_product.reset_index(inplace=True)\n",
    "total_purchase_of_a_product['Product_ID'] = total_purchase_of_a_product['Product_ID'].str.replace('P', '').astype(int)\n",
    "total_purchase_of_a_product.sort_values(by=['Purchase'], ascending=False, inplace=True)\n",
    "total_purchase_of_a_product.head()"
   ]
  },
  {
   "cell_type": "markdown",
   "metadata": {},
   "source": [
    "Now, let's visualize our data:"
   ]
  },
  {
   "cell_type": "code",
   "execution_count": 13,
   "metadata": {},
   "outputs": [
    {
     "data": {
      "image/png": "[encoded data removed]",
      "text/plain": [
       "<matplotlib.figure.Figure at 0x1cd2ccc9cc0>"
      ]
     },
     "metadata": {},
     "output_type": "display_data"
    }
   ],
   "source": [
    "top_100 = total_purchase_of_a_product.head(100)\n",
    "ax = sns.regplot(x='Product_ID', y='Purchase', data=top_100)\n",
    "\n",
    "ax.figure.set_size_inches(12, 6)\n",
    "title = \"Top 100 products that are purchased the most\"\n",
    "plt.title(title, fontsize=15)\n",
    "plt.xlabel('Product ID', fontsize=15)\n",
    "plt.ylabel('Purchase in Dollars', fontsize=15)\n",
    "plt.show()"
   ]
  },
  {
   "cell_type": "code",
   "execution_count": 14,
   "metadata": {},
   "outputs": [
    {
     "data": {
      "image/png": "[encoded data removed]",
      "text/plain": [
       "<matplotlib.figure.Figure at 0x1cd2d3e06a0>"
      ]
     },
     "metadata": {},
     "output_type": "display_data"
    }
   ],
   "source": [
    "bot_100 = total_purchase_of_a_product.tail(100)\n",
    "ax = sns.regplot(x='Product_ID', y='Purchase', data=bot_100)\n",
    "\n",
    "ax.figure.set_size_inches(12, 6)\n",
    "title = \"Bottom 100 products that are purchased the least\"\n",
    "plt.title(title, fontsize=15)\n",
    "plt.xlabel('Product ID', fontsize=15)\n",
    "plt.ylabel('Purchase in Dollars', fontsize=15)\n",
    "plt.show()"
   ]
  },
  {
   "cell_type": "markdown",
   "metadata": {},
   "source": [
    "This information is highly valuable especially around this time of year. The best selling Black Friday product are most likely intended to be presents for the holiday season. Retailers should stock up on the top items so they can sell to the holiday buyers."
   ]
  },
  {
   "cell_type": "markdown",
   "metadata": {},
   "source": [
    "# <section id=\"6\"> Frequency Purchase </section>"
   ]
  },
  {
   "cell_type": "markdown",
   "metadata": {},
   "source": [
    "There are several ways to measure purchase frequency on its own. However, we need to measure whether purchase frequency has increased as a result of the community. For this, we can reuse much of the same process to measure changes in spending.\n",
    "\n",
    "Frequency of purchase is the number of orders placed by a customer over a defined period of time (typically one month or one year). Greater purchase frequently typically implies higher profitability. An online community might encourage people to use the product more and thus purchase more frequently, or use the product more often and have to replace it most often."
   ]
  },
  {
   "cell_type": "markdown",
   "metadata": {},
   "source": [
    "Same as the sum of products, we want to know the top and bottom 100 products. "
   ]
  },
  {
   "cell_type": "markdown",
   "metadata": {},
   "source": [
    "First, compute the frequency of a product that is purchased within a group"
   ]
  },
  {
   "cell_type": "code",
   "execution_count": 15,
   "metadata": {},
   "outputs": [
    {
     "data": {
      "text/html": [
       "<div>\n",
       "<style scoped>\n",
       "    .dataframe tbody tr th:only-of-type {\n",
       "        vertical-align: middle;\n",
       "    }\n",
       "\n",
       "    .dataframe tbody tr th {\n",
       "        vertical-align: top;\n",
       "    }\n",
       "\n",
       "    .dataframe thead th {\n",
       "        text-align: right;\n",
       "    }\n",
       "</style>\n",
       "<table border=\"1\" class=\"dataframe\">\n",
       "  <thead>\n",
       "    <tr style=\"text-align: right;\">\n",
       "      <th></th>\n",
       "      <th>Product_ID</th>\n",
       "      <th>Freq</th>\n",
       "    </tr>\n",
       "  </thead>\n",
       "  <tbody>\n",
       "    <tr>\n",
       "      <th>2534</th>\n",
       "      <td>265242</td>\n",
       "      <td>1858</td>\n",
       "    </tr>\n",
       "    <tr>\n",
       "      <th>1014</th>\n",
       "      <td>110742</td>\n",
       "      <td>1591</td>\n",
       "    </tr>\n",
       "    <tr>\n",
       "      <th>249</th>\n",
       "      <td>25442</td>\n",
       "      <td>1586</td>\n",
       "    </tr>\n",
       "    <tr>\n",
       "      <th>1028</th>\n",
       "      <td>112142</td>\n",
       "      <td>1539</td>\n",
       "    </tr>\n",
       "    <tr>\n",
       "      <th>565</th>\n",
       "      <td>57642</td>\n",
       "      <td>1430</td>\n",
       "    </tr>\n",
       "  </tbody>\n",
       "</table>\n",
       "</div>"
      ],
      "text/plain": [
       "      Product_ID  Freq\n",
       "2534      265242  1858\n",
       "1014      110742  1591\n",
       "249        25442  1586\n",
       "1028      112142  1539\n",
       "565        57642  1430"
      ]
     },
     "execution_count": 15,
     "metadata": {},
     "output_type": "execute_result"
    }
   ],
   "source": [
    "freq_purchase =  blackfriday.groupby(['Product_ID']).Product_ID.count().to_frame() # counting the frequency for each product\n",
    "freq_purchase['Freq'] = freq_purchase.Product_ID #create a new column named \"Freq\"\n",
    "freq_purchase = freq_purchase.drop(columns=['Product_ID'], axis=1) \n",
    "freq_purchase.reset_index(level=0, inplace=True)\n",
    "freq_purchase['Product_ID'] = freq_purchase['Product_ID'].str.replace('P', '').astype(int)\n",
    "freq_purchase.sort_values(by=['Freq'], ascending=False, inplace=True)\n",
    "freq_purchase.head()"
   ]
  },
  {
   "cell_type": "markdown",
   "metadata": {},
   "source": [
    "Then, merge the two tables: freq_purchase and total_purchase_of_a_product"
   ]
  },
  {
   "cell_type": "code",
   "execution_count": 16,
   "metadata": {},
   "outputs": [
    {
     "data": {
      "text/html": [
       "<div>\n",
       "<style scoped>\n",
       "    .dataframe tbody tr th:only-of-type {\n",
       "        vertical-align: middle;\n",
       "    }\n",
       "\n",
       "    .dataframe tbody tr th {\n",
       "        vertical-align: top;\n",
       "    }\n",
       "\n",
       "    .dataframe thead th {\n",
       "        text-align: right;\n",
       "    }\n",
       "</style>\n",
       "<table border=\"1\" class=\"dataframe\">\n",
       "  <thead>\n",
       "    <tr style=\"text-align: right;\">\n",
       "      <th></th>\n",
       "      <th>Product_ID</th>\n",
       "      <th>Freq</th>\n",
       "      <th>Purchase</th>\n",
       "    </tr>\n",
       "  </thead>\n",
       "  <tbody>\n",
       "    <tr>\n",
       "      <th>0</th>\n",
       "      <td>265242</td>\n",
       "      <td>1858</td>\n",
       "      <td>13983325</td>\n",
       "    </tr>\n",
       "    <tr>\n",
       "      <th>1</th>\n",
       "      <td>110742</td>\n",
       "      <td>1591</td>\n",
       "      <td>26382569</td>\n",
       "    </tr>\n",
       "    <tr>\n",
       "      <th>2</th>\n",
       "      <td>25442</td>\n",
       "      <td>1586</td>\n",
       "      <td>27532426</td>\n",
       "    </tr>\n",
       "    <tr>\n",
       "      <th>3</th>\n",
       "      <td>112142</td>\n",
       "      <td>1539</td>\n",
       "      <td>23882624</td>\n",
       "    </tr>\n",
       "    <tr>\n",
       "      <th>4</th>\n",
       "      <td>57642</td>\n",
       "      <td>1430</td>\n",
       "      <td>22493690</td>\n",
       "    </tr>\n",
       "  </tbody>\n",
       "</table>\n",
       "</div>"
      ],
      "text/plain": [
       "   Product_ID  Freq  Purchase\n",
       "0      265242  1858  13983325\n",
       "1      110742  1591  26382569\n",
       "2       25442  1586  27532426\n",
       "3      112142  1539  23882624\n",
       "4       57642  1430  22493690"
      ]
     },
     "execution_count": 16,
     "metadata": {},
     "output_type": "execute_result"
    }
   ],
   "source": [
    "#Using outer join to merge the two tables together.\n",
    "freq_purchase = freq_purchase.merge(total_purchase_of_a_product, left_on='Product_ID', right_on='Product_ID', how='outer')\n",
    "freq_purchase.head()"
   ]
  },
  {
   "cell_type": "markdown",
   "metadata": {},
   "source": [
    "### Graphing Frequency Distribution of Top and Bottom 100 Purchased Products"
   ]
  },
  {
   "cell_type": "code",
   "execution_count": 17,
   "metadata": {},
   "outputs": [
    {
     "data": {
      "image/png": "[encoded data removed]",
      "text/plain": [
       "<matplotlib.figure.Figure at 0x1cd2d3edc88>"
      ]
     },
     "metadata": {},
     "output_type": "display_data"
    }
   ],
   "source": [
    "top_100 = freq_purchase.head(100)\n",
    "\n",
    "#Using bar plot to describe the frequency of a product is purchased.\n",
    "ax = top_100.plot.bar(x='Product_ID', y='Freq', figsize=(25, 10))\n",
    "title = \"The most 100 products that are frequently purchased\"\n",
    "plt.title(title, fontsize=15)\n",
    "ax.set_xlabel(\"Product ID\") #Label the x-axis\n",
    "ax.set_ylabel(\"Frequency Purchased\") #label the y-axis\n",
    "ax.get_legend().remove()"
   ]
  },
  {
   "cell_type": "code",
   "execution_count": 18,
   "metadata": {},
   "outputs": [
    {
     "data": {
      "image/png": "[encoded data removed]",
      "text/plain": [
       "<matplotlib.figure.Figure at 0x1cd2f9fef28>"
      ]
     },
     "metadata": {},
     "output_type": "display_data"
    }
   ],
   "source": [
    "bot_100 = freq_purchase.tail(100)\n",
    "\n",
    "#Using bar plot to describe the frequency of a product is purchased.\n",
    "ax = bot_100.plot.bar(x='Product_ID', y='Freq', figsize=(25, 10))\n",
    "title = \"The least 100 products that are frequently purchased\"\n",
    "plt.title(title, fontsize=15)\n",
    "ax.set_xlabel(\"Product ID\") #Label the x-axis\n",
    "ax.set_ylabel(\"Frequency Purchased\") #label the y-axis\n",
    "ax.get_legend().remove()"
   ]
  },
  {
   "cell_type": "markdown",
   "metadata": {},
   "source": [
    "# City Category"
   ]
  },
  {
   "cell_type": "markdown",
   "metadata": {},
   "source": [
    "### Graphing the amount of purchase from different city category"
   ]
  },
  {
   "cell_type": "code",
   "execution_count": 19,
   "metadata": {},
   "outputs": [
    {
     "data": {
      "text/plain": [
       "Text(0,0.5,'The Amount of Purchase in U.S Dollar')"
      ]
     },
     "execution_count": 19,
     "metadata": {},
     "output_type": "execute_result"
    },
    {
     "data": {
      "image/png": "[encoded data removed]",
      "text/plain": [
       "<matplotlib.figure.Figure at 0x1cd2faa8eb8>"
      ]
     },
     "metadata": {},
     "output_type": "display_data"
    }
   ],
   "source": [
    "groups = blackfriday.groupby(['City_Category']).agg({'Purchase': np.sum}).reset_index()\n",
    "ax = groups.plot.bar(x='City_Category', y='Purchase', rot=0)\n",
    "ax.figure.set_size_inches(15, 8)\n",
    "plt.title(\"The Amount of Purchase From A City Category\")\n",
    "plt.xlabel(\"City Category\")\n",
    "plt.ylabel(\"The Amount of Purchase in U.S Dollar\")"
   ]
  },
  {
   "cell_type": "markdown",
   "metadata": {},
   "source": [
    "The graph above represents the amount spent in city A, B, and C."
   ]
  },
  {
   "cell_type": "markdown",
   "metadata": {},
   "source": [
    "### Graphing Frequency Distribution of Product Categories"
   ]
  },
  {
   "cell_type": "code",
   "execution_count": 20,
   "metadata": {},
   "outputs": [
    {
     "data": {
      "text/plain": [
       "Text(0,0.5,'Counts')"
      ]
     },
     "execution_count": 20,
     "metadata": {},
     "output_type": "execute_result"
    },
    {
     "data": {
      "image/png": "[encoded data removed]",
      "text/plain": [
       "<matplotlib.figure.Figure at 0x1cd2fbbe550>"
      ]
     },
     "metadata": {},
     "output_type": "display_data"
    }
   ],
   "source": [
    "# Create a frequency table of Product_Category from category_table\n",
    "freq_category = category_table.groupby('Product_Category').count()\n",
    "freq_category = freq_category.drop(['Age'], axis=1)\n",
    "# Plotting the distribution with bar chart\n",
    "ax=freq_category.plot(kind='bar', legend=False, figsize=(10,6))\n",
    "ax.set_xticklabels(range(1,19))\n",
    "ax.set_title(\"Frequency Distribution of Product Categories\")\n",
    "ax.set_xlabel(\"Categories\")\n",
    "ax.set_ylabel(\"Counts\")"
   ]
  },
  {
   "cell_type": "markdown",
   "metadata": {},
   "source": [
    "This graph shows the frequency at which each item category is bought."
   ]
  },
  {
   "cell_type": "markdown",
   "metadata": {},
   "source": [
    "# <section id=\"7\">Top 5 selling products</section>"
   ]
  },
  {
   "cell_type": "markdown",
   "metadata": {},
   "source": [
    "### Find The Target audiance for top 5 best selling products"
   ]
  },
  {
   "cell_type": "code",
   "execution_count": 21,
   "metadata": {},
   "outputs": [
    {
     "data": {
      "text/html": [
       "<div>\n",
       "<style scoped>\n",
       "    .dataframe tbody tr th:only-of-type {\n",
       "        vertical-align: middle;\n",
       "    }\n",
       "\n",
       "    .dataframe tbody tr th {\n",
       "        vertical-align: top;\n",
       "    }\n",
       "\n",
       "    .dataframe thead th {\n",
       "        text-align: right;\n",
       "    }\n",
       "</style>\n",
       "<table border=\"1\" class=\"dataframe\">\n",
       "  <thead>\n",
       "    <tr style=\"text-align: right;\">\n",
       "      <th></th>\n",
       "      <th>Product_ID</th>\n",
       "      <th>Freq</th>\n",
       "    </tr>\n",
       "  </thead>\n",
       "  <tbody>\n",
       "    <tr>\n",
       "      <th>2534</th>\n",
       "      <td>P00265242</td>\n",
       "      <td>1858</td>\n",
       "    </tr>\n",
       "    <tr>\n",
       "      <th>1014</th>\n",
       "      <td>P00110742</td>\n",
       "      <td>1591</td>\n",
       "    </tr>\n",
       "    <tr>\n",
       "      <th>249</th>\n",
       "      <td>P00025442</td>\n",
       "      <td>1586</td>\n",
       "    </tr>\n",
       "    <tr>\n",
       "      <th>1028</th>\n",
       "      <td>P00112142</td>\n",
       "      <td>1539</td>\n",
       "    </tr>\n",
       "    <tr>\n",
       "      <th>565</th>\n",
       "      <td>P00057642</td>\n",
       "      <td>1430</td>\n",
       "    </tr>\n",
       "  </tbody>\n",
       "</table>\n",
       "</div>"
      ],
      "text/plain": [
       "     Product_ID  Freq\n",
       "2534  P00265242  1858\n",
       "1014  P00110742  1591\n",
       "249   P00025442  1586\n",
       "1028  P00112142  1539\n",
       "565   P00057642  1430"
      ]
     },
     "execution_count": 21,
     "metadata": {},
     "output_type": "execute_result"
    }
   ],
   "source": [
    "freq_purchase_by_PID =  blackfriday.groupby(['Product_ID']).Product_ID.count().to_frame() # counting the frequency for each product\n",
    "freq_purchase_by_PID['Freq'] = freq_purchase_by_PID.Product_ID #create a new column named \"Freq\"\n",
    "freq_purchase_by_PID = freq_purchase_by_PID.drop(columns=['Product_ID'], axis=1) \n",
    "freq_purchase_by_PID.reset_index(level=0, inplace=True)\n",
    "top_5 = freq_purchase_by_PID.sort_values(by=['Freq'], ascending=False).head()\n",
    "top_5"
   ]
  },
  {
   "cell_type": "markdown",
   "metadata": {},
   "source": [
    "It looks like our best 5 selling products are:\n",
    "<ul>\n",
    "    <li>P00265242 = 1858</li>\n",
    "    <li>P00110742 = 1591</li>\n",
    "    <li>P00025442 = 1586</li>\n",
    "    <li>P00112142 = 1539</li>\n",
    "    <li>P00057642 = 1430</li>\n",
    "</ul>"
   ]
  },
  {
   "cell_type": "markdown",
   "metadata": {},
   "source": [
    "Having found the top selling products, one thing we could be interested in is finding the target occupation to advertise/appeal to when considering these five products."
   ]
  },
  {
   "cell_type": "code",
   "execution_count": 22,
   "metadata": {},
   "outputs": [
    {
     "data": {
      "text/plain": [
       "Text(0,0.5,'The Amount of Purchase in U.S Dollar')"
      ]
     },
     "execution_count": 22,
     "metadata": {},
     "output_type": "execute_result"
    },
    {
     "data": {
      "image/png": "[encoded data removed]",
      "text/plain": [
       "<matplotlib.figure.Figure at 0x1cd32cb1b38>"
      ]
     },
     "metadata": {},
     "output_type": "display_data"
    }
   ],
   "source": [
    "#Most sold product\n",
    "top_5 = blackfriday.loc[blackfriday['Product_ID'].isin(['P00265242','P00110742','P00025442','P00112142','P00057642'])]\n",
    "groups = blackfriday.groupby(['Occupation']).agg({'Purchase': np.sum}).reset_index()\n",
    "ax = groups.plot.bar(x='Occupation', y='Purchase', rot=0)\n",
    "ax.figure.set_size_inches(15, 8)\n",
    "plt.title(\"The Amount of Purchase By Different Occupations\")\n",
    "plt.xlabel(\"Occupation\")\n",
    "plt.ylabel(\"The Amount of Purchase in U.S Dollar\")"
   ]
  },
  {
   "cell_type": "markdown",
   "metadata": {},
   "source": [
    "It would seem that Occupation 4 and 0 are the top buyers of our products. Say that these two occupations are business related. We could use this information to put an ad over these products with a person in a business suit enjoying the product."
   ]
  },
  {
   "cell_type": "markdown",
   "metadata": {},
   "source": [
    "We can see from our previous graphs that the top selling \n",
    "product is P00265242. The top consumer city is city B. Now lets try to advertise the best selling product in the \n",
    "largest consumer city.\n",
    "Our goal is to make an ad that appeals to the largest consumer group of product P00265242 in city B.\n",
    "When making the ad we need to take into account the target age group, the taget gender, and the target marital status "
   ]
  },
  {
   "cell_type": "code",
   "execution_count": 23,
   "metadata": {},
   "outputs": [
    {
     "data": {
      "text/plain": [
       "Text(0,0.5,'Amount of Product P00265242 Purchased')"
      ]
     },
     "execution_count": 23,
     "metadata": {},
     "output_type": "execute_result"
    },
    {
     "data": {
      "image/png": "[encoded data removed]",
      "text/plain": [
       "<matplotlib.figure.Figure at 0x1cd32c9c940>"
      ]
     },
     "metadata": {},
     "output_type": "display_data"
    }
   ],
   "source": [
    "#Highest spending city\n",
    "city_B = blackfriday.loc[blackfriday[\"City_Category\"] == \"B\"]\n",
    "#Most sold product\n",
    "city_B_best_seller = city_B.loc[city_B['Product_ID']=='P00265242']\n",
    "#city_b_cat_5 = pd.merge(city_A,catagory_5, on='Product_ID', how='inner')\n",
    "freq_purchase_by_age =  city_B_best_seller.groupby(['Age']).Product_ID.count().to_frame()\n",
    "freq_purchase_by_age['Freq'] = freq_purchase_by_age.Product_ID #create a new column named \"Freq\"\n",
    "freq_purchase_by_age = freq_purchase_by_age.drop(columns=['Product_ID'], axis=1) \n",
    "freq_purchase_by_age.reset_index(level=0, inplace=True)\n",
    "ax = freq_purchase_by_age.plot.bar(x='Age', y='Freq', rot=0)\n",
    "ax.figure.set_size_inches(15, 8)\n",
    "plt.xlabel(\"Age Groups that live in city B\")\n",
    "plt.ylabel(\"Amount of Product P00265242 Purchased\")"
   ]
  },
  {
   "cell_type": "markdown",
   "metadata": {},
   "source": [
    "Unsuprisingly, based on graphs above, we can see that the target age group should be ages from 26 to 35. Now lets see how many of our taget\n",
    "age are male or female."
   ]
  },
  {
   "cell_type": "code",
   "execution_count": 24,
   "metadata": {},
   "outputs": [
    {
     "data": {
      "text/plain": [
       "Text(0,0.5,'Amount of Product P00265242 Purchased')"
      ]
     },
     "execution_count": 24,
     "metadata": {},
     "output_type": "execute_result"
    },
    {
     "data": {
      "image/png": "[encoded data removed]",
      "text/plain": [
       "<matplotlib.figure.Figure at 0x1cd2fa93be0>"
      ]
     },
     "metadata": {},
     "output_type": "display_data"
    }
   ],
   "source": [
    "target = city_B_best_seller.loc[city_B_best_seller['Age']=='26-35']\n",
    "freq_purchase_by_gender =  target.groupby(['Gender']).Product_ID.count().to_frame()\n",
    "freq_purchase_by_gender['Freq'] = freq_purchase_by_gender.Product_ID #create a new column named \"Freq\"\n",
    "freq_purchase_by_gender = freq_purchase_by_gender.drop(columns=['Product_ID'], axis=1) \n",
    "freq_purchase_by_gender.reset_index(level=0, inplace=True)\n",
    "ax = freq_purchase_by_gender.plot.bar(x='Gender', y='Freq', rot=0)\n",
    "ax.figure.set_size_inches(15, 8)\n",
    "plt.xlabel(\"Gender Groups that live in city B\")\n",
    "plt.ylabel(\"Amount of Product P00265242 Purchased\")"
   ]
  },
  {
   "cell_type": "markdown",
   "metadata": {},
   "source": [
    "We can now narrow our target group to 26-35 year old men. Lets see if the taget group is single or not"
   ]
  },
  {
   "cell_type": "code",
   "execution_count": 25,
   "metadata": {},
   "outputs": [
    {
     "data": {
      "text/plain": [
       "Text(0,0.5,'Amount of Product P00265242 Purchased')"
      ]
     },
     "execution_count": 25,
     "metadata": {},
     "output_type": "execute_result"
    },
    {
     "data": {
      "image/png": "[encoded data removed]",
      "text/plain": [
       "<matplotlib.figure.Figure at 0x1cd2fb2ac18>"
      ]
     },
     "metadata": {},
     "output_type": "display_data"
    }
   ],
   "source": [
    "target = target.loc[target['Gender']=='M']\n",
    "freq_purchase_by_status =  target.groupby(['Marital_Status']).Product_ID.count().to_frame()\n",
    "freq_purchase_by_status['Freq'] = freq_purchase_by_status.Product_ID #create a new column named \"Freq\"\n",
    "freq_purchase_by_status = freq_purchase_by_status.drop(columns=['Product_ID'], axis=1) \n",
    "freq_purchase_by_status.reset_index(level=0, inplace=True)\n",
    "ax = freq_purchase_by_status.plot.bar(x='Marital_Status', y='Freq', rot=0)\n",
    "ax.figure.set_size_inches(15, 8)\n",
    "plt.xlabel(\"Marital_Status\")\n",
    "plt.ylabel(\"Amount of Product P00265242 Purchased\")"
   ]
  },
  {
   "cell_type": "markdown",
   "metadata": {},
   "source": [
    "As an advertising company we should focus on creating an ad that will appeal to single men around the age of 25-36 who live in city B."
   ]
  },
  {
   "cell_type": "markdown",
   "metadata": {},
   "source": [
    "Let's continue with the previous scenario. Suppose this time we want to find a target age group for each product category.  "
   ]
  },
  {
   "cell_type": "markdown",
   "metadata": {},
   "source": [
    "# <section id=\"8\"> Product Category </section>"
   ]
  },
  {
   "cell_type": "markdown",
   "metadata": {},
   "source": [
    "### Graphing percentage of purchase from each age group by category "
   ]
  },
  {
   "cell_type": "markdown",
   "metadata": {},
   "source": [
    "#### Find the target audiance for each product category"
   ]
  },
  {
   "cell_type": "code",
   "execution_count": 26,
   "metadata": {},
   "outputs": [],
   "source": [
    "# Obtain a list of age groups\n",
    "age_column = blackfriday.Age.unique()\n",
    "age_column.sort()\n",
    "# Create a new dataframe for counting\n",
    "age_count = pd.DataFrame(index=range(1,19), columns=age_column)\n",
    "\n",
    "# Obtain total purchases made by each age group for every category\n",
    "for cate_num, cate_group in category_table.groupby('Product_Category'):\n",
    "    count = cate_group.groupby('Age').count()\n",
    "    for age_group, row in count.iterrows():\n",
    "        age_count.loc[cate_num, age_group] = count.loc[age_group, 'Product_Category']"
   ]
  },
  {
   "cell_type": "code",
   "execution_count": 27,
   "metadata": {},
   "outputs": [
    {
     "data": {
      "image/png": "[encoded data removed]",
      "text/plain": [
       "<matplotlib.figure.Figure at 0x1cd2d3e0dd8>"
      ]
     },
     "metadata": {},
     "output_type": "display_data"
    }
   ],
   "source": [
    "# From raw value to percentage\n",
    "totals = age_count.sum(axis=1).values\n",
    "age_17 = [i / j * 100 for i,j in zip(age_count['0-17'], totals)]\n",
    "age18_25 = [i / j * 100 for i,j in zip(age_count['18-25'], totals)]\n",
    "age26_35 = [i / j * 100 for i,j in zip(age_count['26-35'], totals)]\n",
    "age36_45 = [i / j * 100 for i,j in zip(age_count['36-45'], totals)]\n",
    "age46_50 = [i / j * 100 for i,j in zip(age_count['46-50'], totals)]\n",
    "age51_55 = [i / j * 100 for i,j in zip(age_count['51-55'], totals)]\n",
    "age55_ = [i / j * 100 for i,j in zip(age_count['55+'], totals)]\n",
    "\n",
    "# plot\n",
    "barWidth = 0.85\n",
    "names = list(range(1,19))\n",
    "r = list(range(0,18))\n",
    "\n",
    "# Set size\n",
    "fig = plt.figure()\n",
    "fig.set_size_inches(16, 8)\n",
    "\n",
    "# Create bars\n",
    "plt.bar(r, age_17, color='#d699ff', edgecolor='white', width=barWidth)\n",
    "plt.bar(r, age18_25, bottom=age_17, color='#99b3ff', edgecolor='white', width=barWidth)\n",
    "plt.bar(r, age26_35, bottom=[i+j for i,j in zip(age_17,age18_25)], color='#80ffe5', edgecolor='white', width=barWidth)\n",
    "plt.bar(r, age36_45, bottom=[i+j+k for i,j,k in zip(age_17,age18_25,age26_35)], color='#80ff80', edgecolor='white', width=barWidth)\n",
    "plt.bar(r, age46_50, bottom=[i+j+k+l for i,j,k,l in zip(age_17,age18_25,age26_35,age36_45)], color='#ffff66', edgecolor='white', width=barWidth)\n",
    "plt.bar(r, age51_55, bottom=[i+j+k+l+m for i,j,k,l,m in zip(age_17,age18_25,age26_35,age36_45,age46_50)], color='#ffcc99', edgecolor='white', width=barWidth)\n",
    "plt.bar(r, age55_, bottom=[i+j+k+l+m+n for i,j,k,l,m,n in zip(age_17,age18_25,age26_35,age36_45,age46_50,age51_55)], color='#ff9999', edgecolor='white', width=barWidth)\n",
    "\n",
    "# Add title and labels\n",
    "plt.xticks(r, names)\n",
    "plt.xlabel(\"Product Categories\")\n",
    "plt.ylabel(\"Percentage\")\n",
    "plt.title(\"Percentage of Purchases Made by Age Groups for Each Category\")\n",
    "plt.legend(age_column,loc=0, bbox_to_anchor=(1.0, 1.0))\n",
    "# Show graphic\n",
    "plt.show()"
   ]
  },
  {
   "cell_type": "markdown",
   "metadata": {},
   "source": [
    "What an interesting find! As we have observed in previous graphs, the 26 to 35 age group was the overall biggest spender. However, as you can observe, they are not only the top spenders overall, they are the top spenders for every category. <br>\n",
    "In the role of a retailer or advertising agency this information is invaluable. Not only does it tell us the age groups that spend the most across the board, 18 to 45, it shows us how little groups like 0 to 17 and 55+ spend. "
   ]
  },
  {
   "cell_type": "markdown",
   "metadata": {},
   "source": [
    "# <section id=\"hypothesis\">Hypothesis testing for the mean of different groups of age</section>"
   ]
  },
  {
   "cell_type": "markdown",
   "metadata": {},
   "source": [
    "Next, we are going to perform hypothesis testing on the mean purchase of male and female at significant level α = 0.05. <br>\n",
    "Base on the previous observation, <br>\n",
    "the <b>null hypothesis</b> is that mean purchase made by males and females are equal, and <br>\n",
    "our <b>alternative hypothesis</b> is mean purchase made by males and females are different.\n",
    "\n",
    "$\n",
    "H_0 : μ_{male} = μ_{female} \\\\\n",
    "H_1 : μ_{male} ≠ μ_{female} \\\\\n",
    "α = 0.05\n",
    "$"
   ]
  },
  {
   "cell_type": "code",
   "execution_count": 28,
   "metadata": {},
   "outputs": [
    {
     "name": "stdout",
     "output_type": "stream",
     "text": [
      "2 sample test (assuming equal variance)\n",
      "F-statistic =  44.13462293864972\n",
      "P-value =  0.0\n"
     ]
    }
   ],
   "source": [
    "female_Purchase= blackfriday[blackfriday['Gender'] == 'F']['Purchase']\n",
    "male_Purchase = blackfriday[blackfriday['Gender'] == 'M']['Purchase']\n",
    "# Perform a standard independent 2 sample test that assumes equal population variances for male and female\n",
    "print(\"2 sample test (assuming equal variance)\")\n",
    "f_val, p_val = stats.ttest_ind(male_Purchase, female_Purchase) \n",
    "print(\"F-statistic = \", f_val)\n",
    "print(\"P-value = \", p_val)"
   ]
  },
  {
   "cell_type": "markdown",
   "metadata": {},
   "source": [
    "Because the p-value = 0.0 < α = 0.05, there is enough evidence to prove that mean purchases made by males is significantly different from purchases made by women."
   ]
  },
  {
   "cell_type": "code",
   "execution_count": 29,
   "metadata": {},
   "outputs": [
    {
     "name": "stdout",
     "output_type": "stream",
     "text": [
      "Welch’s t-test\n",
      "F-statistic =  45.67264701908008\n",
      "P-value =  0.0\n"
     ]
    }
   ],
   "source": [
    "# perform Welch’s t-test, which does not assume equal population variance \n",
    "print(\"Welch’s t-test\")\n",
    "f_val, p_val = stats.ttest_ind(male_Purchase, female_Purchase, equal_var=False) \n",
    "print(\"F-statistic = \", f_val)\n",
    "print(\"P-value = \", p_val)"
   ]
  },
  {
   "cell_type": "markdown",
   "metadata": {},
   "source": [
    "Because the means are significantly different, we should expect the variance of these two population to also differ. <br>For different population variance, Welch's t-test will have a higher accuracy. <br>Result of Welch's t-test also indicates the population means are different since the p-value = 0.0 < α = 0.05."
   ]
  },
  {
   "cell_type": "markdown",
   "metadata": {},
   "source": [
    "# <section id=\"ANOVA\">Analysis of Variance </section>"
   ]
  },
  {
   "cell_type": "markdown",
   "metadata": {},
   "source": [
    "For three or more population means, performing three or more hypothesis testing separately with <b>null hypothesis</b> $H_0: μ_1 = μ_2 = ... = μ_n$ would increase the probability of <b>Type I Error</b> (rejection of a true null hypothesis) so that it could be much higher than the level of significant α. <br><br>\n",
    "Instead of a 2 sample t-test,\n",
    "<b>Analysis of Variance (ANOVA)</b> is an inferential method used to test the equality of three or more population means."
   ]
  },
  {
   "cell_type": "markdown",
   "metadata": {},
   "source": [
    "Using scipy.stats to perform 1-way ANOVA that tests the null hypothesis that two or more groups have the same population mean. "
   ]
  },
  {
   "cell_type": "code",
   "execution_count": 30,
   "metadata": {},
   "outputs": [
    {
     "name": "stdout",
     "output_type": "stream",
     "text": [
      "One-way ANOVA\n",
      "F-statistic =  43.48718107271441\n",
      "P-value =  1.9552104879020313e-53\n"
     ]
    }
   ],
   "source": [
    "age_17= blackfriday[blackfriday['Age'] == '0-17']['Purchase']\n",
    "age18_25= blackfriday[blackfriday['Age'] == '18-25']['Purchase']\n",
    "age26_35= blackfriday[blackfriday['Age'] == '26-35']['Purchase']\n",
    "age36_45= blackfriday[blackfriday['Age'] == '36-45']['Purchase']\n",
    "age46_50= blackfriday[blackfriday['Age'] == '46-50']['Purchase']\n",
    "age51_55= blackfriday[blackfriday['Age'] == '51-55']['Purchase']\n",
    "age55_= blackfriday[blackfriday['Age'] == '55+']['Purchase']\n",
    "\n",
    "f_val, p_val = stats.f_oneway(age_17, age18_25, age26_35, age36_45, age46_50, age51_55, age55_) \n",
    "print(\"One-way ANOVA\")\n",
    "print(\"F-statistic = \", f_val)\n",
    "print(\"P-value = \", p_val)"
   ]
  },
  {
   "cell_type": "markdown",
   "metadata": {},
   "source": [
    "Using Statsmodels to produce ANOVA table"
   ]
  },
  {
   "cell_type": "code",
   "execution_count": 31,
   "metadata": {},
   "outputs": [
    {
     "name": "stdout",
     "output_type": "stream",
     "text": [
      "                sum_sq        df          F        PR(>F)\n",
      "Age       6.470585e+09       6.0  43.487181  1.955210e-53\n",
      "Residual  1.333110e+13  537570.0        NaN           NaN\n"
     ]
    }
   ],
   "source": [
    "model = ols('Purchase ~ Age', data=blackfriday).fit()\n",
    "anova_table = sm.stats.anova_lm(model, typ=2)\n",
    "print (anova_table)"
   ]
  },
  {
   "cell_type": "markdown",
   "metadata": {},
   "source": [
    "Sure enough, since the p-value is significantly small, we have enough statistical evidence to prove that the mean purchase of different age group is significantly different. "
   ]
  },
  {
   "cell_type": "markdown",
   "metadata": {},
   "source": [
    "# <section id=\"9\">Linear Regression </section>"
   ]
  },
  {
   "cell_type": "markdown",
   "metadata": {},
   "source": [
    "#### A simple linear regression of purchases : Purchases = B0 + B1 * Frequency"
   ]
  },
  {
   "cell_type": "code",
   "execution_count": 32,
   "metadata": {},
   "outputs": [
    {
     "data": {
      "text/html": [
       "<div>\n",
       "<style scoped>\n",
       "    .dataframe tbody tr th:only-of-type {\n",
       "        vertical-align: middle;\n",
       "    }\n",
       "\n",
       "    .dataframe tbody tr th {\n",
       "        vertical-align: top;\n",
       "    }\n",
       "\n",
       "    .dataframe thead th {\n",
       "        text-align: right;\n",
       "    }\n",
       "</style>\n",
       "<table border=\"1\" class=\"dataframe\">\n",
       "  <thead>\n",
       "    <tr style=\"text-align: right;\">\n",
       "      <th></th>\n",
       "      <th>Product_ID</th>\n",
       "      <th>Freq</th>\n",
       "      <th>Purchase</th>\n",
       "    </tr>\n",
       "  </thead>\n",
       "  <tbody>\n",
       "    <tr>\n",
       "      <th>0</th>\n",
       "      <td>265242</td>\n",
       "      <td>1858</td>\n",
       "      <td>13983325</td>\n",
       "    </tr>\n",
       "    <tr>\n",
       "      <th>1</th>\n",
       "      <td>110742</td>\n",
       "      <td>1591</td>\n",
       "      <td>26382569</td>\n",
       "    </tr>\n",
       "    <tr>\n",
       "      <th>2</th>\n",
       "      <td>25442</td>\n",
       "      <td>1586</td>\n",
       "      <td>27532426</td>\n",
       "    </tr>\n",
       "    <tr>\n",
       "      <th>3</th>\n",
       "      <td>112142</td>\n",
       "      <td>1539</td>\n",
       "      <td>23882624</td>\n",
       "    </tr>\n",
       "    <tr>\n",
       "      <th>4</th>\n",
       "      <td>57642</td>\n",
       "      <td>1430</td>\n",
       "      <td>22493690</td>\n",
       "    </tr>\n",
       "  </tbody>\n",
       "</table>\n",
       "</div>"
      ],
      "text/plain": [
       "   Product_ID  Freq  Purchase\n",
       "0      265242  1858  13983325\n",
       "1      110742  1591  26382569\n",
       "2       25442  1586  27532426\n",
       "3      112142  1539  23882624\n",
       "4       57642  1430  22493690"
      ]
     },
     "metadata": {},
     "output_type": "display_data"
    },
    {
     "data": {
      "text/plain": [
       "'Intercept: '"
      ]
     },
     "metadata": {},
     "output_type": "display_data"
    },
    {
     "data": {
      "text/plain": [
       "array([-244185.19322591])"
      ]
     },
     "metadata": {},
     "output_type": "display_data"
    },
    {
     "data": {
      "text/plain": [
       "'Coefficient: '"
      ]
     },
     "metadata": {},
     "output_type": "display_data"
    },
    {
     "data": {
      "text/plain": [
       "array([[10832.34609059]])"
      ]
     },
     "metadata": {},
     "output_type": "display_data"
    }
   ],
   "source": [
    "display(freq_purchase.head())\n",
    "X = freq_purchase[['Freq']].values.reshape(-1, 1)\n",
    "y = freq_purchase[['Purchase']]\n",
    "X_train, X_test, y_train, y_test = train_test_split(X, y, test_size=0.3, random_state=0)\n",
    "reg = linear_model.LinearRegression()\n",
    "reg.fit(X_train, y_train)\n",
    "display(\"Intercept: \", reg.intercept_, \"Coefficient: \", reg.coef_)"
   ]
  },
  {
   "cell_type": "markdown",
   "metadata": {},
   "source": [
    "Our linear model is Purchase = -244185.20 +  10832.35 * Frequency"
   ]
  },
  {
   "cell_type": "code",
   "execution_count": 33,
   "metadata": {},
   "outputs": [
    {
     "data": {
      "text/plain": [
       "array([[5345305.38951792],\n",
       "       [ 145779.26603529],\n",
       "       [1683972.4108989 ],\n",
       "       ...,\n",
       "       [-222520.50104473],\n",
       "       [ 828217.06974238],\n",
       "       [ 286599.76521294]])"
      ]
     },
     "execution_count": 33,
     "metadata": {},
     "output_type": "execute_result"
    }
   ],
   "source": [
    "y_pred = reg.predict(X_test)\n",
    "y_pred"
   ]
  },
  {
   "cell_type": "markdown",
   "metadata": {},
   "source": [
    "Let's plot this model's prediction"
   ]
  },
  {
   "cell_type": "code",
   "execution_count": 34,
   "metadata": {},
   "outputs": [
    {
     "data": {
      "image/png": "[encoded data removed]",
      "text/plain": [
       "<matplotlib.figure.Figure at 0x1cd2cfd2f60>"
      ]
     },
     "metadata": {},
     "output_type": "display_data"
    }
   ],
   "source": [
    "plt.plot(X_train, y_train, \"b.\")\n",
    "plt.plot(X_test, y_pred, \"r-\")\n",
    "plt.show()"
   ]
  },
  {
   "cell_type": "markdown",
   "metadata": {},
   "source": [
    "<b>R-squared</b> is a statistical measure of how close the data are to the fitted regression line. It is also known as the coefficient of determination, or the coefficient of multiple determination for multiple regression. <a href=\"http://blog.minitab.com/blog/adventures-in-statistics-2/regression-analysis-how-do-i-interpret-r-squared-and-assess-the-goodness-of-fit\">Read more</a> \n",
    "<br><br>\n",
    "Most of the time if R-squared score is greater than 60% then it is good enough to use the model. In general, the higher the R-squared, the better the model fits your data. <br><br>Let's check out this model whether it is good or bad with R-squared."
   ]
  },
  {
   "cell_type": "code",
   "execution_count": 35,
   "metadata": {},
   "outputs": [
    {
     "data": {
      "text/plain": [
       "0.835688539457739"
      ]
     },
     "execution_count": 35,
     "metadata": {},
     "output_type": "execute_result"
    }
   ],
   "source": [
    "reg.score(X_test, y_test)"
   ]
  },
  {
   "cell_type": "markdown",
   "metadata": {},
   "source": [
    "It turns out that this r-squared score is very good. Most of the time, we can use this model to predict the new and unseen input. <br>16% indicates that the model explains none of the variability of the response data around its mean.\n",
    "<br>84% indicates that the model explains all the variability of the response data around its mean."
   ]
  },
  {
   "cell_type": "markdown",
   "metadata": {},
   "source": [
    "<b>Fit a multiple linear regression model for Purchase using Occupation and Age</b>\n",
    "<br><br>\n",
    "Since most of the variables in the dataset are categorical, it is necessary to convert these qualitative (characteristic) values to quantitative (numerical) values."
   ]
  },
  {
   "cell_type": "markdown",
   "metadata": {},
   "source": [
    "Occupations in the dataset are already represented as numbers so we just need to assign each age group a numeric value. From the \n",
    "Exploratory Data Analysis, we know the rank of the purchase power of each group, which is a numeric representation of each age group and can be used for the linear regression model."
   ]
  },
  {
   "cell_type": "code",
   "execution_count": 36,
   "metadata": {},
   "outputs": [],
   "source": [
    "numeric = blackfriday[['Age', 'Occupation', 'Purchase', 'Stay_In_Current_City_Years', 'Marital_Status']]\n",
    "numeric = numeric.copy()"
   ]
  },
  {
   "cell_type": "code",
   "execution_count": 37,
   "metadata": {},
   "outputs": [
    {
     "data": {
      "text/html": [
       "<div>\n",
       "<style scoped>\n",
       "    .dataframe tbody tr th:only-of-type {\n",
       "        vertical-align: middle;\n",
       "    }\n",
       "\n",
       "    .dataframe tbody tr th {\n",
       "        vertical-align: top;\n",
       "    }\n",
       "\n",
       "    .dataframe thead th {\n",
       "        text-align: right;\n",
       "    }\n",
       "</style>\n",
       "<table border=\"1\" class=\"dataframe\">\n",
       "  <thead>\n",
       "    <tr style=\"text-align: right;\">\n",
       "      <th></th>\n",
       "      <th>Age</th>\n",
       "      <th>Occupation</th>\n",
       "      <th>Purchase</th>\n",
       "      <th>Stay_In_Current_City_Years</th>\n",
       "      <th>Marital_Status</th>\n",
       "      <th>rank</th>\n",
       "    </tr>\n",
       "  </thead>\n",
       "  <tbody>\n",
       "    <tr>\n",
       "      <th>0</th>\n",
       "      <td>0-17</td>\n",
       "      <td>10</td>\n",
       "      <td>8370</td>\n",
       "      <td>2</td>\n",
       "      <td>0</td>\n",
       "      <td>7.0</td>\n",
       "    </tr>\n",
       "    <tr>\n",
       "      <th>1</th>\n",
       "      <td>0-17</td>\n",
       "      <td>10</td>\n",
       "      <td>15200</td>\n",
       "      <td>2</td>\n",
       "      <td>0</td>\n",
       "      <td>7.0</td>\n",
       "    </tr>\n",
       "    <tr>\n",
       "      <th>2</th>\n",
       "      <td>0-17</td>\n",
       "      <td>10</td>\n",
       "      <td>1422</td>\n",
       "      <td>2</td>\n",
       "      <td>0</td>\n",
       "      <td>7.0</td>\n",
       "    </tr>\n",
       "    <tr>\n",
       "      <th>3</th>\n",
       "      <td>0-17</td>\n",
       "      <td>10</td>\n",
       "      <td>1057</td>\n",
       "      <td>2</td>\n",
       "      <td>0</td>\n",
       "      <td>7.0</td>\n",
       "    </tr>\n",
       "    <tr>\n",
       "      <th>4</th>\n",
       "      <td>55+</td>\n",
       "      <td>16</td>\n",
       "      <td>7969</td>\n",
       "      <td>4</td>\n",
       "      <td>0</td>\n",
       "      <td>6.0</td>\n",
       "    </tr>\n",
       "  </tbody>\n",
       "</table>\n",
       "</div>"
      ],
      "text/plain": [
       "    Age  Occupation  Purchase  Stay_In_Current_City_Years  Marital_Status  \\\n",
       "0  0-17          10      8370                           2               0   \n",
       "1  0-17          10     15200                           2               0   \n",
       "2  0-17          10      1422                           2               0   \n",
       "3  0-17          10      1057                           2               0   \n",
       "4   55+          16      7969                           4               0   \n",
       "\n",
       "   rank  \n",
       "0   7.0  \n",
       "1   7.0  \n",
       "2   7.0  \n",
       "3   7.0  \n",
       "4   6.0  "
      ]
     },
     "execution_count": 37,
     "metadata": {},
     "output_type": "execute_result"
    }
   ],
   "source": [
    "# Assign each age group a numeric value based on the rank of the amount of purchase\n",
    "#     1 is assigned to Age group 26-35\n",
    "#     2 is assigned to Age group 36-45\n",
    "#     3 is assigned to Age group 18-25\n",
    "#     4 is assigned to Age group 46-50\n",
    "#     5 is assigned to Age group 51-55\n",
    "#     6 is assigned to Age group 55+\n",
    "#     7 is assigned to Age group 0-17 \n",
    "\n",
    "for index, row in numeric.iterrows():\n",
    "    if row['Age'] == '26-35':\n",
    "        numeric.at[index, 'rank'] = 1\n",
    "    elif row['Age'] == '36-45':\n",
    "        numeric.at[index, 'rank'] = 2\n",
    "    elif row['Age'] == '18-25':\n",
    "        numeric.at[index, 'rank'] = 3\n",
    "    elif row['Age'] == '46-50':\n",
    "        numeric.at[index, 'rank'] = 4\n",
    "    elif row['Age'] == '51-55':\n",
    "        numeric.at[index, 'rank'] = 5\n",
    "    elif row['Age'] == '55+':\n",
    "        numeric.at[index, 'rank'] = 6\n",
    "    elif row['Age'] == '0-17':\n",
    "        numeric.at[index, 'rank'] = 7\n",
    "numeric.head()"
   ]
  },
  {
   "cell_type": "code",
   "execution_count": 38,
   "metadata": {},
   "outputs": [
    {
     "data": {
      "text/html": [
       "<div>\n",
       "<style scoped>\n",
       "    .dataframe tbody tr th:only-of-type {\n",
       "        vertical-align: middle;\n",
       "    }\n",
       "\n",
       "    .dataframe tbody tr th {\n",
       "        vertical-align: top;\n",
       "    }\n",
       "\n",
       "    .dataframe thead th {\n",
       "        text-align: right;\n",
       "    }\n",
       "</style>\n",
       "<table border=\"1\" class=\"dataframe\">\n",
       "  <thead>\n",
       "    <tr style=\"text-align: right;\">\n",
       "      <th></th>\n",
       "      <th>Occupation</th>\n",
       "      <th>rank</th>\n",
       "    </tr>\n",
       "  </thead>\n",
       "  <tbody>\n",
       "    <tr>\n",
       "      <th>0</th>\n",
       "      <td>10</td>\n",
       "      <td>7.0</td>\n",
       "    </tr>\n",
       "    <tr>\n",
       "      <th>1</th>\n",
       "      <td>10</td>\n",
       "      <td>7.0</td>\n",
       "    </tr>\n",
       "    <tr>\n",
       "      <th>2</th>\n",
       "      <td>10</td>\n",
       "      <td>7.0</td>\n",
       "    </tr>\n",
       "    <tr>\n",
       "      <th>3</th>\n",
       "      <td>10</td>\n",
       "      <td>7.0</td>\n",
       "    </tr>\n",
       "    <tr>\n",
       "      <th>4</th>\n",
       "      <td>16</td>\n",
       "      <td>6.0</td>\n",
       "    </tr>\n",
       "  </tbody>\n",
       "</table>\n",
       "</div>"
      ],
      "text/plain": [
       "   Occupation  rank\n",
       "0          10   7.0\n",
       "1          10   7.0\n",
       "2          10   7.0\n",
       "3          10   7.0\n",
       "4          16   6.0"
      ]
     },
     "execution_count": 38,
     "metadata": {},
     "output_type": "execute_result"
    }
   ],
   "source": [
    "X = numeric[['Occupation', 'rank']]\n",
    "y = numeric.Purchase\n",
    "reg = linear_model.LinearRegression().fit(X, y)\n",
    "X.head()"
   ]
  },
  {
   "cell_type": "code",
   "execution_count": 39,
   "metadata": {},
   "outputs": [
    {
     "name": "stdout",
     "output_type": "stream",
     "text": [
      "                            OLS Regression Results                            \n",
      "==============================================================================\n",
      "Dep. Variable:               Purchase   R-squared:                       0.617\n",
      "Model:                            OLS   Adj. R-squared:                  0.617\n",
      "Method:                 Least Squares   F-statistic:                 4.330e+05\n",
      "Date:                Sat, 15 Dec 2018   Prob (F-statistic):               0.00\n",
      "Time:                        00:11:21   Log-Likelihood:            -5.4864e+06\n",
      "No. Observations:              537577   AIC:                         1.097e+07\n",
      "Df Residuals:                  537575   BIC:                         1.097e+07\n",
      "Df Model:                           2                                         \n",
      "Covariance Type:            nonrobust                                         \n",
      "==============================================================================\n",
      "                 coef    std err          t      P>|t|      [0.025      0.975]\n",
      "------------------------------------------------------------------------------\n",
      "Occupation   373.7333      1.145    326.332      0.000     371.489     375.978\n",
      "rank        1774.2126      4.045    438.614      0.000    1766.284    1782.141\n",
      "==============================================================================\n",
      "Omnibus:                     2780.401   Durbin-Watson:                   1.059\n",
      "Prob(Omnibus):                  0.000   Jarque-Bera (JB):             2740.387\n",
      "Skew:                           0.160   Prob(JB):                         0.00\n",
      "Kurtosis:                       2.860   Cond. No.                         4.88\n",
      "==============================================================================\n",
      "\n",
      "Warnings:\n",
      "[1] Standard Errors assume that the covariance matrix of the errors is correctly specified.\n"
     ]
    }
   ],
   "source": [
    "est1 = sm.OLS(y, X).fit()\n",
    "print(est1.summary())"
   ]
  },
  {
   "cell_type": "markdown",
   "metadata": {},
   "source": [
    "The R-square indicates that: <br>\n",
    "\n",
    "38.3% indicates that the model explains none of the variability of the response data around its mean.\n",
    "<br>61.7% indicates that the model explains all the variability of the response data around its mean."
   ]
  },
  {
   "cell_type": "markdown",
   "metadata": {},
   "source": [
    "# <section id=\"10\">Logistic Regression </section>"
   ]
  },
  {
   "cell_type": "markdown",
   "metadata": {},
   "source": [
    "<b>Classify Gender Given Occupation</b>"
   ]
  },
  {
   "cell_type": "markdown",
   "metadata": {},
   "source": [
    "There is a challenge in our dataset which is imbalance between the number of male and female. The number of observations for female are only one third over male. Standard classifier algorithms like Logistic Regression has a bias towards classes which have number of instances. The tend to only predict the majority class. The features of minority are treated as noise and are often ignored. Thus there is a high probability of misclassification of the minority class as compared to the majority class.\n",
    "<br><br>\n",
    "There are several approaches to handle imbalance datasets: \n",
    "<br>\n",
    "<ul>\n",
    "    <li>Random Resampling</li>\n",
    "    <li>Cluster-Based Over Sampling</li>\n",
    "    <li>Informed Over Sampling: Synthetic Minority Over-sampling Technique</li>\n",
    "    <li>Modified synthetic minority oversampling technique</li>\n",
    "</ul>\n",
    "<br>\n",
    "In our case, I would like to try out the Random Resampling Approach. "
   ]
  },
  {
   "cell_type": "code",
   "execution_count": 40,
   "metadata": {},
   "outputs": [
    {
     "data": {
      "text/html": [
       "<div>\n",
       "<style scoped>\n",
       "    .dataframe tbody tr th:only-of-type {\n",
       "        vertical-align: middle;\n",
       "    }\n",
       "\n",
       "    .dataframe tbody tr th {\n",
       "        vertical-align: top;\n",
       "    }\n",
       "\n",
       "    .dataframe thead th {\n",
       "        text-align: right;\n",
       "    }\n",
       "</style>\n",
       "<table border=\"1\" class=\"dataframe\">\n",
       "  <thead>\n",
       "    <tr style=\"text-align: right;\">\n",
       "      <th></th>\n",
       "      <th>User_ID</th>\n",
       "      <th>Gender</th>\n",
       "      <th>Occupation</th>\n",
       "      <th>Mean_age</th>\n",
       "      <th>Marital_Status</th>\n",
       "      <th>Purchase</th>\n",
       "    </tr>\n",
       "  </thead>\n",
       "  <tbody>\n",
       "    <tr>\n",
       "      <th>0</th>\n",
       "      <td>1000001</td>\n",
       "      <td>0</td>\n",
       "      <td>10</td>\n",
       "      <td>8.5</td>\n",
       "      <td>0</td>\n",
       "      <td>333481</td>\n",
       "    </tr>\n",
       "    <tr>\n",
       "      <th>1</th>\n",
       "      <td>1000002</td>\n",
       "      <td>1</td>\n",
       "      <td>16</td>\n",
       "      <td>67.5</td>\n",
       "      <td>0</td>\n",
       "      <td>810353</td>\n",
       "    </tr>\n",
       "    <tr>\n",
       "      <th>2</th>\n",
       "      <td>1000003</td>\n",
       "      <td>1</td>\n",
       "      <td>15</td>\n",
       "      <td>30.5</td>\n",
       "      <td>0</td>\n",
       "      <td>341635</td>\n",
       "    </tr>\n",
       "    <tr>\n",
       "      <th>3</th>\n",
       "      <td>1000004</td>\n",
       "      <td>1</td>\n",
       "      <td>7</td>\n",
       "      <td>48.0</td>\n",
       "      <td>1</td>\n",
       "      <td>205987</td>\n",
       "    </tr>\n",
       "    <tr>\n",
       "      <th>4</th>\n",
       "      <td>1000005</td>\n",
       "      <td>1</td>\n",
       "      <td>20</td>\n",
       "      <td>30.5</td>\n",
       "      <td>1</td>\n",
       "      <td>821001</td>\n",
       "    </tr>\n",
       "  </tbody>\n",
       "</table>\n",
       "</div>"
      ],
      "text/plain": [
       "   User_ID  Gender  Occupation  Mean_age  Marital_Status  Purchase\n",
       "0  1000001       0          10       8.5               0    333481\n",
       "1  1000002       1          16      67.5               0    810353\n",
       "2  1000003       1          15      30.5               0    341635\n",
       "3  1000004       1           7      48.0               1    205987\n",
       "4  1000005       1          20      30.5               1    821001"
      ]
     },
     "execution_count": 40,
     "metadata": {},
     "output_type": "execute_result"
    }
   ],
   "source": [
    "purchase_by_user = blackfriday.groupby(['User_ID', 'Gender', 'Occupation', 'Mean_age', 'Marital_Status']).agg({'Purchase': np.sum})\n",
    "purchase_by_user.reset_index(inplace=True)\n",
    "purchase_by_user.Gender = purchase_by_user.Gender.map({'F':0, 'M': 1})\n",
    "purchase_by_user.head()"
   ]
  },
  {
   "cell_type": "code",
   "execution_count": 41,
   "metadata": {},
   "outputs": [],
   "source": [
    "male = purchase_by_user[purchase_by_user.Gender==1] # Get all male \n",
    "female = purchase_by_user[purchase_by_user.Gender==0] # Get all female\n",
    "male = male.head(int(len(male)/2)) # only need half of the male population\n",
    "new_df = pd.concat([male, female, female]) # double the number of female population"
   ]
  },
  {
   "cell_type": "code",
   "execution_count": 42,
   "metadata": {},
   "outputs": [],
   "source": [
    "X = new_df[['Occupation']].values.reshape(-1,1)\n",
    "y = new_df['Gender'] #1 as Male, 0 as Female"
   ]
  },
  {
   "cell_type": "code",
   "execution_count": 43,
   "metadata": {},
   "outputs": [
    {
     "name": "stdout",
     "output_type": "stream",
     "text": [
      "Accuracy of logistic regression classifier on test set: 0.64\n"
     ]
    }
   ],
   "source": [
    "X_train, X_test, y_train, y_test = train_test_split(X, y, test_size=0.3, random_state=0)\n",
    "log_reg = linear_model.LogisticRegression()\n",
    "log_reg.fit(X_train,y_train)\n",
    "y_pred = log_reg.predict(X_test)\n",
    "print('Accuracy of logistic regression classifier on test set: {:.2f}'.format(log_reg.score(X_test, y_test)))"
   ]
  },
  {
   "cell_type": "markdown",
   "metadata": {},
   "source": [
    "### Compute precision, recall, F-measure and support\n",
    "<br> Precision-Recall is a useful measure of success of prediction when the classes are very imbalanced. In information retrieval, precision is a measure of result relevancy, while recall is a measure of how many truly relevant results are returned."
   ]
  },
  {
   "cell_type": "code",
   "execution_count": 44,
   "metadata": {
    "scrolled": true
   },
   "outputs": [
    {
     "name": "stdout",
     "output_type": "stream",
     "text": [
      "             precision    recall  f1-score   support\n",
      "\n",
      "          0       0.64      0.93      0.76      1003\n",
      "          1       0.62      0.18      0.28       631\n",
      "\n",
      "avg / total       0.64      0.64      0.58      1634\n",
      "\n"
     ]
    }
   ],
   "source": [
    "print(classification_report(y_test, y_pred))"
   ]
  },
  {
   "cell_type": "markdown",
   "metadata": {},
   "source": [
    "Precision: 64% female and 62% male selected instances are relevant.\n",
    "<br> Recall: 93% female and only 18% male relevant instances are selected."
   ]
  },
  {
   "cell_type": "markdown",
   "metadata": {},
   "source": [
    "Now, let's try Bagging Classifier to see if the result is better than Logistic Regression"
   ]
  },
  {
   "cell_type": "code",
   "execution_count": 45,
   "metadata": {},
   "outputs": [
    {
     "data": {
      "text/plain": [
       "0.6590551181102362"
      ]
     },
     "execution_count": 45,
     "metadata": {},
     "output_type": "execute_result"
    }
   ],
   "source": [
    "from sklearn.ensemble import BaggingClassifier\n",
    "from sklearn.tree import DecisionTreeClassifier\n",
    "\n",
    "bag_clf = BaggingClassifier(DecisionTreeClassifier(), n_estimators=1000, max_samples=0.8, bootstrap=True, n_jobs=-1, oob_score=True)\n",
    "bag_clf.fit(X_train, y_train)\n",
    "y_pred = bag_clf.predict(X_test)\n",
    "bag_clf.oob_score_"
   ]
  },
  {
   "cell_type": "markdown",
   "metadata": {},
   "source": [
    "According to this oob evaluation, this BaggingClassifier is likely to achieve about 65.9% accuracy on the test set. Let's verify this:"
   ]
  },
  {
   "cell_type": "code",
   "execution_count": 46,
   "metadata": {},
   "outputs": [
    {
     "data": {
      "text/plain": [
       "0.6542227662178702"
      ]
     },
     "execution_count": 46,
     "metadata": {},
     "output_type": "execute_result"
    }
   ],
   "source": [
    "accuracy_score(y_test, y_pred)"
   ]
  },
  {
   "cell_type": "markdown",
   "metadata": {},
   "source": [
    "We get 65.4% accuracy on the test set. It is close enough."
   ]
  },
  {
   "cell_type": "markdown",
   "metadata": {},
   "source": [
    "### Compute precision, recall, F-measure and support"
   ]
  },
  {
   "cell_type": "code",
   "execution_count": 47,
   "metadata": {
    "scrolled": true
   },
   "outputs": [
    {
     "name": "stdout",
     "output_type": "stream",
     "text": [
      "             precision    recall  f1-score   support\n",
      "\n",
      "          0       0.66      0.89      0.76      1003\n",
      "          1       0.61      0.28      0.39       631\n",
      "\n",
      "avg / total       0.64      0.65      0.61      1634\n",
      "\n"
     ]
    }
   ],
   "source": [
    "print(classification_report(y_test, y_pred))"
   ]
  },
  {
   "cell_type": "markdown",
   "metadata": {},
   "source": [
    "As we can see, the result is a little bit better than Logistic Regression. But there is a tradeoff when we use BaggingClassifier. The precision in female increases but the recall decreases. With male, the precision decreases while the recall increases. \n",
    "<br>\n",
    "<br>Precision: 66% female and 61% male selected instances are relevant. \n",
    "<br>Recall: 89% female and only 28% male relevant instances are selected."
   ]
  },
  {
   "cell_type": "markdown",
   "metadata": {},
   "source": [
    "<b>Classify Marrital Status Given Mean Age</b>"
   ]
  },
  {
   "cell_type": "code",
   "execution_count": 48,
   "metadata": {},
   "outputs": [],
   "source": [
    "X = purchase_by_user[['Mean_age']].values.reshape(-1,1)\n",
    "y = purchase_by_user['Marital_Status']"
   ]
  },
  {
   "cell_type": "code",
   "execution_count": 49,
   "metadata": {},
   "outputs": [
    {
     "name": "stdout",
     "output_type": "stream",
     "text": [
      "Accuracy of logistic regression classifier on test set: 0.67\n"
     ]
    }
   ],
   "source": [
    "X_train, X_test, y_train, y_test = train_test_split(X, y, test_size=0.3, random_state=0)\n",
    "log_reg = linear_model.LogisticRegression()\n",
    "log_reg.fit(X_train,y_train)\n",
    "y_pred = log_reg.predict(X_test)\n",
    "print('Accuracy of logistic regression classifier on test set: {:.2f}'.format(log_reg.score(X_test, y_test)))"
   ]
  },
  {
   "cell_type": "markdown",
   "metadata": {},
   "source": [
    "### Compute precision, recall, F-measure and support"
   ]
  },
  {
   "cell_type": "code",
   "execution_count": 50,
   "metadata": {},
   "outputs": [
    {
     "name": "stdout",
     "output_type": "stream",
     "text": [
      "             precision    recall  f1-score   support\n",
      "\n",
      "          0       0.67      0.87      0.76      1032\n",
      "          1       0.68      0.39      0.50       736\n",
      "\n",
      "avg / total       0.67      0.67      0.65      1768\n",
      "\n"
     ]
    }
   ],
   "source": [
    "print(classification_report(y_test, y_pred))"
   ]
  },
  {
   "cell_type": "markdown",
   "metadata": {},
   "source": [
    "Now, let's try Bagging Classifier to see if the result is better than Logistic Regression"
   ]
  },
  {
   "cell_type": "code",
   "execution_count": 51,
   "metadata": {},
   "outputs": [
    {
     "data": {
      "text/plain": [
       "0.670870725200097"
      ]
     },
     "execution_count": 51,
     "metadata": {},
     "output_type": "execute_result"
    }
   ],
   "source": [
    "bag_clf = BaggingClassifier(DecisionTreeClassifier(), n_estimators=1000, max_samples=0.8, bootstrap=True, n_jobs=-1, oob_score=True)\n",
    "bag_clf.fit(X_train, y_train)\n",
    "y_pred = bag_clf.predict(X_test)\n",
    "bag_clf.oob_score_"
   ]
  },
  {
   "cell_type": "markdown",
   "metadata": {},
   "source": [
    "According to this oob evaluation, this BaggingClassifier is likely to achieve about 67.1% accuracy on the test set. Let's verify this:"
   ]
  },
  {
   "cell_type": "code",
   "execution_count": 52,
   "metadata": {},
   "outputs": [
    {
     "data": {
      "text/plain": [
       "0.6702488687782805"
      ]
     },
     "execution_count": 52,
     "metadata": {},
     "output_type": "execute_result"
    }
   ],
   "source": [
    "accuracy_score(y_test, y_pred)"
   ]
  },
  {
   "cell_type": "markdown",
   "metadata": {},
   "source": [
    "We get 67.0% accuracy on the test set. It is close enough."
   ]
  },
  {
   "cell_type": "markdown",
   "metadata": {},
   "source": [
    "### Compute precision, recall, F-measure and support"
   ]
  },
  {
   "cell_type": "code",
   "execution_count": 53,
   "metadata": {},
   "outputs": [
    {
     "name": "stdout",
     "output_type": "stream",
     "text": [
      "             precision    recall  f1-score   support\n",
      "\n",
      "          0       0.67      0.87      0.76      1032\n",
      "          1       0.68      0.39      0.50       736\n",
      "\n",
      "avg / total       0.67      0.67      0.65      1768\n",
      "\n"
     ]
    }
   ],
   "source": [
    "print(classification_report(y_test, y_pred))"
   ]
  },
  {
   "cell_type": "markdown",
   "metadata": {},
   "source": [
    "# <section id=\"conclusion\">Conclusion</section>"
   ]
  },
  {
   "cell_type": "markdown",
   "metadata": {},
   "source": [
    "Black Friday is the biggest day of shopping in the year. The goal of our project was to take the dataset of Black Friday sales and use the techniques we learned throughout the semester to extract data that will help advertisers and retailers make the most of it. Using Exploratory data analysis, and regression  we saw  how attributes such as age, gender, marital status, and more affect the way one should expect people to shop that day. The result of this project will help retailers advertise to the right target groups for their products, leading to more happy purchases, resulting in a happier holiday season!"
   ]
  },
  {
   "cell_type": "markdown",
   "metadata": {},
   "source": [
    "<img src=\"happy.jpg\" width=\"900\" height=\"600\"/>"
   ]
  }
 ],
 "metadata": {
  "kernelspec": {
   "display_name": "Python 3",
   "language": "python",
   "name": "python3"
  },
  "language_info": {
   "codemirror_mode": {
    "name": "ipython",
    "version": 3
   },
   "file_extension": ".py",
   "mimetype": "text/x-python",
   "name": "python",
   "nbconvert_exporter": "python",
   "pygments_lexer": "ipython3",
   "version": "3.6.4"
  }
 },
 "nbformat": 4,
 "nbformat_minor": 2
}
